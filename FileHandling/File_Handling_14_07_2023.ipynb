{
 "cells": [
  {
   "cell_type": "code",
   "execution_count": 1,
   "id": "f9015127",
   "metadata": {},
   "outputs": [],
   "source": [
    "#                     File Handling "
   ]
  },
  {
   "cell_type": "code",
   "execution_count": null,
   "id": "5053a686",
   "metadata": {},
   "outputs": [],
   "source": [
    "\n",
    "# # File handling in Python refers to the process of working with files,\n",
    "# # including reading from and writing to files. Python provides built-in \n",
    "# # functions and methods to perform various file operations. \n",
    "# # Here's an overview of the basic file handling operations in Python:\n",
    "\n",
    "# # Opening a File:\n",
    "# #          To open a file, you can use the built-in open() function, which takes the \n",
    "# #         file path and the mode as parameters. The mode can be 'r' for reading, \n",
    "# #         'w' for writing (creating a new file or overwriting an existing file), \n",
    "# #         'a' for appending (adding data to the end of an existing file), or \n",
    "# #         'x' for exclusive creation (creating a new file but raising an error\n",
    "#              if it already exists).\n",
    "\n",
    "# # python\n",
    "# # Copy code\n",
    "# file = open(\"filename.txt\", \"r\")  # Open file for reading\n",
    "\n",
    "\n",
    "# Reading from a File:\n",
    "#             Once a file is opened for reading, you can use\n",
    "#         various methods to read its contents. The most common methods are:\n",
    "\n",
    "# read(): Reads the entire content of the file as a string.\n",
    "# readline(): Reads a single line from the file.\n",
    "# readlines(): Reads all lines of the file and returns them as a list.\n",
    "    \n",
    "    \n",
    "# python\n",
    "# Copy code\n",
    "# content = file.read()  # Read the entire file content\n",
    "# line = file.readline()  # Read a single line\n",
    "# lines = file.readlines()  # Read all lines\n",
    "# Writing to a File:\n",
    "# To write data to a file, you need to open it in write mode or append mode. You can use the following methods to write data:\n",
    "\n",
    "# write(): Writes a string to the file.\n",
    "# writelines(): Writes a list of strings to the file.\n",
    "    \n",
    "    \n",
    "# python\n",
    "# Copy code\n",
    "# file = open(\"filename.txt\", \"w\")  # Open file for writing\n",
    "# file.write(\"Hello, World!\")  # Write a string to the file\n",
    "# file.close()  # Close the file\n",
    "# Closing a File:\n",
    "# It's important to close the file after you finish working with it. You can do this by calling the close() method on the file object.\n",
    "\n",
    "# python\n",
    "# Copy code\n",
    "# file.close()  # Close the file\n",
    "# Alternatively, you can use the with statement, which automatically takes care of closing the file:\n",
    "\n",
    "# python\n",
    "# Copy code\n",
    "# with open(\"filename.txt\", \"r\") as file:\n",
    "#     # Perform operations on the file\n",
    "#     # The file will be automatically closed after this block\n",
    "# These are the basic file handling operations in Python. \n",
    "#    It's important to handle exceptions and errors that may occur during file operations,\n",
    "#     and ensure proper file closure to avoid resource leaks."
   ]
  },
  {
   "cell_type": "code",
   "execution_count": 2,
   "id": "be30b48a",
   "metadata": {},
   "outputs": [],
   "source": [
    "f=open(\"prashant.text\",\"w\")"
   ]
  },
  {
   "cell_type": "code",
   "execution_count": 4,
   "id": "70ce56e7",
   "metadata": {},
   "outputs": [
    {
     "data": {
      "text/plain": [
       "'C:\\\\Users\\\\PRASHANT\\\\Desktop\\\\Python-Jupyter-Lab\\\\Python-Jupyter-Lab'"
      ]
     },
     "execution_count": 4,
     "metadata": {},
     "output_type": "execute_result"
    }
   ],
   "source": [
    "pwd"
   ]
  },
  {
   "cell_type": "code",
   "execution_count": 3,
   "id": "09fe3be9",
   "metadata": {},
   "outputs": [
    {
     "name": "stdout",
     "output_type": "stream",
     "text": [
      " Volume in drive C is OS\n",
      " Volume Serial Number is B4A1-DF23\n",
      "\n",
      " Directory of C:\\Users\\PRASHANT\\Desktop\\Python-Jupyter-Lab\\Python-Jupyter-Lab\n",
      "\n",
      "13/07/2023  07:54            43,183 (Magic_and_Dunder)_property_decoraters_13_07_2023.ipynb\n",
      "13/07/2023  08:01    <DIR>          .\n",
      "08/07/2023  16:17    <DIR>          ..\n",
      "13/07/2023  07:55    <DIR>          .ipynb_checkpoints\n",
      "08/07/2023  16:12            21,552 basic 02_07_2023.ipynb\n",
      "08/07/2023  16:12            34,924 Basic01_07_2023.ipynb\n",
      "08/07/2023  16:12            18,930 basic03_03_2023.ipynb\n",
      "08/07/2023  16:12            20,533 basic04_07_2023.ipynb\n",
      "08/07/2023  16:12             4,168 basic05_07_2023.py\n",
      "13/07/2023  08:01             4,369 File_Handling_13_07_2023.ipynb\n",
      "08/07/2023  16:12            19,727 first.ipynb\n",
      "08/07/2023  16:12            32,595 functions06_07_2023.ipynb\n",
      "08/07/2023  16:12            33,211 functions07_07_2023.ipynb\n",
      "08/07/2023  16:12             7,509 functions08_07_2023.ipynb\n",
      "10/07/2023  06:08             6,100 GuessGame.ipynb\n",
      "10/07/2023  09:18            22,732 OOPS_10_07_2023.ipynb\n",
      "11/07/2023  07:55            15,996 OOPS_11_07_2023.ipynb\n",
      "09/07/2023  08:17            17,341 OOPS09_07_2023.ipynb\n",
      "13/07/2023  08:00                 0 prashant.text\n",
      "08/07/2023  16:12            16,946 python basic 29_06_2023.ipynb\n",
      "08/07/2023  16:12            31,959 python basic third30_06_2023.ipynb\n",
      "08/07/2023  16:12             8,201 python basic.ipynb\n",
      "08/07/2023  16:12            22,171 PYTHON_OOPS_08_07_2023.ipynb\n",
      "12/07/2023  09:40             9,289 sakshi 2 python.py\n",
      "12/07/2023  10:06             4,136 staticmethod_12_07_2023.ipynb\n",
      "              22 File(s)        395,572 bytes\n",
      "               3 Dir(s)  65,332,281,344 bytes free\n"
     ]
    }
   ],
   "source": [
    "ls"
   ]
  },
  {
   "cell_type": "code",
   "execution_count": 5,
   "id": "d38f2683",
   "metadata": {},
   "outputs": [
    {
     "data": {
      "text/plain": [
       "15"
      ]
     },
     "execution_count": 5,
     "metadata": {},
     "output_type": "execute_result"
    }
   ],
   "source": [
    "f.write(\"Hello, prashant\")\n"
   ]
  },
  {
   "cell_type": "code",
   "execution_count": 6,
   "id": "e8f36cc9",
   "metadata": {},
   "outputs": [],
   "source": [
    "f.close ()"
   ]
  },
  {
   "cell_type": "code",
   "execution_count": 9,
   "id": "c6802b9f",
   "metadata": {},
   "outputs": [],
   "source": [
    "f=open(\"prashant.text\",\"w\")"
   ]
  },
  {
   "cell_type": "code",
   "execution_count": 10,
   "id": "9d75501c",
   "metadata": {},
   "outputs": [],
   "source": [
    "f.write(\"PRASHANT\")\n",
    "f.close()"
   ]
  },
  {
   "cell_type": "code",
   "execution_count": 78,
   "id": "f6ff40a1",
   "metadata": {},
   "outputs": [],
   "source": [
    "filename=(\"prashant.text\")\n",
    "f=open(filename,\"a\")\n",
    "f.write(\" Jadhav \")\n",
    "f.close()"
   ]
  },
  {
   "cell_type": "code",
   "execution_count": 16,
   "id": "a5fa76e1",
   "metadata": {},
   "outputs": [
    {
     "name": "stdout",
     "output_type": "stream",
     "text": [
      "PRASHANT Jadhav   "
     ]
    }
   ],
   "source": [
    "f=open(filename,\"r\")\n",
    "obj=f.read()\n",
    "for i in obj:\n",
    "    print(i ,end=\"\")"
   ]
  },
  {
   "cell_type": "code",
   "execution_count": 17,
   "id": "b42be525",
   "metadata": {},
   "outputs": [
    {
     "data": {
      "text/plain": [
       "'PRASHANT Jadhav   '"
      ]
     },
     "execution_count": 17,
     "metadata": {},
     "output_type": "execute_result"
    }
   ],
   "source": [
    "f=open(filename,\"r\")\n",
    "f.read()"
   ]
  },
  {
   "cell_type": "code",
   "execution_count": 107,
   "id": "dde9e1e9",
   "metadata": {},
   "outputs": [],
   "source": [
    "f=open(filename,\"a\")\n",
    "f.write(\" Certainly! I am ChatGPT, an AI language model developed by OpenAI. \\n I am based on the GPT-3.5 architecture, which stands for 'Generative Pre-trained Transformer 3.5.\\n' I have been trained on a vast amount of text data from the internet, including books, articles, and websites, to generate human-like responses to user queries. \\n As an AI language model, my purpose is to assist and provide information on a wide range of topics. I can help answer questions, engage in conversations, offer explanations, and provide suggestions. \\n My capabilities include language translation, text completion, sentiment analysis, and more.It's important to note that while I strive to provide accurate and up-to-date information, my responses are generated based on patterns and information available up until September 2021. Therefore, I may not have knowledge of events or developments that have occurred after that date. \")\n",
    "f.close()"
   ]
  },
  {
   "cell_type": "code",
   "execution_count": 20,
   "id": "31c1d784",
   "metadata": {},
   "outputs": [
    {
     "data": {
      "text/plain": [
       "\"PRASHANT Jadhav    Certainly! I am ChatGPT, an AI language model developed by OpenAI. I am based on the GPT-3.5 architecture, which stands for 'Generative Pre-trained Transformer 3.5.' I have been trained on a vast amount of text data from the internet, including books, articles, and websites, to generate human-like responses to user queries.As an AI language model, my purpose is to assist and provide information on a wide range of topics. I can help answer questions, engage in conversations, offer explanations, and provide suggestions. My capabilities include language translation, text completion, sentiment analysis, and more.It's important to note that while I strive to provide accurate and up-to-date information, my responses are generated based on patterns and information available up until September 2021. Therefore, I may not have knowledge of events or developments that have occurred after that date. \""
      ]
     },
     "execution_count": 20,
     "metadata": {},
     "output_type": "execute_result"
    }
   ],
   "source": [
    "f=open(filename,\"r\")\n",
    "f.read()"
   ]
  },
  {
   "cell_type": "code",
   "execution_count": 24,
   "id": "922f49e8",
   "metadata": {},
   "outputs": [
    {
     "data": {
      "text/plain": [
       "''"
      ]
     },
     "execution_count": 24,
     "metadata": {},
     "output_type": "execute_result"
    }
   ],
   "source": [
    "data=open(filename,\"r\")\n",
    "data.read()\n",
    "data.readline()"
   ]
  },
  {
   "cell_type": "code",
   "execution_count": 25,
   "id": "0e608db5",
   "metadata": {},
   "outputs": [
    {
     "data": {
      "text/plain": [
       "0"
      ]
     },
     "execution_count": 25,
     "metadata": {},
     "output_type": "execute_result"
    }
   ],
   "source": [
    "# Cursor goes to the First Element \n",
    "data.seek(0)  "
   ]
  },
  {
   "cell_type": "code",
   "execution_count": 27,
   "id": "b656639e",
   "metadata": {},
   "outputs": [
    {
     "data": {
      "text/plain": [
       "'. '"
      ]
     },
     "execution_count": 27,
     "metadata": {},
     "output_type": "execute_result"
    }
   ],
   "source": [
    "data.readline()"
   ]
  },
  {
   "cell_type": "code",
   "execution_count": 28,
   "id": "15e426c5",
   "metadata": {},
   "outputs": [
    {
     "data": {
      "text/plain": [
       "0"
      ]
     },
     "execution_count": 28,
     "metadata": {},
     "output_type": "execute_result"
    }
   ],
   "source": [
    "data.seek(0)  "
   ]
  },
  {
   "cell_type": "code",
   "execution_count": 29,
   "id": "e7afae50",
   "metadata": {},
   "outputs": [
    {
     "data": {
      "text/plain": [
       "'PRASHANT Jadhav   \\n'"
      ]
     },
     "execution_count": 29,
     "metadata": {},
     "output_type": "execute_result"
    }
   ],
   "source": [
    "data.readline()"
   ]
  },
  {
   "cell_type": "code",
   "execution_count": 30,
   "id": "35e07f57",
   "metadata": {},
   "outputs": [
    {
     "data": {
      "text/plain": [
       "[\" Certainly! I am ChatGPT, an AI language model developed by OpenAI. I am based on the GPT-3.5 architecture, which stands for 'Generative Pre-trained Transformer 3.5.' I have been trained on a vast amount of text data from the internet, including books, articles, and websites, to generate human-like responses to user queries.As an AI language model, my purpose is to assist and provide information on a wide range of topics. I can help answer questions, engage in conversations, offer explanations, and provide suggestions. My capabilities include language translation, text completion, sentiment analysis, and more.It's important to note that while I strive to provide accurate and up-to-date information, my responses are generated based on patterns and information available up until September 2021. Therefore, I may not have knowledge of events or developments that have occurred after that date. \"]"
      ]
     },
     "execution_count": 30,
     "metadata": {},
     "output_type": "execute_result"
    }
   ],
   "source": [
    "data.readlines()"
   ]
  },
  {
   "cell_type": "code",
   "execution_count": 31,
   "id": "0c15d74e",
   "metadata": {},
   "outputs": [
    {
     "data": {
      "text/plain": [
       "0"
      ]
     },
     "execution_count": 31,
     "metadata": {},
     "output_type": "execute_result"
    }
   ],
   "source": [
    "data.seek(0)  "
   ]
  },
  {
   "cell_type": "code",
   "execution_count": 32,
   "id": "28d6c34b",
   "metadata": {},
   "outputs": [
    {
     "data": {
      "text/plain": [
       "['PRASHANT Jadhav   \\n',\n",
       " \" Certainly! I am ChatGPT, an AI language model developed by OpenAI. I am based on the GPT-3.5 architecture, which stands for 'Generative Pre-trained Transformer 3.5.' I have been trained on a vast amount of text data from the internet, including books, articles, and websites, to generate human-like responses to user queries.As an AI language model, my purpose is to assist and provide information on a wide range of topics. I can help answer questions, engage in conversations, offer explanations, and provide suggestions. My capabilities include language translation, text completion, sentiment analysis, and more.It's important to note that while I strive to provide accurate and up-to-date information, my responses are generated based on patterns and information available up until September 2021. Therefore, I may not have knowledge of events or developments that have occurred after that date. \"]"
      ]
     },
     "execution_count": 32,
     "metadata": {},
     "output_type": "execute_result"
    }
   ],
   "source": [
    "data.readlines()"
   ]
  },
  {
   "cell_type": "code",
   "execution_count": 60,
   "id": "e4bb1f94",
   "metadata": {},
   "outputs": [
    {
     "data": {
      "text/plain": [
       "[\"offer explanations, and provide suggestions. My capabilities include language translation, text completion, sentiment analysis, and more.It's important to note that while I strive to provide accurate and up-to-date information, my responses are generated based on patterns and information available up until September 2021. Therefore, I may not have knowledge of events or developments that have occurred after that date. \"]"
      ]
     },
     "execution_count": 60,
     "metadata": {},
     "output_type": "execute_result"
    }
   ],
   "source": [
    "data.seek(500)  \n",
    "data.readlines()"
   ]
  },
  {
   "cell_type": "code",
   "execution_count": 61,
   "id": "034a132c",
   "metadata": {},
   "outputs": [
    {
     "data": {
      "text/plain": [
       "['and up-to-date information, my responses are generated based on patterns and information available up until September 2021. Therefore, I may not have knowledge of events or developments that have occurred after that date. ']"
      ]
     },
     "execution_count": 61,
     "metadata": {},
     "output_type": "execute_result"
    }
   ],
   "source": [
    "data.seek(700)  \n",
    "data.readlines()"
   ]
  },
  {
   "cell_type": "code",
   "execution_count": 55,
   "id": "9a7429fc",
   "metadata": {},
   "outputs": [
    {
     "data": {
      "text/plain": [
       "922"
      ]
     },
     "execution_count": 55,
     "metadata": {},
     "output_type": "execute_result"
    }
   ],
   "source": [
    "data.seek(922)  "
   ]
  },
  {
   "cell_type": "code",
   "execution_count": 56,
   "id": "c66c869e",
   "metadata": {},
   "outputs": [
    {
     "data": {
      "text/plain": [
       "[]"
      ]
     },
     "execution_count": 56,
     "metadata": {},
     "output_type": "execute_result"
    }
   ],
   "source": [
    "data.readlines()"
   ]
  },
  {
   "cell_type": "code",
   "execution_count": 57,
   "id": "af970995",
   "metadata": {},
   "outputs": [
    {
     "name": "stdout",
     "output_type": "stream",
     "text": [
      "PRASHANT Jadhav   \n",
      " Certainly! I am ChatGPT, an AI language model developed by OpenAI. I am based on the GPT-3.5 architecture, which stands for 'Generative Pre-trained Transformer 3.5.' I have been trained on a vast amount of text data from the internet, including books, articles, and websites, to generate human-like responses to user queries.As an AI language model, my purpose is to assist and provide information on a wide range of topics. I can help answer questions, engage in conversations, offer explanations, and provide suggestions. My capabilities include language translation, text completion, sentiment analysis, and more.It's important to note that while I strive to provide accurate and up-to-date information, my responses are generated based on patterns and information available up until September 2021. Therefore, I may not have knowledge of events or developments that have occurred after that date. "
     ]
    }
   ],
   "source": [
    "f=open(filename,\"r\")\n",
    "obj=f.read()\n",
    "for i in obj:\n",
    "    print(i ,end=\"\")"
   ]
  },
  {
   "cell_type": "code",
   "execution_count": 58,
   "id": "14e0b1ca",
   "metadata": {},
   "outputs": [
    {
     "data": {
      "text/plain": [
       "<_io.TextIOWrapper name='prashant.text' mode='r' encoding='cp1252'>"
      ]
     },
     "execution_count": 58,
     "metadata": {},
     "output_type": "execute_result"
    }
   ],
   "source": [
    "f"
   ]
  },
  {
   "cell_type": "code",
   "execution_count": 59,
   "id": "f1a79a7a",
   "metadata": {},
   "outputs": [
    {
     "data": {
      "text/plain": [
       "''"
      ]
     },
     "execution_count": 59,
     "metadata": {},
     "output_type": "execute_result"
    }
   ],
   "source": [
    "f.read()"
   ]
  },
  {
   "cell_type": "code",
   "execution_count": 62,
   "id": "0429ba50",
   "metadata": {},
   "outputs": [],
   "source": [
    "# filename=(\"prashant.pdf\")\n",
    "# f=open(filename,\"a\")\n",
    "# f.write(\" Prashant Jadhav \")\n",
    "# f.close()"
   ]
  },
  {
   "cell_type": "code",
   "execution_count": 73,
   "id": "4f226ea3",
   "metadata": {},
   "outputs": [
    {
     "name": "stdout",
     "output_type": "stream",
     "text": [
      " Prashant Jadhav  Certainly! I am ChatGPT, an AI language model developed by OpenAI. I am based on the GPT-3.5 architecture, which stands for 'Generative Pre-trained Transformer 3.5.' I have been trained on a vast amount of text data from the internet, including books, articles, and websites, to generate human-like responses to user queries.As an AI language model, my purpose is to assist and provide information on a wide range of topics. I can help answer questions, engage in conversations, offer explanations, and provide suggestions. My capabilities include language translation, text completion, sentiment analysis, and more.It's important to note that while I strive to provide accurate and up-to-date information, my responses are generated based on patterns and information available up until September 2021. Therefore, I may not have knowledge of events or developments that have occurred after that date.  Certainly! I am ChatGPT, an AI language model developed by OpenAI. I am based on the GPT-3.5 architecture, which stands for 'Generative Pre-trained Transformer 3.5.' I have been trained on a vast amount of text data from the internet, including books, articles, and websites, to generate human-like responses to user queries.As an AI language model, my purpose is to assist and provide information on a wide range of topics. I can help answer questions, engage in conversations, offer explanations, and provide suggestions. My capabilities include language translation, text completion, sentiment analysis, and more.It's important to note that while I strive to provide accurate and up-to-date information, my responses are generated based on patterns and information available up until September 2021. Therefore, I may not have knowledge of events or developments that have occurred after that date. \n"
     ]
    }
   ],
   "source": [
    "# Read the data from file a line by line9\n",
    "f=open(filename,\"r\")\n",
    "for i in f:\n",
    "    print(i )"
   ]
  },
  {
   "cell_type": "code",
   "execution_count": 81,
   "id": "d2ad44d0",
   "metadata": {},
   "outputs": [
    {
     "name": "stdout",
     "output_type": "stream",
     "text": [
      "PRASHANT Jadhav   \n",
      "PRASHANT Jadhav   \n",
      "\n",
      " Certainly! I am ChatGPT, an AI language model developed by OpenAI. I am based on the GPT-3.5 architecture, which stands for 'Generative Pre-trained Transformer 3.5.' I have been trained on a vast amount of text data from the internet, including books, articles, and websites, to generate human-like responses to user queries.As an AI language model, my purpose is to assist and provide information on a wide range of topics. I can help answer questions, engage in conversations, offer explanations, and provide suggestions. My capabilities include language translation, text completion, sentiment analysis, and more.It's important to note that while I strive to provide accurate and up-to-date information, my responses are generated based on patterns and information available up until September 2021. Therefore, I may not have knowledge of events or developments that have occurred after that date.  Jadhav  Certainly! I am ChatGPT, an AI language model developed by OpenAI. I am based on the GPT-3.5 architecture, which stands for 'Generative Pre-trained Transformer 3.5.' I have been trained on a vast amount of text data from the internet, including books, articles, and websites, to generate human-like responses to user queries.As an AI language model, my purpose is to assist and provide information on a wide range of topics. I can help answer questions, engage in conversations, offer explanations, and provide suggestions. My capabilities include language translation, text completion, sentiment analysis, and more.It's important to note that while I strive to provide accurate and up-to-date information, my responses are generated based on patterns and information available up until September 2021. Therefore, I may not have knowledge of events or developments that have occurred after that date.  Jadhav \n"
     ]
    }
   ],
   "source": [
    "\n"
   ]
  },
  {
   "cell_type": "code",
   "execution_count": 83,
   "id": "42f7ceba",
   "metadata": {},
   "outputs": [
    {
     "data": {
      "text/plain": [
       "\"PRASHANT Jadhav   \\n Certainly! I am ChatGPT, an AI language model developed by OpenAI. I am based on the GPT-3.5 architecture, which stands for 'Generative Pre-trained Transformer 3.5.' I have been trained on a vast amount of text data from the internet, including books, articles, and websites, to generate human-like responses to user queries.As an AI language model, my purpose is to assist and provide information on a wide range of topics. I can help answer questions, engage in conversations, offer explanations, and provide suggestions. My capabilities include language translation, text completion, sentiment analysis, and more.It's important to note that while I strive to provide accurate and up-to-date information, my responses are generated based on patterns and information available up until September 2021. Therefore, I may not have knowledge of events or developments that have occurred after that date.  Jadhav \""
      ]
     },
     "execution_count": 83,
     "metadata": {},
     "output_type": "execute_result"
    }
   ],
   "source": [
    "f=open(filename,\"r\")\n",
    "f.read()"
   ]
  },
  {
   "cell_type": "code",
   "execution_count": 85,
   "id": "fb90d8f5",
   "metadata": {},
   "outputs": [
    {
     "name": "stdout",
     "output_type": "stream",
     "text": [
      "P\n",
      "R\n",
      "A\n",
      "S\n",
      "H\n",
      "A\n",
      "N\n",
      "T\n",
      " \n",
      "J\n",
      "a\n",
      "d\n",
      "h\n",
      "a\n",
      "v\n",
      " \n",
      " \n",
      " \n",
      "\n",
      "\n",
      " \n",
      "C\n",
      "e\n",
      "r\n",
      "t\n",
      "a\n",
      "i\n",
      "n\n",
      "l\n",
      "y\n",
      "!\n",
      " \n",
      "I\n",
      " \n",
      "a\n",
      "m\n",
      " \n",
      "C\n",
      "h\n",
      "a\n",
      "t\n",
      "G\n",
      "P\n",
      "T\n",
      ",\n",
      " \n",
      "a\n",
      "n\n",
      " \n",
      "A\n",
      "I\n",
      " \n",
      "l\n",
      "a\n",
      "n\n",
      "g\n",
      "u\n",
      "a\n",
      "g\n",
      "e\n",
      " \n",
      "m\n",
      "o\n",
      "d\n",
      "e\n",
      "l\n",
      " \n",
      "d\n",
      "e\n",
      "v\n",
      "e\n",
      "l\n",
      "o\n",
      "p\n",
      "e\n",
      "d\n",
      " \n",
      "b\n",
      "y\n",
      " \n",
      "O\n",
      "p\n",
      "e\n",
      "n\n",
      "A\n",
      "I\n",
      ".\n",
      " \n",
      "I\n",
      " \n",
      "a\n",
      "m\n",
      " \n",
      "b\n",
      "a\n",
      "s\n",
      "e\n",
      "d\n",
      " \n",
      "o\n",
      "n\n",
      " \n",
      "t\n",
      "h\n",
      "e\n",
      " \n",
      "G\n",
      "P\n",
      "T\n",
      "-\n",
      "3\n",
      ".\n",
      "5\n",
      " \n",
      "a\n",
      "r\n",
      "c\n",
      "h\n",
      "i\n",
      "t\n",
      "e\n",
      "c\n",
      "t\n",
      "u\n",
      "r\n",
      "e\n",
      ",\n",
      " \n",
      "w\n",
      "h\n",
      "i\n",
      "c\n",
      "h\n",
      " \n",
      "s\n",
      "t\n",
      "a\n",
      "n\n",
      "d\n",
      "s\n",
      " \n",
      "f\n",
      "o\n",
      "r\n",
      " \n",
      "'\n",
      "G\n",
      "e\n",
      "n\n",
      "e\n",
      "r\n",
      "a\n",
      "t\n",
      "i\n",
      "v\n",
      "e\n",
      " \n",
      "P\n",
      "r\n",
      "e\n",
      "-\n",
      "t\n",
      "r\n",
      "a\n",
      "i\n",
      "n\n",
      "e\n",
      "d\n",
      " \n",
      "T\n",
      "r\n",
      "a\n",
      "n\n",
      "s\n",
      "f\n",
      "o\n",
      "r\n",
      "m\n",
      "e\n",
      "r\n",
      " \n",
      "3\n",
      ".\n",
      "5\n",
      ".\n",
      "'\n",
      " \n",
      "I\n",
      " \n",
      "h\n",
      "a\n",
      "v\n",
      "e\n",
      " \n",
      "b\n",
      "e\n",
      "e\n",
      "n\n",
      " \n",
      "t\n",
      "r\n",
      "a\n",
      "i\n",
      "n\n",
      "e\n",
      "d\n",
      " \n",
      "o\n",
      "n\n",
      " \n",
      "a\n",
      " \n",
      "v\n",
      "a\n",
      "s\n",
      "t\n",
      " \n",
      "a\n",
      "m\n",
      "o\n",
      "u\n",
      "n\n",
      "t\n",
      " \n",
      "o\n",
      "f\n",
      " \n",
      "t\n",
      "e\n",
      "x\n",
      "t\n",
      " \n",
      "d\n",
      "a\n",
      "t\n",
      "a\n",
      " \n",
      "f\n",
      "r\n",
      "o\n",
      "m\n",
      " \n",
      "t\n",
      "h\n",
      "e\n",
      " \n",
      "i\n",
      "n\n",
      "t\n",
      "e\n",
      "r\n",
      "n\n",
      "e\n",
      "t\n",
      ",\n",
      " \n",
      "i\n",
      "n\n",
      "c\n",
      "l\n",
      "u\n",
      "d\n",
      "i\n",
      "n\n",
      "g\n",
      " \n",
      "b\n",
      "o\n",
      "o\n",
      "k\n",
      "s\n",
      ",\n",
      " \n",
      "a\n",
      "r\n",
      "t\n",
      "i\n",
      "c\n",
      "l\n",
      "e\n",
      "s\n",
      ",\n",
      " \n",
      "a\n",
      "n\n",
      "d\n",
      " \n",
      "w\n",
      "e\n",
      "b\n",
      "s\n",
      "i\n",
      "t\n",
      "e\n",
      "s\n",
      ",\n",
      " \n",
      "t\n",
      "o\n",
      " \n",
      "g\n",
      "e\n",
      "n\n",
      "e\n",
      "r\n",
      "a\n",
      "t\n",
      "e\n",
      " \n",
      "h\n",
      "u\n",
      "m\n",
      "a\n",
      "n\n",
      "-\n",
      "l\n",
      "i\n",
      "k\n",
      "e\n",
      " \n",
      "r\n",
      "e\n",
      "s\n",
      "p\n",
      "o\n",
      "n\n",
      "s\n",
      "e\n",
      "s\n",
      " \n",
      "t\n",
      "o\n",
      " \n",
      "u\n",
      "s\n",
      "e\n",
      "r\n",
      " \n",
      "q\n",
      "u\n",
      "e\n",
      "r\n",
      "i\n",
      "e\n",
      "s\n",
      ".\n",
      "A\n",
      "s\n",
      " \n",
      "a\n",
      "n\n",
      " \n",
      "A\n",
      "I\n",
      " \n",
      "l\n",
      "a\n",
      "n\n",
      "g\n",
      "u\n",
      "a\n",
      "g\n",
      "e\n",
      " \n",
      "m\n",
      "o\n",
      "d\n",
      "e\n",
      "l\n",
      ",\n",
      " \n",
      "m\n",
      "y\n",
      " \n",
      "p\n",
      "u\n",
      "r\n",
      "p\n",
      "o\n",
      "s\n",
      "e\n",
      " \n",
      "i\n",
      "s\n",
      " \n",
      "t\n",
      "o\n",
      " \n",
      "a\n",
      "s\n",
      "s\n",
      "i\n",
      "s\n",
      "t\n",
      " \n",
      "a\n",
      "n\n",
      "d\n",
      " \n",
      "p\n",
      "r\n",
      "o\n",
      "v\n",
      "i\n",
      "d\n",
      "e\n",
      " \n",
      "i\n",
      "n\n",
      "f\n",
      "o\n",
      "r\n",
      "m\n",
      "a\n",
      "t\n",
      "i\n",
      "o\n",
      "n\n",
      " \n",
      "o\n",
      "n\n",
      " \n",
      "a\n",
      " \n",
      "w\n",
      "i\n",
      "d\n",
      "e\n",
      " \n",
      "r\n",
      "a\n",
      "n\n",
      "g\n",
      "e\n",
      " \n",
      "o\n",
      "f\n",
      " \n",
      "t\n",
      "o\n",
      "p\n",
      "i\n",
      "c\n",
      "s\n",
      ".\n",
      " \n",
      "I\n",
      " \n",
      "c\n",
      "a\n",
      "n\n",
      " \n",
      "h\n",
      "e\n",
      "l\n",
      "p\n",
      " \n",
      "a\n",
      "n\n",
      "s\n",
      "w\n",
      "e\n",
      "r\n",
      " \n",
      "q\n",
      "u\n",
      "e\n",
      "s\n",
      "t\n",
      "i\n",
      "o\n",
      "n\n",
      "s\n",
      ",\n",
      " \n",
      "e\n",
      "n\n",
      "g\n",
      "a\n",
      "g\n",
      "e\n",
      " \n",
      "i\n",
      "n\n",
      " \n",
      "c\n",
      "o\n",
      "n\n",
      "v\n",
      "e\n",
      "r\n",
      "s\n",
      "a\n",
      "t\n",
      "i\n",
      "o\n",
      "n\n",
      "s\n",
      ",\n",
      " \n",
      "o\n",
      "f\n",
      "f\n",
      "e\n",
      "r\n",
      " \n",
      "e\n",
      "x\n",
      "p\n",
      "l\n",
      "a\n",
      "n\n",
      "a\n",
      "t\n",
      "i\n",
      "o\n",
      "n\n",
      "s\n",
      ",\n",
      " \n",
      "a\n",
      "n\n",
      "d\n",
      " \n",
      "p\n",
      "r\n",
      "o\n",
      "v\n",
      "i\n",
      "d\n",
      "e\n",
      " \n",
      "s\n",
      "u\n",
      "g\n",
      "g\n",
      "e\n",
      "s\n",
      "t\n",
      "i\n",
      "o\n",
      "n\n",
      "s\n",
      ".\n",
      " \n",
      "M\n",
      "y\n",
      " \n",
      "c\n",
      "a\n",
      "p\n",
      "a\n",
      "b\n",
      "i\n",
      "l\n",
      "i\n",
      "t\n",
      "i\n",
      "e\n",
      "s\n",
      " \n",
      "i\n",
      "n\n",
      "c\n",
      "l\n",
      "u\n",
      "d\n",
      "e\n",
      " \n",
      "l\n",
      "a\n",
      "n\n",
      "g\n",
      "u\n",
      "a\n",
      "g\n",
      "e\n",
      " \n",
      "t\n",
      "r\n",
      "a\n",
      "n\n",
      "s\n",
      "l\n",
      "a\n",
      "t\n",
      "i\n",
      "o\n",
      "n\n",
      ",\n",
      " \n",
      "t\n",
      "e\n",
      "x\n",
      "t\n",
      " \n",
      "c\n",
      "o\n",
      "m\n",
      "p\n",
      "l\n",
      "e\n",
      "t\n",
      "i\n",
      "o\n",
      "n\n",
      ",\n",
      " \n",
      "s\n",
      "e\n",
      "n\n",
      "t\n",
      "i\n",
      "m\n",
      "e\n",
      "n\n",
      "t\n",
      " \n",
      "a\n",
      "n\n",
      "a\n",
      "l\n",
      "y\n",
      "s\n",
      "i\n",
      "s\n",
      ",\n",
      " \n",
      "a\n",
      "n\n",
      "d\n",
      " \n",
      "m\n",
      "o\n",
      "r\n",
      "e\n",
      ".\n",
      "I\n",
      "t\n",
      "'\n",
      "s\n",
      " \n",
      "i\n",
      "m\n",
      "p\n",
      "o\n",
      "r\n",
      "t\n",
      "a\n",
      "n\n",
      "t\n",
      " \n",
      "t\n",
      "o\n",
      " \n",
      "n\n",
      "o\n",
      "t\n",
      "e\n",
      " \n",
      "t\n",
      "h\n",
      "a\n",
      "t\n",
      " \n",
      "w\n",
      "h\n",
      "i\n",
      "l\n",
      "e\n",
      " \n",
      "I\n",
      " \n",
      "s\n",
      "t\n",
      "r\n",
      "i\n",
      "v\n",
      "e\n",
      " \n",
      "t\n",
      "o\n",
      " \n",
      "p\n",
      "r\n",
      "o\n",
      "v\n",
      "i\n",
      "d\n",
      "e\n",
      " \n",
      "a\n",
      "c\n",
      "c\n",
      "u\n",
      "r\n",
      "a\n",
      "t\n",
      "e\n",
      " \n",
      "a\n",
      "n\n",
      "d\n",
      " \n",
      "u\n",
      "p\n",
      "-\n",
      "t\n",
      "o\n",
      "-\n",
      "d\n",
      "a\n",
      "t\n",
      "e\n",
      " \n",
      "i\n",
      "n\n",
      "f\n",
      "o\n",
      "r\n",
      "m\n",
      "a\n",
      "t\n",
      "i\n",
      "o\n",
      "n\n",
      ",\n",
      " \n",
      "m\n",
      "y\n",
      " \n",
      "r\n",
      "e\n",
      "s\n",
      "p\n",
      "o\n",
      "n\n",
      "s\n",
      "e\n",
      "s\n",
      " \n",
      "a\n",
      "r\n",
      "e\n",
      " \n",
      "g\n",
      "e\n",
      "n\n",
      "e\n",
      "r\n",
      "a\n",
      "t\n",
      "e\n",
      "d\n",
      " \n",
      "b\n",
      "a\n",
      "s\n",
      "e\n",
      "d\n",
      " \n",
      "o\n",
      "n\n",
      " \n",
      "p\n",
      "a\n",
      "t\n",
      "t\n",
      "e\n",
      "r\n",
      "n\n",
      "s\n",
      " \n",
      "a\n",
      "n\n",
      "d\n",
      " \n",
      "i\n",
      "n\n",
      "f\n",
      "o\n",
      "r\n",
      "m\n",
      "a\n",
      "t\n",
      "i\n",
      "o\n",
      "n\n",
      " \n",
      "a\n",
      "v\n",
      "a\n",
      "i\n",
      "l\n",
      "a\n",
      "b\n",
      "l\n",
      "e\n",
      " \n",
      "u\n",
      "p\n",
      " \n",
      "u\n",
      "n\n",
      "t\n",
      "i\n",
      "l\n",
      " \n",
      "S\n",
      "e\n",
      "p\n",
      "t\n",
      "e\n",
      "m\n",
      "b\n",
      "e\n",
      "r\n",
      " \n",
      "2\n",
      "0\n",
      "2\n",
      "1\n",
      ".\n",
      " \n",
      "T\n",
      "h\n",
      "e\n",
      "r\n",
      "e\n",
      "f\n",
      "o\n",
      "r\n",
      "e\n",
      ",\n",
      " \n",
      "I\n",
      " \n",
      "m\n",
      "a\n",
      "y\n",
      " \n",
      "n\n",
      "o\n",
      "t\n",
      " \n",
      "h\n",
      "a\n",
      "v\n",
      "e\n",
      " \n",
      "k\n",
      "n\n",
      "o\n",
      "w\n",
      "l\n",
      "e\n",
      "d\n",
      "g\n",
      "e\n",
      " \n",
      "o\n",
      "f\n",
      " \n",
      "e\n",
      "v\n",
      "e\n",
      "n\n",
      "t\n",
      "s\n",
      " \n",
      "o\n",
      "r\n",
      " \n",
      "d\n",
      "e\n",
      "v\n",
      "e\n",
      "l\n",
      "o\n",
      "p\n",
      "m\n",
      "e\n",
      "n\n",
      "t\n",
      "s\n",
      " \n",
      "t\n",
      "h\n",
      "a\n",
      "t\n",
      " \n",
      "h\n",
      "a\n",
      "v\n",
      "e\n",
      " \n",
      "o\n",
      "c\n",
      "c\n",
      "u\n",
      "r\n",
      "r\n",
      "e\n",
      "d\n",
      " \n",
      "a\n",
      "f\n",
      "t\n",
      "e\n",
      "r\n",
      " \n",
      "t\n",
      "h\n",
      "a\n",
      "t\n",
      " \n",
      "d\n",
      "a\n",
      "t\n",
      "e\n",
      ".\n",
      " \n",
      " \n",
      "J\n",
      "a\n",
      "d\n",
      "h\n",
      "a\n",
      "v\n",
      " \n"
     ]
    }
   ],
   "source": [
    "f=open(filename,\"r\")\n",
    "obj=f.read()\n",
    "for i in obj:\n",
    "    print(i)"
   ]
  },
  {
   "cell_type": "code",
   "execution_count": 109,
   "id": "0eb14571",
   "metadata": {
    "scrolled": true
   },
   "outputs": [
    {
     "name": "stdout",
     "output_type": "stream",
     "text": [
      " Certainly! I am ChatGPT, an AI language model developed by OpenAI. I am based on the GPT-3.5 architecture, which stands for 'Generative Pre-trained Transformer 3.5.' I have been trained on a vast amount of text data from the internet, including books, articles, and websites, to generate human-like responses to user queries.As an AI language model, my purpose is to assist and provide information on a wide range of topics. I can help answer questions, engage in conversations, offer explanations, and provide suggestions. My capabilities include language translation, text completion, sentiment analysis, and more.It's important to note that while I strive to provide accurate and up-to-date information, my responses are generated based on patterns and information available up until September 2021. Therefore, I may not have knowledge of events or developments that have occurred after that date.  Jadhav  Certainly! I am ChatGPT, an AI language model developed by OpenAI. I am based on the GPT-3.5 architecture, which stands for 'Generative Pre-trained Transformer 3.5.' I have been trained on a vast amount of text data from the internet, including books, articles, and websites, to generate human-like responses to user queries.As an AI language model, my purpose is to assist and provide information on a wide range of topics. I can help answer questions, engage in conversations, offer explanations, and provide suggestions. My capabilities include language translation, text completion, sentiment analysis, and more.It's important to note that while I strive to provide accurate and up-to-date information, my responses are generated based on patterns and information available up until September 2021. Therefore, I may not have knowledge of events or developments that have occurred after that date.  Certainly! I am ChatGPT, an AI language model developed by OpenAI. I am based on the GPT-3.5 architecture, which stands for 'Generative Pre-trained Transformer 3.5.' I have been trained on a vast amount of text data from the internet, including books, articles, and websites, to generate human-like responses to user queries.As an AI language model, my purpose is to assist and provide information on a wide range of topics. I can help answer questions, engage in conversations, offer explanations, and provide suggestions. My capabilities include language translation, text completion, sentiment analysis, and more.It's important to note that while I strive to provide accurate and up-to-date information, my responses are generated based on patterns and information available up until September 2021. Therefore, I may not have knowledge of events or developments that have occurred after that date.  Certainly! I am ChatGPT, an AI language model developed by OpenAI. \n",
      "\n",
      "' I have been trained on a vast amount of text data from the internet, including books, articles, and websites, to generate human-like responses to user queries. \n",
      "\n",
      " My capabilities include language translation, text completion, sentiment analysis, and more.It's important to note that while I strive to provide accurate and up-to-date information, my responses are generated based on patterns and information available up until September 2021. Therefore, I may not have knowledge of events or developments that have occurred after that date. \n"
     ]
    }
   ],
   "source": [
    "f=open(filename,\"r\")\n",
    "for i in f:\n",
    "    print(f.readline())"
   ]
  },
  {
   "cell_type": "code",
   "execution_count": null,
   "id": "beb5acaa",
   "metadata": {},
   "outputs": [],
   "source": []
  },
  {
   "cell_type": "code",
   "execution_count": 111,
   "id": "eb389f77",
   "metadata": {},
   "outputs": [],
   "source": [
    "import os\n"
   ]
  },
  {
   "cell_type": "code",
   "execution_count": 113,
   "id": "c59edcc4",
   "metadata": {},
   "outputs": [
    {
     "data": {
      "text/plain": [
       "3648"
      ]
     },
     "execution_count": 113,
     "metadata": {},
     "output_type": "execute_result"
    }
   ],
   "source": [
    "os.path.getsize(filename)"
   ]
  },
  {
   "cell_type": "code",
   "execution_count": 114,
   "id": "3f5a6480",
   "metadata": {},
   "outputs": [],
   "source": [
    "os.rename(\"prashant.pdf\",\"prashant.py\")"
   ]
  },
  {
   "cell_type": "code",
   "execution_count": 115,
   "id": "2d9c0654",
   "metadata": {},
   "outputs": [
    {
     "ename": "NameError",
     "evalue": "name 'ls' is not defined",
     "output_type": "error",
     "traceback": [
      "\u001b[1;31m---------------------------------------------------------------------------\u001b[0m",
      "\u001b[1;31mNameError\u001b[0m                                 Traceback (most recent call last)",
      "Cell \u001b[1;32mIn[115], line 1\u001b[0m\n\u001b[1;32m----> 1\u001b[0m \u001b[43mls\u001b[49m\n",
      "\u001b[1;31mNameError\u001b[0m: name 'ls' is not defined"
     ]
    }
   ],
   "source": [
    "ls\n",
    "\n"
   ]
  },
  {
   "cell_type": "code",
   "execution_count": 116,
   "id": "acd3c8eb",
   "metadata": {},
   "outputs": [],
   "source": [
    "import shutil"
   ]
  },
  {
   "cell_type": "code",
   "execution_count": 117,
   "id": "46a60dd6",
   "metadata": {},
   "outputs": [
    {
     "data": {
      "text/plain": [
       "'copypj.text'"
      ]
     },
     "execution_count": 117,
     "metadata": {},
     "output_type": "execute_result"
    }
   ],
   "source": [
    "shutil.copy(filename,\"copypj.text\")"
   ]
  },
  {
   "cell_type": "code",
   "execution_count": 118,
   "id": "7ee6c85b",
   "metadata": {},
   "outputs": [
    {
     "name": "stdout",
     "output_type": "stream",
     "text": [
      "PRASHANT Jadhav   \n",
      " Certainly! I am ChatGPT, an AI language model developed by OpenAI. I am based on the GPT-3.5 architecture, which stands for 'Generative Pre-trained Transformer 3.5.' I have been trained on a vast amount of text data from the internet, including books, articles, and websites, to generate human-like responses to user queries.As an AI language model, my purpose is to assist and provide information on a wide range of topics. I can help answer questions, engage in conversations, offer explanations, and provide suggestions. My capabilities include language translation, text completion, sentiment analysis, and more.It's important to note that while I strive to provide accurate and up-to-date information, my responses are generated based on patterns and information available up until September 2021. Therefore, I may not have knowledge of events or developments that have occurred after that date.  Jadhav  Certainly! I am ChatGPT, an AI language model developed by OpenAI. I am based on the GPT-3.5 architecture, which stands for 'Generative Pre-trained Transformer 3.5.' I have been trained on a vast amount of text data from the internet, including books, articles, and websites, to generate human-like responses to user queries.As an AI language model, my purpose is to assist and provide information on a wide range of topics. I can help answer questions, engage in conversations, offer explanations, and provide suggestions. My capabilities include language translation, text completion, sentiment analysis, and more.It's important to note that while I strive to provide accurate and up-to-date information, my responses are generated based on patterns and information available up until September 2021. Therefore, I may not have knowledge of events or developments that have occurred after that date.  Certainly! I am ChatGPT, an AI language model developed by OpenAI. I am based on the GPT-3.5 architecture, which stands for 'Generative Pre-trained Transformer 3.5.' I have been trained on a vast amount of text data from the internet, including books, articles, and websites, to generate human-like responses to user queries.As an AI language model, my purpose is to assist and provide information on a wide range of topics. I can help answer questions, engage in conversations, offer explanations, and provide suggestions. My capabilities include language translation, text completion, sentiment analysis, and more.It's important to note that while I strive to provide accurate and up-to-date information, my responses are generated based on patterns and information available up until September 2021. Therefore, I may not have knowledge of events or developments that have occurred after that date.  Certainly! I am ChatGPT, an AI language model developed by OpenAI. \n",
      " I am based on the GPT-3.5 architecture, which stands for 'Generative Pre-trained Transformer 3.5.\n",
      "' I have been trained on a vast amount of text data from the internet, including books, articles, and websites, to generate human-like responses to user queries. \n",
      " As an AI language model, my purpose is to assist and provide information on a wide range of topics. I can help answer questions, engage in conversations, offer explanations, and provide suggestions. \n",
      " My capabilities include language translation, text completion, sentiment analysis, and more.It's important to note that while I strive to provide accurate and up-to-date information, my responses are generated based on patterns and information available up until September 2021. Therefore, I may not have knowledge of events or developments that have occurred after that date. \n"
     ]
    }
   ],
   "source": [
    "with open(\"copypj.text\" ,\"r\") as f:\n",
    "    print(f.read())"
   ]
  },
  {
   "cell_type": "code",
   "execution_count": 119,
   "id": "85be8f6a",
   "metadata": {},
   "outputs": [],
   "source": [
    "data ={\n",
    "    \n",
    "    \"name\": \"prashant\",\n",
    "    \"mail_id\":\"jadhavprashant2620@gmail.com\",\n",
    "    \"phone_number\":8459907108,\n",
    "    \"subject\":[\"data_scicence\",\"big data\" , \"data analytics\"]\n",
    "}"
   ]
  },
  {
   "cell_type": "code",
   "execution_count": 120,
   "id": "810b6e2b",
   "metadata": {},
   "outputs": [],
   "source": [
    "import json"
   ]
  },
  {
   "cell_type": "code",
   "execution_count": 123,
   "id": "6b3e44ec",
   "metadata": {},
   "outputs": [],
   "source": [
    "with open (\"data.json\",\"w\") as f:\n",
    "    json.dump(data,f)"
   ]
  },
  {
   "cell_type": "code",
   "execution_count": 124,
   "id": "12f37fa5",
   "metadata": {},
   "outputs": [
    {
     "name": "stdout",
     "output_type": "stream",
     "text": [
      "<_io.TextIOWrapper name='data.json' mode='w' encoding='cp1252'>\n"
     ]
    }
   ],
   "source": [
    "print(f)"
   ]
  },
  {
   "cell_type": "code",
   "execution_count": 125,
   "id": "4a0ba1d7",
   "metadata": {},
   "outputs": [],
   "source": [
    "with open (\"data.json\",\"r\") as f:\n",
    "    data1= json.load(f)"
   ]
  },
  {
   "cell_type": "code",
   "execution_count": 126,
   "id": "153a3146",
   "metadata": {},
   "outputs": [
    {
     "data": {
      "text/plain": [
       "{'name': 'prashant',\n",
       " 'mail_id': 'jadhavprashant2620@gmail.com',\n",
       " 'phone_number': 8459907108,\n",
       " 'subject': ['data_scicence', 'big data', 'data analytics']}"
      ]
     },
     "execution_count": 126,
     "metadata": {},
     "output_type": "execute_result"
    }
   ],
   "source": [
    "data1"
   ]
  },
  {
   "cell_type": "code",
   "execution_count": 127,
   "id": "19e032e3",
   "metadata": {},
   "outputs": [],
   "source": [
    "import csv\n"
   ]
  },
  {
   "cell_type": "code",
   "execution_count": 145,
   "id": "87b47232",
   "metadata": {},
   "outputs": [],
   "source": [
    "data =[[\"name\",\"email_id\",\"phone_number\"],[\"prashant\",\"prashantjadhav6@gmail.com\",8459907108],[\"abc\",\"abc@gmail.com\",8794561330]]"
   ]
  },
  {
   "cell_type": "code",
   "execution_count": 165,
   "id": "5f55a198",
   "metadata": {},
   "outputs": [],
   "source": [
    "with open (\"data.csv\",\"w\") as f:\n",
    "    writer =csv.writer(f)\n",
    "    for i in data:\n",
    "        writer.writerow(i)\n",
    "        "
   ]
  },
  {
   "cell_type": "code",
   "execution_count": 166,
   "id": "eb0e478a",
   "metadata": {},
   "outputs": [
    {
     "name": "stdout",
     "output_type": "stream",
     "text": [
      "name,email_id,phone_number\n",
      "\n",
      "prashant,prashantjadhav6@gmail.com,8459907108\n",
      "\n",
      "abc,abc@gmail.com,8794561330\n",
      "\n",
      "\n"
     ]
    }
   ],
   "source": [
    "with open (\"data.csv\",\"r\") as f:\n",
    "    print(f.read())"
   ]
  },
  {
   "cell_type": "code",
   "execution_count": 143,
   "id": "226b3500",
   "metadata": {},
   "outputs": [
    {
     "name": "stdout",
     "output_type": "stream",
     "text": [
      "['name', 'email_id', 'phone_number']\n",
      "['prashant', 'prashantjadhav6@gmail.com', '8459907108']\n",
      "['abc', 'abc@gmail.com', '8794561330']\n",
      "[]\n"
     ]
    }
   ],
   "source": [
    "with open (\"data.csv\",\"r\") as f:\n",
    "    read_data = csv.reader(f)\n",
    "    \n",
    "    for i in read_data:\n",
    "        print(i)"
   ]
  },
  {
   "cell_type": "code",
   "execution_count": null,
   "id": "1aeb285d",
   "metadata": {},
   "outputs": [],
   "source": []
  },
  {
   "cell_type": "code",
   "execution_count": 167,
   "id": "98404391",
   "metadata": {},
   "outputs": [],
   "source": [
    "\n",
    "with open(\"data.csv\", \"w\", newline='') as f:\n",
    "    writer = csv.writer(f)\n",
    "    for i in data:\n",
    "        writer.writerow(i)"
   ]
  },
  {
   "cell_type": "code",
   "execution_count": 168,
   "id": "4d83ffe9",
   "metadata": {},
   "outputs": [
    {
     "name": "stdout",
     "output_type": "stream",
     "text": [
      "['name', 'email_id', 'phone_number']\n",
      "['prashant', 'prashantjadhav6@gmail.com', '8459907108']\n",
      "['abc', 'abc@gmail.com', '8794561330']\n"
     ]
    }
   ],
   "source": [
    "with open (\"data.csv\",\"r\") as f:\n",
    "    read_data = csv.reader(f)\n",
    "    \n",
    "    for i in read_data:\n",
    "        print(i)"
   ]
  },
  {
   "cell_type": "code",
   "execution_count": 159,
   "id": "4e31aa54",
   "metadata": {},
   "outputs": [],
   "source": [
    "\n",
    "with open(\"data.csv\", \"w\") as f:\n",
    "    writer = csv.writer(f)\n",
    "    writer.writerow(data)"
   ]
  },
  {
   "cell_type": "code",
   "execution_count": 162,
   "id": "7b5ac35a",
   "metadata": {},
   "outputs": [
    {
     "name": "stdout",
     "output_type": "stream",
     "text": [
      "<_csv.reader object at 0x000001D604866B00>\n",
      "[\"['name', 'email_id', 'phone_number']\", \"['prashant', 'prashantjadhav6@gmail.com', 8459907108]\", \"['abc', 'abc@gmail.com', 8794561330]\"]\n",
      "[]\n"
     ]
    }
   ],
   "source": [
    "with open (\"data.csv\",\"r\") as f:\n",
    "    read_data = csv.reader(f)\n",
    "    for i in read_data:\n",
    "        print(i)"
   ]
  }
 ],
 "metadata": {
  "kernelspec": {
   "display_name": "Python 3 (ipykernel)",
   "language": "python",
   "name": "python3"
  },
  "language_info": {
   "codemirror_mode": {
    "name": "ipython",
    "version": 3
   },
   "file_extension": ".py",
   "mimetype": "text/x-python",
   "name": "python",
   "nbconvert_exporter": "python",
   "pygments_lexer": "ipython3",
   "version": "3.10.9"
  }
 },
 "nbformat": 4,
 "nbformat_minor": 5
}
