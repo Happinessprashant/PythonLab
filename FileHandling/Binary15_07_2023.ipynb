{
 "cells": [
  {
   "cell_type": "markdown",
   "id": "66e76571",
   "metadata": {},
   "source": [
    "#                                 Binary"
   ]
  },
  {
   "cell_type": "code",
   "execution_count": 9,
   "id": "8cfe7f4c",
   "metadata": {},
   "outputs": [],
   "source": [
    "with open (\"test.bin\",\"wb\")  as f:\n",
    "    f.write(b\"\\x01\\x02\\x03\\12345\")"
   ]
  },
  {
   "cell_type": "code",
   "execution_count": 10,
   "id": "37803591",
   "metadata": {},
   "outputs": [],
   "source": [
    "with open(\"test.bin\",\"rb\") as f:\n",
    "    f.read()"
   ]
  },
  {
   "cell_type": "code",
   "execution_count": null,
   "id": "0567b81a",
   "metadata": {},
   "outputs": [],
   "source": []
  },
  {
   "cell_type": "code",
   "execution_count": 11,
   "id": "2100f2af",
   "metadata": {},
   "outputs": [
    {
     "name": "stdout",
     "output_type": "stream",
     "text": [
      "b'\\x01\\x02\\x03S45'\n"
     ]
    }
   ],
   "source": [
    "with open(\"test.bin\",\"rb\") as f:\n",
    "    print( f.read())"
   ]
  },
  {
   "cell_type": "code",
   "execution_count": null,
   "id": "de0a3bf6",
   "metadata": {},
   "outputs": [],
   "source": []
  },
  {
   "cell_type": "markdown",
   "id": "0e76c6ce",
   "metadata": {},
   "source": [
    "#                                Buffer Read and Writer"
   ]
  },
  {
   "cell_type": "code",
   "execution_count": null,
   "id": "08472487",
   "metadata": {},
   "outputs": [],
   "source": [
    "\n",
    "# In Python, buffered I/O is a technique used to improve the performance \n",
    "# of reading and writing data by minimizing the number of system calls\n",
    "# made to the operating system. By buffering the data in memory before \n",
    "# performing I/O operations, the program can reduce the overhead\n",
    "# associated with frequent system calls."
   ]
  },
  {
   "cell_type": "code",
   "execution_count": 13,
   "id": "7191dff6",
   "metadata": {},
   "outputs": [],
   "source": [
    "import io"
   ]
  },
  {
   "cell_type": "code",
   "execution_count": 75,
   "id": "ca80286c",
   "metadata": {},
   "outputs": [],
   "source": [
    "with open (\"test1.text\",\"wb\") as f:\n",
    "    file= io.BufferedWriter(f)\n",
    "    file.write(b\"In Python, buffered I/O is a technique used to improve the performance of reading and writing data by minimizing the number of system calls made to the operating system. By buffering the data in memory before performing I/O operations, the program can reduce the overhead associated with frequent system calls.\\n\")\n",
    "    file.write(b\"this is a my 2nd line \\n\")\n",
    "    file.flush()"
   ]
  },
  {
   "cell_type": "code",
   "execution_count": null,
   "id": "6c72a373",
   "metadata": {},
   "outputs": [],
   "source": []
  },
  {
   "cell_type": "code",
   "execution_count": 76,
   "id": "faa523cb",
   "metadata": {},
   "outputs": [
    {
     "name": "stdout",
     "output_type": "stream",
     "text": [
      "b'In Python, buffered I/O is a technique used to improve the performance of reading and writing data by minimizing the number of system calls made to the operating system. By buffering the data in memory before performing I/O operations, the program can reduce the overhead associated with frequent system calls.\\nthis is a my 2nd line \\n'\n"
     ]
    }
   ],
   "source": [
    "with open (\"test1.text\",\"rb\") as f:\n",
    "    file= io.BufferedReader(f)\n",
    "    data= file.read()\n",
    "    print(data)\n"
   ]
  },
  {
   "cell_type": "code",
   "execution_count": null,
   "id": "050b0fd9",
   "metadata": {},
   "outputs": [],
   "source": []
  },
  {
   "cell_type": "code",
   "execution_count": 21,
   "id": "32d76423",
   "metadata": {},
   "outputs": [
    {
     "name": "stdout",
     "output_type": "stream",
     "text": [
      "b'In Python,'\n"
     ]
    }
   ],
   "source": [
    "with open (\"test1.text\",\"rb\") as f:\n",
    "    file= io.BufferedReader(f)\n",
    "    data= file.read(10)\n",
    "    print(data)\n"
   ]
  },
  {
   "cell_type": "code",
   "execution_count": null,
   "id": "e65b57b3",
   "metadata": {},
   "outputs": [],
   "source": []
  },
  {
   "cell_type": "code",
   "execution_count": 25,
   "id": "0e112727",
   "metadata": {},
   "outputs": [],
   "source": [
    "import os"
   ]
  },
  {
   "cell_type": "code",
   "execution_count": 27,
   "id": "babe9093",
   "metadata": {},
   "outputs": [
    {
     "data": {
      "text/plain": [
       "334"
      ]
     },
     "execution_count": 27,
     "metadata": {},
     "output_type": "execute_result"
    }
   ],
   "source": [
    "os.path.getsize(\"test1.text\")"
   ]
  },
  {
   "cell_type": "code",
   "execution_count": null,
   "id": "55081f6a",
   "metadata": {},
   "outputs": [],
   "source": []
  },
  {
   "cell_type": "code",
   "execution_count": 42,
   "id": "5a65e605",
   "metadata": {},
   "outputs": [
    {
     "ename": "TypeError",
     "evalue": "'float' object cannot be interpreted as an integer",
     "output_type": "error",
     "traceback": [
      "\u001b[1;31m---------------------------------------------------------------------------\u001b[0m",
      "\u001b[1;31mTypeError\u001b[0m                                 Traceback (most recent call last)",
      "Cell \u001b[1;32mIn[42], line 10\u001b[0m\n\u001b[0;32m      7\u001b[0m \u001b[38;5;28;01melse\u001b[39;00m:\n\u001b[0;32m      8\u001b[0m     a\u001b[38;5;241m=\u001b[39m(\u001b[38;5;241m334\u001b[39m\u001b[38;5;241m/\u001b[39m\u001b[38;5;241m10\u001b[39m)\n\u001b[1;32m---> 10\u001b[0m \u001b[38;5;28;01mfor\u001b[39;00m i \u001b[38;5;129;01min\u001b[39;00m \u001b[38;5;28;43mrange\u001b[39;49m\u001b[43m(\u001b[49m\u001b[43ma\u001b[49m\u001b[43m)\u001b[49m:\n\u001b[0;32m     11\u001b[0m                data\u001b[38;5;241m=\u001b[39m file\u001b[38;5;241m.\u001b[39mread(\u001b[38;5;241m10\u001b[39m)\n\u001b[0;32m     12\u001b[0m                \u001b[38;5;28mprint\u001b[39m(data)\n",
      "\u001b[1;31mTypeError\u001b[0m: 'float' object cannot be interpreted as an integer"
     ]
    }
   ],
   "source": [
    "with open (\"test1.text\",\"rb\") as f:\n",
    "    file= io.BufferedReader(f)\n",
    "    data= file.read(10)\n",
    "    a=0\n",
    "    if(334%10!=0):\n",
    "        a=(334/10)+1\n",
    "    else:\n",
    "        a=(334/10)\n",
    "        \n",
    "    for i in range(a):\n",
    "                   data= file.read(10)\n",
    "                   print(data)"
   ]
  },
  {
   "cell_type": "code",
   "execution_count": null,
   "id": "9290095d",
   "metadata": {},
   "outputs": [],
   "source": []
  },
  {
   "cell_type": "code",
   "execution_count": 62,
   "id": "cfba22ce",
   "metadata": {},
   "outputs": [
    {
     "name": "stdout",
     "output_type": "stream",
     "text": [
      "b'In Python,'\n",
      "b' buffered '\n",
      "b'I/O is a t'\n",
      "b'echnique u'\n",
      "b'sed to imp'\n",
      "b'rove the p'\n",
      "b'erformance'\n",
      "b' of readin'\n",
      "b'g and writ'\n",
      "b'ing data b'\n",
      "b'y minimizi'\n",
      "b'ng the num'\n",
      "b'ber of sys'\n",
      "b'tem calls '\n",
      "b'made to th'\n",
      "b'e operatin'\n",
      "b'g system. '\n",
      "b'By bufferi'\n",
      "b'ng the dat'\n",
      "b'a in memor'\n",
      "b'y before p'\n",
      "b'erforming '\n",
      "b'I/O operat'\n",
      "b'ions, the '\n",
      "b'program ca'\n",
      "b'n reduce t'\n",
      "b'he overhea'\n",
      "b'd associat'\n",
      "b'ed with fr'\n",
      "b'equent sys'\n",
      "b'tem calls.'\n",
      "b'\\nthis is a'\n",
      "b' my 2nd li'\n",
      "b'ne \\n'\n",
      "b''\n",
      "b''\n",
      "b''\n",
      "b''\n",
      "b''\n",
      "b''\n",
      "b''\n",
      "b''\n",
      "b''\n",
      "b''\n",
      "b''\n",
      "b''\n",
      "b''\n",
      "b''\n",
      "b''\n",
      "b''\n",
      "b''\n",
      "b''\n",
      "b''\n",
      "b''\n",
      "b''\n",
      "b''\n",
      "b''\n",
      "b''\n",
      "b''\n",
      "b''\n",
      "b''\n",
      "b''\n",
      "b''\n",
      "b''\n",
      "b''\n",
      "b''\n",
      "b''\n",
      "b''\n",
      "b''\n",
      "b''\n",
      "b''\n",
      "b''\n",
      "b''\n",
      "b''\n",
      "b''\n",
      "b''\n",
      "b''\n",
      "b''\n",
      "b''\n",
      "b''\n",
      "b''\n",
      "b''\n",
      "b''\n",
      "b''\n",
      "b''\n",
      "b''\n",
      "b''\n",
      "b''\n",
      "b''\n",
      "b''\n",
      "b''\n",
      "b''\n",
      "b''\n",
      "b''\n",
      "b''\n",
      "b''\n",
      "b''\n",
      "b''\n",
      "b''\n",
      "b''\n",
      "b''\n",
      "b''\n",
      "b''\n",
      "b''\n",
      "b''\n",
      "b''\n",
      "b''\n",
      "b''\n",
      "b''\n",
      "b''\n",
      "b''\n",
      "b''\n",
      "b''\n",
      "b''\n",
      "b''\n",
      "b''\n",
      "b''\n",
      "b''\n",
      "b''\n",
      "b''\n",
      "b''\n",
      "b''\n",
      "b''\n",
      "b''\n",
      "b''\n",
      "b''\n",
      "b''\n",
      "b''\n",
      "b''\n",
      "b''\n",
      "b''\n",
      "b''\n",
      "b''\n",
      "b''\n",
      "b''\n",
      "b''\n",
      "b''\n",
      "b''\n",
      "b''\n",
      "b''\n",
      "b''\n",
      "b''\n",
      "b''\n",
      "b''\n",
      "b''\n",
      "b''\n",
      "b''\n",
      "b''\n",
      "b''\n",
      "b''\n",
      "b''\n",
      "b''\n",
      "b''\n",
      "b''\n",
      "b''\n",
      "b''\n",
      "b''\n",
      "b''\n",
      "b''\n",
      "b''\n",
      "b''\n",
      "b''\n",
      "b''\n",
      "b''\n",
      "b''\n",
      "b''\n",
      "b''\n",
      "b''\n",
      "b''\n",
      "b''\n",
      "b''\n",
      "b''\n",
      "b''\n",
      "b''\n",
      "b''\n",
      "b''\n",
      "b''\n",
      "b''\n",
      "b''\n",
      "b''\n",
      "b''\n",
      "b''\n",
      "b''\n",
      "b''\n",
      "b''\n",
      "b''\n",
      "b''\n",
      "b''\n",
      "b''\n",
      "b''\n",
      "b''\n",
      "b''\n",
      "b''\n",
      "b''\n",
      "b''\n",
      "b''\n",
      "b''\n",
      "b''\n",
      "b''\n",
      "b''\n",
      "b''\n",
      "b''\n",
      "b''\n",
      "b''\n",
      "b''\n",
      "b''\n",
      "b''\n",
      "b''\n",
      "b''\n",
      "b''\n",
      "b''\n",
      "b''\n",
      "b''\n",
      "b''\n",
      "b''\n",
      "b''\n",
      "b''\n",
      "b''\n",
      "b''\n",
      "b''\n",
      "b''\n",
      "b''\n",
      "b''\n",
      "b''\n",
      "b''\n",
      "b''\n",
      "b''\n",
      "b''\n",
      "b''\n",
      "b''\n",
      "b''\n",
      "b''\n",
      "b''\n",
      "b''\n",
      "b''\n",
      "b''\n",
      "b''\n",
      "b''\n",
      "b''\n",
      "b''\n",
      "b''\n",
      "b''\n",
      "b''\n",
      "b''\n",
      "b''\n",
      "b''\n",
      "b''\n",
      "b''\n",
      "b''\n",
      "b''\n",
      "b''\n",
      "b''\n",
      "b''\n",
      "b''\n",
      "b''\n",
      "b''\n",
      "b''\n",
      "b''\n",
      "b''\n",
      "b''\n",
      "b''\n",
      "b''\n",
      "b''\n",
      "b''\n",
      "b''\n",
      "b''\n",
      "b''\n",
      "b''\n",
      "b''\n",
      "b''\n",
      "b''\n",
      "b''\n",
      "b''\n",
      "b''\n",
      "b''\n",
      "b''\n",
      "b''\n",
      "b''\n",
      "b''\n",
      "b''\n",
      "b''\n",
      "b''\n",
      "b''\n",
      "b''\n",
      "b''\n",
      "b''\n",
      "b''\n",
      "b''\n",
      "b''\n",
      "b''\n",
      "b''\n",
      "b''\n",
      "b''\n",
      "b''\n",
      "b''\n",
      "b''\n",
      "b''\n",
      "b''\n",
      "b''\n",
      "b''\n",
      "b''\n",
      "b''\n",
      "b''\n",
      "b''\n",
      "b''\n",
      "b''\n",
      "b''\n",
      "b''\n",
      "b''\n",
      "b''\n",
      "b''\n",
      "b''\n",
      "b''\n",
      "b''\n",
      "b''\n",
      "b''\n",
      "b''\n",
      "b''\n",
      "b''\n",
      "b''\n",
      "b''\n",
      "b''\n",
      "b''\n",
      "b''\n",
      "b''\n",
      "b''\n"
     ]
    }
   ],
   "source": [
    "import io\n",
    "\n",
    "with open(\"test1.text\", \"rb\") as f:\n",
    "    file = io.BufferedReader(f)\n",
    "    data = file.read(10) \n",
    "    print(data)\n",
    "\n",
    "    remaining_bytes = 334 - len(data)\n",
    "    chunk_size = 10 \n",
    "\n",
    "    num_iterations = remaining_bytes \n",
    "    if remaining_bytes % chunk_size != 0:\n",
    "        num_iterations += 1\n",
    "\n",
    "    for _ in range(num_iterations):\n",
    "        data = file.read(chunk_size)\n",
    "        print(data)\n"
   ]
  },
  {
   "cell_type": "code",
   "execution_count": null,
   "id": "65a4ed13",
   "metadata": {},
   "outputs": [],
   "source": []
  },
  {
   "cell_type": "code",
   "execution_count": 46,
   "id": "5d63cbb5",
   "metadata": {},
   "outputs": [],
   "source": [
    "filesize=os.path.getsize(\"test1.text\")"
   ]
  },
  {
   "cell_type": "code",
   "execution_count": 64,
   "id": "26baba4b",
   "metadata": {
    "scrolled": true
   },
   "outputs": [
    {
     "name": "stdout",
     "output_type": "stream",
     "text": [
      "334\n",
      "33.4\n",
      " buffered \n",
      "I/O is a t\n",
      "echnique u\n",
      "sed to imp\n",
      "rove the p\n",
      "erformance\n",
      " of readin\n",
      "g and writ\n",
      "ing data b\n",
      "y minimizi\n",
      "ng the num\n",
      "ber of sys\n",
      "tem calls \n",
      "made to th\n",
      "e operatin\n",
      "g system. \n",
      "By bufferi\n",
      "ng the dat\n",
      "a in memor\n",
      "y before p\n",
      "erforming \n",
      "I/O operat\n",
      "ions, the \n",
      "program ca\n",
      "n reduce t\n",
      "he overhea\n",
      "d associat\n",
      "ed with fr\n",
      "equent sys\n",
      "tem calls.\n",
      "\n",
      "this is a\n",
      " my 2nd li\n",
      "ne \n",
      "In Pyt\n",
      "hon, buffe\n"
     ]
    }
   ],
   "source": [
    "import os\n",
    "import math\n",
    "filesize=os.path.getsize(\"test1.text\")\n",
    "print(filesize)\n",
    "\n",
    "chunk=10\n",
    "loop=filesize/chunk\n",
    "print(loop)\n",
    "\n",
    "floorsize=math.floor(loop)\n",
    "\n",
    "ceilsize=math.ceil(loop)\n",
    "\n",
    "with open(\"test1.text\", \"rb\") as f:\n",
    "    file = io.BufferedReader(f)\n",
    "    data = file.read(chunk) \n",
    "    f.seek(0)\n",
    "    for i in range(ceilsize):\n",
    "        data = file.read(chunk)\n",
    "        data1 = data.decode()\n",
    "        print(data1)\n"
   ]
  },
  {
   "cell_type": "code",
   "execution_count": null,
   "id": "87da39ca",
   "metadata": {},
   "outputs": [],
   "source": []
  },
  {
   "cell_type": "code",
   "execution_count": null,
   "id": "20014661",
   "metadata": {},
   "outputs": [],
   "source": []
  },
  {
   "cell_type": "code",
   "execution_count": 58,
   "id": "65e2a09c",
   "metadata": {},
   "outputs": [
    {
     "name": "stdout",
     "output_type": "stream",
     "text": [
      "ove the p\n"
     ]
    }
   ],
   "source": [
    "byte_string = b'ove the p'\n",
    "decoded_string = byte_string.decode()\n",
    "print(decoded_string)\n"
   ]
  },
  {
   "cell_type": "code",
   "execution_count": null,
   "id": "34a9544b",
   "metadata": {},
   "outputs": [],
   "source": []
  },
  {
   "cell_type": "code",
   "execution_count": 14,
   "id": "cfaf22cc",
   "metadata": {},
   "outputs": [
    {
     "name": "stdout",
     "output_type": "stream",
     "text": [
      "334\n",
      "33.4\n",
      " buffered \n",
      "I/O is a t\n",
      "echnique u\n",
      "sed to imp\n",
      "rove the p\n",
      "erformance\n",
      " of readin\n",
      "g and writ\n",
      "ing data b\n",
      "y minimizi\n",
      "ng the num\n",
      "ber of sys\n",
      "tem calls \n",
      "made to th\n",
      "e operatin\n",
      "g system. \n",
      "By bufferi\n",
      "ng the dat\n",
      "a in memor\n",
      "y before p\n",
      "erforming \n",
      "I/O operat\n",
      "ions, the \n",
      "program ca\n",
      "n reduce t\n",
      "he overhea\n",
      "d associat\n",
      "ed with fr\n",
      "equent sys\n",
      "tem calls.\n",
      "\n",
      "this is a\n",
      " my 2nd li\n",
      "ne \n",
      "In Pyt\n",
      "hon, buffe\n"
     ]
    }
   ],
   "source": [
    "import os\n",
    "import math\n",
    "import io\n",
    "\n",
    "filesize = os.path.getsize(\"test1.text\")\n",
    "print(filesize)\n",
    "\n",
    "chunk = 10\n",
    "loop = filesize / chunk\n",
    "print(loop)\n",
    "\n",
    "floorsize = math.floor(loop)\n",
    "ceilsize = math.ceil(loop)\n",
    "\n",
    "with open(\"test1.text\", \"rb\") as f:\n",
    "    file = io.BufferedReader(f)\n",
    "    data = file.read(chunk)\n",
    "    f.seek(0)\n",
    "    for i in range(ceilsize):\n",
    "        data = file.read(chunk)\n",
    "        decoded_data = data.decode()  # Decode byte string to Unicode string\n",
    "        print((decoded_data))\n"
   ]
  },
  {
   "cell_type": "code",
   "execution_count": null,
   "id": "4d9eb605",
   "metadata": {},
   "outputs": [],
   "source": []
  },
  {
   "cell_type": "code",
   "execution_count": null,
   "id": "d3863651",
   "metadata": {},
   "outputs": [],
   "source": []
  },
  {
   "cell_type": "code",
   "execution_count": null,
   "id": "63df8983",
   "metadata": {},
   "outputs": [],
   "source": []
  },
  {
   "cell_type": "code",
   "execution_count": null,
   "id": "3e3cb01c",
   "metadata": {},
   "outputs": [],
   "source": []
  },
  {
   "cell_type": "code",
   "execution_count": null,
   "id": "079b5f00",
   "metadata": {},
   "outputs": [],
   "source": []
  },
  {
   "cell_type": "code",
   "execution_count": 16,
   "id": "9760510f",
   "metadata": {},
   "outputs": [
    {
     "name": "stdout",
     "output_type": "stream",
     "text": [
      "334\n",
      "33.4\n",
      "floorsize 33\n",
      "ceilsize 34\n",
      "b'In Python, buffered I/O is a technique used to improve the performance of reading and writing data by minimizing the number of system calls made to the operating system. By buffering the data in memory before performing I/O operations, the program can reduce the overhead associated with frequent system calls.\\nthis is a my 2nd line \\n'\n"
     ]
    }
   ],
   "source": [
    "import os , io,math\n",
    "\n",
    "with open (\"test1.text\",\"wb\") as f:\n",
    "    file= io.BufferedWriter(f)\n",
    "    file.write(b\"In Python, buffered I/O is a technique used to improve the performance of reading and writing data by minimizing the number of system calls made to the operating system. By buffering the data in memory before performing I/O operations, the program can reduce the overhead associated with frequent system calls.\\n\")\n",
    "    file.write(b\"this is a my 2nd line \\n\")\n",
    "    file.flush()\n",
    "    \n",
    "filesize=os.path.getsize(\"test1.text\")\n",
    "print(filesize)\n",
    "\n",
    "chunk=10\n",
    "loop=filesize/chunk\n",
    "print(loop)\n",
    "\n",
    "floorsize=math.floor(loop)\n",
    "print(\"floorsize\",floorsize)\n",
    "ceilsize=math.ceil(loop)\n",
    "print(\"ceilsize\",ceilsize)\n",
    "\n",
    "with open(\"test1.text\", \"rb\") as f:\n",
    "    file = io.BufferedReader(f) \n",
    "    f.seek(0)\n",
    "    completestr=b''\n",
    "    for i in range(ceilsize):\n",
    "        data = file.read(chunk)\n",
    "        completestr = completestr+data\n",
    "#         completestr = completestr+file.read(chunk)\n",
    "    print(completestr)"
   ]
  },
  {
   "cell_type": "code",
   "execution_count": null,
   "id": "eccc11c9",
   "metadata": {},
   "outputs": [],
   "source": [
    "\"\"\" b'In Python, buffered I/O is a technique used to improve the performance \n",
    "of reading and writing data by minimizing the number of system calls made to \n",
    "the operating system. By buffering the data in memory before performing I/O operations, \n",
    "the program can reduce the overhead associated with frequent system calls.\\nthis is a my\n",
    "2nd line \\n' \"\"\""
   ]
  },
  {
   "cell_type": "code",
   "execution_count": null,
   "id": "55352354",
   "metadata": {},
   "outputs": [],
   "source": []
  },
  {
   "cell_type": "code",
   "execution_count": null,
   "id": "c30fd3a5",
   "metadata": {},
   "outputs": [],
   "source": []
  },
  {
   "cell_type": "code",
   "execution_count": null,
   "id": "4830d7fd",
   "metadata": {},
   "outputs": [],
   "source": [
    "#                                     Logging model"
   ]
  },
  {
   "cell_type": "code",
   "execution_count": null,
   "id": "f5363b63",
   "metadata": {},
   "outputs": [],
   "source": [
    "# To implement logging in Python, you can utilize the built-in logging module.\n",
    "# The logging module provides a flexible and configurable way to record events\n",
    "# and messages during the execution of a program.\n",
    "# Here's an example of how you can use the logging module in "
   ]
  },
  {
   "cell_type": "code",
   "execution_count": null,
   "id": "9a5612a9",
   "metadata": {},
   "outputs": [],
   "source": []
  },
  {
   "cell_type": "code",
   "execution_count": null,
   "id": "c26a03e2",
   "metadata": {},
   "outputs": [],
   "source": []
  },
  {
   "cell_type": "code",
   "execution_count": 17,
   "id": "6e679e95",
   "metadata": {},
   "outputs": [],
   "source": [
    "import logging\n"
   ]
  },
  {
   "cell_type": "code",
   "execution_count": 28,
   "id": "cab68993",
   "metadata": {},
   "outputs": [],
   "source": [
    "logging.basicConfig(filename=\"programming.log\" ,level=logging.INFO, format='%(asctime)s - %(levelname)s - %(message)s')\n"
   ]
  },
  {
   "cell_type": "code",
   "execution_count": 20,
   "id": "0a778548",
   "metadata": {},
   "outputs": [],
   "source": [
    "logging.info(\"Hello , This is my first Commit\")"
   ]
  },
  {
   "cell_type": "code",
   "execution_count": 21,
   "id": "0d7ad85a",
   "metadata": {},
   "outputs": [],
   "source": [
    "logging.info(\"Hello , Prashant\")"
   ]
  },
  {
   "cell_type": "code",
   "execution_count": 22,
   "id": "5f689c02",
   "metadata": {},
   "outputs": [],
   "source": [
    "logging.debug(\"This is Debugging message\")"
   ]
  },
  {
   "cell_type": "code",
   "execution_count": 23,
   "id": "9f48e148",
   "metadata": {},
   "outputs": [],
   "source": [
    "logging.error(\"This is the Error Message\")"
   ]
  },
  {
   "cell_type": "code",
   "execution_count": 24,
   "id": "c43bd64c",
   "metadata": {},
   "outputs": [],
   "source": [
    "logging.critical(\"This is the critical msg\")"
   ]
  },
  {
   "cell_type": "code",
   "execution_count": 29,
   "id": "1ef53c8d",
   "metadata": {},
   "outputs": [],
   "source": [
    "logging.warning(\"This is warning Message\")"
   ]
  },
  {
   "cell_type": "code",
   "execution_count": 40,
   "id": "a15e6d79",
   "metadata": {},
   "outputs": [],
   "source": [
    "logging.shutdown()"
   ]
  },
  {
   "cell_type": "code",
   "execution_count": null,
   "id": "dc796e47",
   "metadata": {},
   "outputs": [],
   "source": []
  },
  {
   "cell_type": "code",
   "execution_count": null,
   "id": "82be6ae6",
   "metadata": {},
   "outputs": [],
   "source": [
    "#   use DEBUG"
   ]
  },
  {
   "cell_type": "code",
   "execution_count": 15,
   "id": "6f00d22a",
   "metadata": {},
   "outputs": [],
   "source": [
    "import logging\n",
    "\n",
    "logging.basicConfig(filename=\"debugtest.log\" ,level=logging.DEBUG, format='%(asctime)s - %(levelname)s - %(message)s')\n"
   ]
  },
  {
   "cell_type": "code",
   "execution_count": 2,
   "id": "91aad30c",
   "metadata": {},
   "outputs": [],
   "source": [
    "logging.info(\"Hii , Prashant\")\n",
    "logging.error(\"This is DEBUG Mesage\")"
   ]
  },
  {
   "cell_type": "code",
   "execution_count": null,
   "id": "80e65a72",
   "metadata": {},
   "outputs": [],
   "source": []
  },
  {
   "cell_type": "code",
   "execution_count": 3,
   "id": "c566e232",
   "metadata": {},
   "outputs": [],
   "source": [
    "l=[1,2,3,4,[2,3,4,\"pj\"],\"prashant\",\"jadhav\"]"
   ]
  },
  {
   "cell_type": "code",
   "execution_count": 21,
   "id": "1ddd40c3",
   "metadata": {},
   "outputs": [
    {
     "name": "stdout",
     "output_type": "stream",
     "text": [
      "[1, 2, 3, 4, 2, 3, 4]\n",
      "['pj', 'prashant', 'jadhav']\n"
     ]
    }
   ],
   "source": [
    "l_int=[]\n",
    "l_str=[]\n",
    "\n",
    "for i in l:\n",
    "    logging.info(\" This is in the for loop\")\n",
    "    if type(i)==list:\n",
    "        logging.info(\"This is in the if condition to check type is equal list\"+str(i))\n",
    "        for j in i:\n",
    "            logging.info(\"This is the in the 2nd for loop to assign values to j \"+str(j))\n",
    "            if type(j)==int:\n",
    "                logging.info(\"this check the type of the \"+str(j)+\" is int \")\n",
    "                l_int.append(j)\n",
    "            elif type(j)==str:\n",
    "                logging.info(\"this check the type of the \"+j +\" is str\" )\n",
    "                l_str.append(j)\n",
    "    elif type(i)==int:\n",
    "        logging.info(\"this check the type of the is int \"+str(i))\n",
    "        l_int.append(i)\n",
    "    else:\n",
    "         if type(i)==str:\n",
    "            logging.info(\"this check the type of the  is str\"+i  )\n",
    "            l_str.append(i)\n",
    "                \n",
    "\n",
    "logging.info(\"this print the lists int list is {l1} and str list is {l2}\".format(l1=l_int , l2=l_str) )\n",
    "print(l_int)\n",
    "print(l_str)               "
   ]
  },
  {
   "cell_type": "code",
   "execution_count": null,
   "id": "5f692b09",
   "metadata": {},
   "outputs": [],
   "source": []
  },
  {
   "cell_type": "code",
   "execution_count": null,
   "id": "80c2b25e",
   "metadata": {},
   "outputs": [],
   "source": []
  },
  {
   "cell_type": "code",
   "execution_count": null,
   "id": "ed20f02e",
   "metadata": {},
   "outputs": [],
   "source": []
  }
 ],
 "metadata": {
  "kernelspec": {
   "display_name": "Python 3 (ipykernel)",
   "language": "python",
   "name": "python3"
  },
  "language_info": {
   "codemirror_mode": {
    "name": "ipython",
    "version": 3
   },
   "file_extension": ".py",
   "mimetype": "text/x-python",
   "name": "python",
   "nbconvert_exporter": "python",
   "pygments_lexer": "ipython3",
   "version": "3.10.9"
  }
 },
 "nbformat": 4,
 "nbformat_minor": 5
}
