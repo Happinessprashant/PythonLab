{
 "cells": [
  {
   "cell_type": "code",
   "execution_count": null,
   "metadata": {},
   "outputs": [],
   "source": []
  },
  {
   "cell_type": "markdown",
   "metadata": {},
   "source": [
    "15/10/2023\n"
   ]
  },
  {
   "cell_type": "code",
   "execution_count": 3,
   "metadata": {},
   "outputs": [
    {
     "name": "stdout",
     "output_type": "stream",
     "text": [
      "Hii,  this is my first python code...!\n"
     ]
    }
   ],
   "source": [
    "print(\"Hii,  this is my first python code...!\")"
   ]
  },
  {
   "cell_type": "code",
   "execution_count": 1,
   "metadata": {},
   "outputs": [
    {
     "name": "stdout",
     "output_type": "stream",
     "text": [
      "Common employees: ['Mahesh', 'Ali', 'Jacob']\n"
     ]
    }
   ],
   "source": [
    "# Lists of employees\n",
    "list1 = [\"Ramesh\", \"Suresh\", \"Mahesh\", \"Ali\", \"Jacob\", \"Saritha\"]\n",
    "list2 = [\"Ali\", \"Mukesh\", \"Mahesh\", \"Jacob\", \"Sai\", \"Sarita\"]\n",
    "\n",
    "# Initialize an empty list to store common elements\n",
    "common_employees = []\n",
    "\n",
    "# Check for common elements without using built-in functions\n",
    "for name1 in list1:\n",
    "    for name2 in list2:\n",
    "        if name1 == name2:\n",
    "            common_employees.append(name1)\n",
    "            break  # Break the inner loop once a common element is found\n",
    "\n",
    "# Display the common employees\n",
    "print(\"Common employees:\", common_employees)\n"
   ]
  },
  {
   "cell_type": "code",
   "execution_count": 6,
   "metadata": {},
   "outputs": [
    {
     "name": "stdout",
     "output_type": "stream",
     "text": [
      "name JAY <class 'str'>\n",
      "name 2.3 <class 'float'>\n",
      "name True <class 'bool'>\n",
      "name T <class 'str'>\n",
      "name (3+7j) <class 'complex'>\n"
     ]
    }
   ],
   "source": [
    "#variable and type\n",
    "\n",
    "name=\"JAY\"\n",
    "print(\"name\",name ,type(name))\n",
    "\n",
    "name=2.3\n",
    "print(\"name\",name ,type(name))\n",
    "\n",
    "name=True\n",
    "print(\"name\",name ,type(name))\n",
    "\n",
    "name=\"T\"\n",
    "print(\"name\",name ,type(name))\n",
    "\n",
    "name=3+7j\n",
    "print(\"name\",name ,type(name))\n",
    "\n"
   ]
  },
  {
   "cell_type": "code",
   "execution_count": 9,
   "metadata": {},
   "outputs": [
    {
     "name": "stdout",
     "output_type": "stream",
     "text": [
      "add 13\n",
      "sub 7\n",
      "div 3.3333333333333335\n",
      "multi 30\n",
      "floor 3\n",
      "mood 1\n"
     ]
    }
   ],
   "source": [
    "# Arithmetic Operations\n",
    "x=10\n",
    "y=3\n",
    "\n",
    "add=x+y\n",
    "print(\"add\",add)\n",
    "\n",
    "sub=x-y\n",
    "print(\"sub\",sub)\n",
    "\n",
    "div=x/y\n",
    "print(\"div\",div)\n",
    "\n",
    "multi=x*y\n",
    "print(\"multi\",multi)\n",
    "\n",
    "floor=x//y\n",
    "print(\"floor\",floor)\n",
    "\n",
    "mood=x%y\n",
    "print(\"mood\",mood)"
   ]
  },
  {
   "cell_type": "code",
   "execution_count": 10,
   "metadata": {},
   "outputs": [
    {
     "name": "stdout",
     "output_type": "stream",
     "text": [
      "False True True False\n"
     ]
    }
   ],
   "source": [
    "# Comparision Operators\n",
    "\n",
    "x=10\n",
    "y=5\n",
    "\n",
    "equal=x==y\n",
    "not_eq=x!=y\n",
    "gt=x>y\n",
    "lt=x<y\n",
    "print(equal,not_eq,gt,lt)\n"
   ]
  },
  {
   "cell_type": "code",
   "execution_count": 11,
   "metadata": {},
   "outputs": [
    {
     "name": "stdout",
     "output_type": "stream",
     "text": [
      "False True False\n"
     ]
    }
   ],
   "source": [
    "#logical Operators\n",
    "a=True\n",
    "b=False\n",
    "print( a and b , a or b , not a)"
   ]
  },
  {
   "cell_type": "code",
   "execution_count": 12,
   "metadata": {},
   "outputs": [
    {
     "name": "stdout",
     "output_type": "stream",
     "text": [
      "10\n",
      "15\n"
     ]
    }
   ],
   "source": [
    "## Assingnment Operator\n",
    "x=10\n",
    "print(x)\n",
    "x+=5\n",
    "print(x)\n"
   ]
  },
  {
   "cell_type": "code",
   "execution_count": 13,
   "metadata": {},
   "outputs": [
    {
     "name": "stdout",
     "output_type": "stream",
     "text": [
      "True\n",
      "True\n",
      "False\n"
     ]
    }
   ],
   "source": [
    "# identety and Membership Op\n",
    "x=[1,2,3]\n",
    "y=x\n",
    "print(x is y)\n",
    "print(2 in x)\n",
    "print(5 in x)\n"
   ]
  },
  {
   "cell_type": "code",
   "execution_count": 15,
   "metadata": {},
   "outputs": [
    {
     "name": "stdout",
     "output_type": "stream",
     "text": [
      "Hello,  prashant\n"
     ]
    }
   ],
   "source": [
    "#Taking input from user\n",
    "name = input(\"Enter your Name\")\n",
    "print(\"Hello,\",name)"
   ]
  },
  {
   "cell_type": "code",
   "execution_count": 20,
   "metadata": {},
   "outputs": [
    {
     "name": "stdout",
     "output_type": "stream",
     "text": [
      "My name is prashant\n",
      "My Sure name is jadhav\n",
      "My name is prashant jadhav and house number is 100\n"
     ]
    }
   ],
   "source": [
    "name =\"prashant\"\n",
    "surName= \"jadhav\"\n",
    "houseNumber= 100\n",
    "print(\"My name is %s\" % name)\n",
    "print(\"My Sure name is %s\" % surName)\n",
    "print(\"My name is %s %s and house number is %d\" %( name , surName,houseNumber))"
   ]
  },
  {
   "cell_type": "code",
   "execution_count": 21,
   "metadata": {},
   "outputs": [
    {
     "name": "stdout",
     "output_type": "stream",
     "text": [
      "My name is prashant\n",
      "My Sure name is jadhav\n",
      "My name isprashant jadhav and house number is  100\n"
     ]
    }
   ],
   "source": [
    "name =\"prashant\"\n",
    "surName= \"jadhav\"\n",
    "houseNumber= 100\n",
    "print(f\"My name is {name}\")\n",
    "print(f\"My Sure name is {surName}\")\n",
    "print(f\"My name is{name} {surName} and house number is  {houseNumber}\")"
   ]
  },
  {
   "cell_type": "code",
   "execution_count": 22,
   "metadata": {},
   "outputs": [
    {
     "data": {
      "text/plain": [
       "'This is a\\n    Multi-Line comment\\n    '"
      ]
     },
     "execution_count": 22,
     "metadata": {},
     "output_type": "execute_result"
    }
   ],
   "source": [
    "# comment\n",
    "\n",
    "# This is single line comment\n",
    "\n",
    "#multi-line comment\n",
    "\"\"\"This is a\n",
    "    Multi-Line comment\n",
    "    \"\"\"\n"
   ]
  },
  {
   "cell_type": "code",
   "execution_count": null,
   "metadata": {},
   "outputs": [],
   "source": [
    "# String Slicing"
   ]
  },
  {
   "cell_type": "code",
   "execution_count": 58,
   "metadata": {},
   "outputs": [
    {
     "name": "stdout",
     "output_type": "stream",
     "text": [
      "name VaibhaV Arde waeshhrjhgrdfsgd\n",
      "Slicing\n"
     ]
    },
    {
     "data": {
      "text/plain": [
       "'VaibhaV A'"
      ]
     },
     "execution_count": 58,
     "metadata": {},
     "output_type": "execute_result"
    }
   ],
   "source": [
    "# name= \"prashant jadhav\"\n",
    "# name= \"VaibhaV Arde waeshhrjhgrdfsgd\"\n",
    "name= \"VaibhaV Arde waeshhrjhgrdfsgd\"\n",
    "print(\"name\",name)\n",
    "print(\"Slicing\")\n",
    "name[0:9]"
   ]
  },
  {
   "cell_type": "code",
   "execution_count": 53,
   "metadata": {},
   "outputs": [
    {
     "name": "stdout",
     "output_type": "stream",
     "text": [
      "VaibhaV \n",
      "bhaV \n",
      "VihVAd\n",
      "VbVr\n"
     ]
    }
   ],
   "source": [
    "print(name[0:8])\n",
    "print(name[3:8])\n",
    "print(name[0::2])\n",
    "print(name[0::3])\n"
   ]
  },
  {
   "cell_type": "code",
   "execution_count": 54,
   "metadata": {},
   "outputs": [
    {
     "data": {
      "text/plain": [
       "'edrA VahbiaV'"
      ]
     },
     "execution_count": 54,
     "metadata": {},
     "output_type": "execute_result"
    }
   ],
   "source": [
    "name[::-1]"
   ]
  },
  {
   "cell_type": "code",
   "execution_count": 55,
   "metadata": {},
   "outputs": [
    {
     "data": {
      "text/plain": [
       "6"
      ]
     },
     "execution_count": 55,
     "metadata": {},
     "output_type": "execute_result"
    }
   ],
   "source": [
    "int(len(name)/2)"
   ]
  },
  {
   "cell_type": "code",
   "execution_count": 62,
   "metadata": {},
   "outputs": [
    {
     "name": "stdout",
     "output_type": "stream",
     "text": [
      "3\n"
     ]
    }
   ],
   "source": [
    "print(name.find('bhaV'))"
   ]
  },
  {
   "cell_type": "code",
   "execution_count": 63,
   "metadata": {},
   "outputs": [
    {
     "data": {
      "text/plain": [
       "'bhaV Arde waeshhrjhgrdfsgd'"
      ]
     },
     "execution_count": 63,
     "metadata": {},
     "output_type": "execute_result"
    }
   ],
   "source": [
    "name[name.find('bhaV')::]"
   ]
  },
  {
   "cell_type": "code",
   "execution_count": 73,
   "metadata": {},
   "outputs": [
    {
     "data": {
      "text/plain": [
       "'dgsfdrghjr'"
      ]
     },
     "execution_count": 73,
     "metadata": {},
     "output_type": "execute_result"
    }
   ],
   "source": [
    "name[:-11:-1]"
   ]
  },
  {
   "cell_type": "code",
   "execution_count": 74,
   "metadata": {},
   "outputs": [
    {
     "data": {
      "text/plain": [
       "'hrjhgrdfsgd'"
      ]
     },
     "execution_count": 74,
     "metadata": {},
     "output_type": "execute_result"
    }
   ],
   "source": [
    "name[-11::]"
   ]
  },
  {
   "cell_type": "code",
   "execution_count": 76,
   "metadata": {},
   "outputs": [
    {
     "name": "stdout",
     "output_type": "stream",
     "text": [
      "12345\n",
      "<class 'str'>\n"
     ]
    }
   ],
   "source": [
    "# Type casting\n",
    "\n",
    "num=12345\n",
    "print(str(num))\n",
    "print(type(str(num)))"
   ]
  },
  {
   "cell_type": "code",
   "execution_count": 80,
   "metadata": {},
   "outputs": [
    {
     "name": "stdout",
     "output_type": "stream",
     "text": [
      "12345\n",
      "<class 'int'>\n"
     ]
    }
   ],
   "source": [
    "# Type casting\n",
    "\n",
    "num=\"12345\"\n",
    "print(int(num))\n",
    "print(type(int(num)))"
   ]
  },
  {
   "cell_type": "code",
   "execution_count": null,
   "metadata": {},
   "outputs": [],
   "source": []
  }
 ],
 "metadata": {
  "kernelspec": {
   "display_name": "Python 3",
   "language": "python",
   "name": "python3"
  },
  "language_info": {
   "codemirror_mode": {
    "name": "ipython",
    "version": 3
   },
   "file_extension": ".py",
   "mimetype": "text/x-python",
   "name": "python",
   "nbconvert_exporter": "python",
   "pygments_lexer": "ipython3",
   "version": "3.11.6"
  }
 },
 "nbformat": 4,
 "nbformat_minor": 2
}
