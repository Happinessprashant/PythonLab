{
 "cells": [
  {
   "cell_type": "code",
   "execution_count": 3,
   "metadata": {},
   "outputs": [],
   "source": [
    "import threading\n",
    "\n",
    "import urllib.request\n",
    "\n",
    "\n",
    "def file_download(url ,filename) :\n",
    "    urllib.request.urlretrieve(url,filename)"
   ]
  },
  {
   "cell_type": "code",
   "execution_count": null,
   "metadata": {},
   "outputs": [],
   "source": []
  },
  {
   "attachments": {},
   "cell_type": "markdown",
   "metadata": {},
   "source": [
    "file_download(\"https://raw.githubusercontent.com/itsfoss/text-Files/master/agatha.txt\",\"test.txt\")"
   ]
  },
  {
   "attachments": {},
   "cell_type": "markdown",
   "metadata": {},
   "source": []
  },
  {
   "attachments": {},
   "cell_type": "markdown",
   "metadata": {},
   "source": []
  },
  {
   "cell_type": "code",
   "execution_count": 5,
   "metadata": {},
   "outputs": [],
   "source": [
    "url_list = [\n",
    "    \"https://raw.githubusercontent.com/itsfoss/text-Files/master/agatha.txt\",\n",
    "    \"https://raw.githubusercontent.com/itsfoss/text-files/master/sherlock.txt\",\n",
    "    \"https://raw.githubusercontent.com/itsfoss/text-files/master/sample_log_file.txt\"\n",
    "]\n"
   ]
  },
  {
   "cell_type": "code",
   "execution_count": 7,
   "metadata": {},
   "outputs": [
    {
     "data": {
      "text/plain": [
       "['https://raw.githubusercontent.com/itsfoss/text-Files/master/agatha.txt',\n",
       " 'https://raw.githubusercontent.com/itsfoss/text-files/master/sherlock.txt',\n",
       " 'https://raw.githubusercontent.com/itsfoss/text-files/master/sample_log_file.txt']"
      ]
     },
     "execution_count": 7,
     "metadata": {},
     "output_type": "execute_result"
    }
   ],
   "source": [
    "url_list"
   ]
  },
  {
   "attachments": {},
   "cell_type": "markdown",
   "metadata": {},
   "source": []
  },
  {
   "cell_type": "code",
   "execution_count": 6,
   "metadata": {},
   "outputs": [],
   "source": [
    "file_name=[\"data1.txt\", \"data2.txt\",\"data3.txt\"]"
   ]
  },
  {
   "cell_type": "code",
   "execution_count": null,
   "metadata": {},
   "outputs": [],
   "source": []
  },
  {
   "cell_type": "code",
   "execution_count": 8,
   "metadata": {},
   "outputs": [],
   "source": [
    "thread=[threading.Thread(target=file_download , args=(url_list[i],file_name[i])) for i in range(len(file_name))]\n",
    "\n"
   ]
  },
  {
   "cell_type": "code",
   "execution_count": 9,
   "metadata": {},
   "outputs": [
    {
     "data": {
      "text/plain": [
       "[<Thread(Thread-4 (file_download), initial)>,\n",
       " <Thread(Thread-5 (file_download), initial)>,\n",
       " <Thread(Thread-6 (file_download), initial)>]"
      ]
     },
     "execution_count": 9,
     "metadata": {},
     "output_type": "execute_result"
    }
   ],
   "source": [
    "thread"
   ]
  },
  {
   "cell_type": "code",
   "execution_count": 10,
   "metadata": {},
   "outputs": [],
   "source": [
    "for t in thread:\n",
    "    t.start() "
   ]
  },
  {
   "cell_type": "code",
   "execution_count": 11,
   "metadata": {},
   "outputs": [
    {
     "data": {
      "text/plain": [
       "[<Thread(Thread-4 (file_download), stopped 21116)>,\n",
       " <Thread(Thread-5 (file_download), stopped 34796)>,\n",
       " <Thread(Thread-6 (file_download), stopped 31204)>]"
      ]
     },
     "execution_count": 11,
     "metadata": {},
     "output_type": "execute_result"
    }
   ],
   "source": [
    "thread"
   ]
  },
  {
   "cell_type": "code",
   "execution_count": 12,
   "metadata": {},
   "outputs": [],
   "source": [
    "import time"
   ]
  },
  {
   "cell_type": "code",
   "execution_count": 20,
   "metadata": {},
   "outputs": [],
   "source": [
    "# it is run with  parallel   with the all thread But it is the print one id and take a pause of one second but execute the next id at time\n",
    "\n",
    "def test1(id):\n",
    "    for i in range(10):\n",
    "        print(\"test1 %d printing %d %s\" %(id , i ,time.ctime()))\n",
    "        time.sleep(1)"
   ]
  },
  {
   "cell_type": "code",
   "execution_count": 21,
   "metadata": {},
   "outputs": [
    {
     "name": "stdout",
     "output_type": "stream",
     "text": [
      "test1 1 printing 0 Tue Jul 18 07:43:35 2023\n",
      "test1 1 printing 1 Tue Jul 18 07:43:36 2023\n",
      "test1 1 printing 2 Tue Jul 18 07:43:37 2023\n",
      "test1 1 printing 3 Tue Jul 18 07:43:38 2023\n",
      "test1 1 printing 4 Tue Jul 18 07:43:39 2023\n",
      "test1 1 printing 5 Tue Jul 18 07:43:40 2023\n",
      "test1 1 printing 6 Tue Jul 18 07:43:41 2023\n",
      "test1 1 printing 7 Tue Jul 18 07:43:42 2023\n",
      "test1 1 printing 8 Tue Jul 18 07:43:43 2023\n",
      "test1 1 printing 9 Tue Jul 18 07:43:44 2023\n"
     ]
    }
   ],
   "source": [
    "test1(1)"
   ]
  },
  {
   "cell_type": "code",
   "execution_count": 15,
   "metadata": {},
   "outputs": [],
   "source": [
    "thread1=[threading.Thread(target=test1 , args=(i,)) for i in range(3)]"
   ]
  },
  {
   "cell_type": "code",
   "execution_count": 16,
   "metadata": {},
   "outputs": [
    {
     "name": "stdout",
     "output_type": "stream",
     "text": [
      "test1 0 printing 0test1 1 printing 0\n",
      "\n",
      "test1 2 printing 0\n"
     ]
    },
    {
     "name": "stdout",
     "output_type": "stream",
     "text": [
      "test1 1 printing 1\n",
      "test1 0 printing 1\n",
      "test1 2 printing 1\n",
      "test1 1 printing 2\n",
      "test1 2 printing 2\n",
      "test1 0 printing 2\n",
      "test1 1 printing 3\n",
      "test1 2 printing 3\n",
      "test1 0 printing 3\n",
      "test1 1 printing 4\n",
      "test1 0 printing 4\n",
      "test1 2 printing 4\n",
      "test1 1 printing 5\n",
      "test1 0 printing 5\n",
      "test1 2 printing 5\n",
      "test1 1 printing 6\n",
      "test1 0 printing 6\n",
      "test1 2 printing 6\n",
      "test1 1 printing 7\n",
      "test1 0 printing 7\n",
      "test1 2 printing 7\n",
      "test1 1 printing 8\n",
      "test1 2 printing 8\n",
      "test1 0 printing 8\n",
      "test1 0 printing 9\n",
      "test1 1 printing 9\n",
      "test1 2 printing 9\n"
     ]
    }
   ],
   "source": [
    "for t in thread1:\n",
    "    t.start()"
   ]
  },
  {
   "cell_type": "code",
   "execution_count": 18,
   "metadata": {},
   "outputs": [
    {
     "name": "stdout",
     "output_type": "stream",
     "text": [
      "test1 0 printing 0\n",
      "test1 0 printing 1\n",
      "test1 0 printing 2\n",
      "test1 0 printing 3\n",
      "test1 0 printing 4\n",
      "test1 0 printing 5\n",
      "test1 0 printing 6\n",
      "test1 0 printing 7\n",
      "test1 0 printing 8\n",
      "test1 0 printing 9\n",
      "test1 1 printing 0\n",
      "test1 1 printing 1\n",
      "test1 1 printing 2\n",
      "test1 1 printing 3\n",
      "test1 1 printing 4\n",
      "test1 1 printing 5\n",
      "test1 1 printing 6\n",
      "test1 1 printing 7\n",
      "test1 1 printing 8\n",
      "test1 1 printing 9\n",
      "test1 2 printing 0\n",
      "test1 2 printing 1\n",
      "test1 2 printing 2\n",
      "test1 2 printing 3\n",
      "test1 2 printing 4\n",
      "test1 2 printing 5\n",
      "test1 2 printing 6\n",
      "test1 2 printing 7\n",
      "test1 2 printing 8\n",
      "test1 2 printing 9\n"
     ]
    }
   ],
   "source": [
    "#Without the Taking a pause \n",
    "def test2(id):\n",
    "    for i in range(10):\n",
    "        print(\"test1 %d printing %d\" %(id , i))\n",
    "        # time.sleep(1)\n",
    "        \n",
    "        \n",
    " \n",
    "thread2=[threading.Thread(target=test2 , args=(i,)) for i in range(3)]\n",
    "\n",
    "for t in thread2:\n",
    "    t.start()\n",
    "        "
   ]
  },
  {
   "cell_type": "code",
   "execution_count": 29,
   "metadata": {},
   "outputs": [],
   "source": [
    "\n",
    "shared_var =0\n",
    "lock_var  = threading.Lock()\n"
   ]
  },
  {
   "cell_type": "code",
   "execution_count": 31,
   "metadata": {},
   "outputs": [
    {
     "name": "stdout",
     "output_type": "stream",
     "text": [
      "test3 id is 0 has increased the shared variable by 4  Tue Jul 18 08:07:16 2023 \n"
     ]
    },
    {
     "name": "stdout",
     "output_type": "stream",
     "text": [
      "test3 id is 1 has increased the shared variable by 5  Tue Jul 18 08:07:17 2023 \n",
      "test3 id is 2 has increased the shared variable by 6  Tue Jul 18 08:07:18 2023 \n"
     ]
    }
   ],
   "source": [
    "def test3(id):\n",
    "    global shared_var\n",
    "    with lock_var:\n",
    "        shared_var =shared_var+1\n",
    "        print(\"test3 id is %d has increased the shared variable by %d  %s \"%(id, shared_var ,time.ctime() ))\n",
    "        time.sleep(1)\n",
    "thread3 =[threading.Thread(target=test3 , args=(i,)) for i in range(3)]        \n",
    "\n",
    "for t in thread3:\n",
    "     t.start() "
   ]
  },
  {
   "cell_type": "code",
   "execution_count": 4,
   "metadata": {},
   "outputs": [
    {
     "name": "stdout",
     "output_type": "stream",
     "text": [
      "prashant jadhav\n"
     ]
    }
   ],
   "source": [
    "print(\"prashant jadhav\",sep=\" \")"
   ]
  }
 ],
 "metadata": {
  "kernelspec": {
   "display_name": "Python 3",
   "language": "python",
   "name": "python3"
  },
  "language_info": {
   "codemirror_mode": {
    "name": "ipython",
    "version": 3
   },
   "file_extension": ".py",
   "mimetype": "text/x-python",
   "name": "python",
   "nbconvert_exporter": "python",
   "pygments_lexer": "ipython3",
   "version": "3.11.2"
  },
  "orig_nbformat": 4
 },
 "nbformat": 4,
 "nbformat_minor": 2
}
