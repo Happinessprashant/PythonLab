{
 "cells": [
  {
   "cell_type": "code",
   "execution_count": null,
   "id": "c68b1404",
   "metadata": {},
   "outputs": [],
   "source": [
    "Classes: \n",
    "    A class is a blueprint or template for creating objects. It defines the properties \n",
    "    (attributes) and behaviors (methods) that objects of that class will have.\n",
    "\n",
    "Objects: Objects are instances of classes. They represent real-world entities and \n",
    "    encapsulate data and methods relevant to them."
   ]
  },
  {
   "cell_type": "code",
   "execution_count": 20,
   "id": "8480df32",
   "metadata": {},
   "outputs": [
    {
     "name": "stdout",
     "output_type": "stream",
     "text": [
      "Hii\n"
     ]
    }
   ],
   "source": [
    "print(\"Hii\")"
   ]
  },
  {
   "cell_type": "code",
   "execution_count": 16,
   "id": "1821fe6a",
   "metadata": {},
   "outputs": [],
   "source": [
    "class a:\n",
    "    \n",
    "    def __init__(self, name):\n",
    "        self.name=name\n",
    "    def print1(self):\n",
    "        return self.name    \n",
    "        \n",
    "    def print(self):\n",
    "        return name"
   ]
  },
  {
   "cell_type": "code",
   "execution_count": 17,
   "id": "6c19e301",
   "metadata": {},
   "outputs": [],
   "source": [
    "p=a(\"prashant\")"
   ]
  },
  {
   "cell_type": "code",
   "execution_count": 18,
   "id": "c22a8c89",
   "metadata": {},
   "outputs": [
    {
     "data": {
      "text/plain": [
       "'prashant'"
      ]
     },
     "execution_count": 18,
     "metadata": {},
     "output_type": "execute_result"
    }
   ],
   "source": [
    "p.name"
   ]
  },
  {
   "cell_type": "code",
   "execution_count": 19,
   "id": "f4a83bcf",
   "metadata": {},
   "outputs": [
    {
     "data": {
      "text/plain": [
       "'prashant'"
      ]
     },
     "execution_count": 19,
     "metadata": {},
     "output_type": "execute_result"
    }
   ],
   "source": [
    "p.print1()"
   ]
  },
  {
   "cell_type": "code",
   "execution_count": null,
   "id": "8fcf1fc4",
   "metadata": {},
   "outputs": [],
   "source": []
  },
  {
   "cell_type": "code",
   "execution_count": null,
   "id": "ef49bcf4",
   "metadata": {},
   "outputs": [],
   "source": []
  },
  {
   "cell_type": "code",
   "execution_count": null,
   "id": "0877d22d",
   "metadata": {},
   "outputs": [],
   "source": [
    "#                                             Polymorphism:"
   ]
  },
  {
   "cell_type": "code",
   "execution_count": 21,
   "id": "a4a1ad76",
   "metadata": {},
   "outputs": [],
   "source": [
    "# Polymorphism:\n",
    "#     Polymorphism allows objects of different classes to be treated as objects of a common superclass.\n",
    "#     It enables methods to be implemented in different ways in different\n",
    "#     classes while sharing the same method name."
   ]
  },
  {
   "cell_type": "code",
   "execution_count": null,
   "id": "2357892e",
   "metadata": {},
   "outputs": [],
   "source": []
  },
  {
   "cell_type": "code",
   "execution_count": 1,
   "id": "1654c42b",
   "metadata": {},
   "outputs": [],
   "source": [
    "\n",
    "class Data_science: \n",
    "    def syllabus(self):\n",
    "        print(\"This is the the Data science Syllabus\")\n",
    "        \n",
    "        \n",
    "class web_dev:\n",
    "    def syllabus(self):\n",
    "        print(\"This is the web dev syllabus\")\n",
    "        "
   ]
  },
  {
   "cell_type": "code",
   "execution_count": 2,
   "id": "9cc87285",
   "metadata": {},
   "outputs": [],
   "source": [
    "def print1(class_obj):\n",
    "    for i in class_obj:\n",
    "        i.syllabus() \n",
    "        \n"
   ]
  },
  {
   "cell_type": "code",
   "execution_count": 3,
   "id": "865dcfde",
   "metadata": {},
   "outputs": [],
   "source": [
    "data=Data_science()\n",
    "web=web_dev()"
   ]
  },
  {
   "cell_type": "code",
   "execution_count": 6,
   "id": "5078af8f",
   "metadata": {},
   "outputs": [],
   "source": [
    "obj1 = [data, web]"
   ]
  },
  {
   "cell_type": "code",
   "execution_count": 7,
   "id": "4e1e68e9",
   "metadata": {},
   "outputs": [
    {
     "name": "stdout",
     "output_type": "stream",
     "text": [
      "This is the the Data science Syllabus\n",
      "This is the web dev syllabus\n"
     ]
    }
   ],
   "source": [
    "print1(obj1)"
   ]
  },
  {
   "cell_type": "code",
   "execution_count": 114,
   "id": "e742130f",
   "metadata": {},
   "outputs": [],
   "source": []
  },
  {
   "cell_type": "code",
   "execution_count": 115,
   "id": "b143c3a0",
   "metadata": {},
   "outputs": [],
   "source": []
  },
  {
   "cell_type": "code",
   "execution_count": null,
   "id": "90fc9d7a",
   "metadata": {},
   "outputs": [],
   "source": []
  },
  {
   "cell_type": "code",
   "execution_count": 60,
   "id": "8b053ac0",
   "metadata": {},
   "outputs": [],
   "source": []
  },
  {
   "cell_type": "code",
   "execution_count": null,
   "id": "edb818b2",
   "metadata": {},
   "outputs": [],
   "source": []
  },
  {
   "cell_type": "code",
   "execution_count": 50,
   "id": "b5939b50",
   "metadata": {},
   "outputs": [
    {
     "data": {
      "text/plain": [
       "0"
      ]
     },
     "execution_count": 50,
     "metadata": {},
     "output_type": "execute_result"
    }
   ],
   "source": [
    "a=0\n",
    "a"
   ]
  },
  {
   "cell_type": "code",
   "execution_count": null,
   "id": "fdf8d821",
   "metadata": {},
   "outputs": [],
   "source": []
  },
  {
   "cell_type": "code",
   "execution_count": null,
   "id": "99797efd",
   "metadata": {},
   "outputs": [],
   "source": []
  },
  {
   "cell_type": "code",
   "execution_count": null,
   "id": "116ec9c8",
   "metadata": {},
   "outputs": [],
   "source": []
  },
  {
   "cell_type": "code",
   "execution_count": null,
   "id": "3951c0eb",
   "metadata": {},
   "outputs": [],
   "source": []
  },
  {
   "cell_type": "code",
   "execution_count": null,
   "id": "1a46e711",
   "metadata": {},
   "outputs": [],
   "source": []
  },
  {
   "cell_type": "code",
   "execution_count": null,
   "id": "3c4af861",
   "metadata": {},
   "outputs": [],
   "source": [
    "#                                                Encapsulation:"
   ]
  },
  {
   "cell_type": "code",
   "execution_count": 136,
   "id": "50d3cf53",
   "metadata": {},
   "outputs": [],
   "source": [
    "# Encapsulation:\n",
    "#     Encapsulation is the principle of bundling data and methods together within a class.\n",
    "#     It allows for data hiding and abstraction, ensuring \n",
    "#     that data can only be accessed through defined methods.\n"
   ]
  },
  {
   "cell_type": "code",
   "execution_count": null,
   "id": "019ec4d0",
   "metadata": {},
   "outputs": [],
   "source": [
    "Aaccess Specifire => public , private , protected"
   ]
  },
  {
   "cell_type": "code",
   "execution_count": 137,
   "id": "290ab093",
   "metadata": {},
   "outputs": [],
   "source": [
    "class test:\n",
    "    \n",
    "    def __init__(self,a,b):\n",
    "        self.a=a\n",
    "        self.b=b\n",
    "        \n",
    "        "
   ]
  },
  {
   "cell_type": "code",
   "execution_count": 138,
   "id": "cd6e4f7b",
   "metadata": {},
   "outputs": [],
   "source": [
    "a=test(8,8)"
   ]
  },
  {
   "cell_type": "code",
   "execution_count": 139,
   "id": "6bb9f124",
   "metadata": {},
   "outputs": [
    {
     "data": {
      "text/plain": [
       "<__main__.test at 0x21724d4f1c0>"
      ]
     },
     "execution_count": 139,
     "metadata": {},
     "output_type": "execute_result"
    }
   ],
   "source": [
    "a"
   ]
  },
  {
   "cell_type": "code",
   "execution_count": 144,
   "id": "115a3d5a",
   "metadata": {},
   "outputs": [],
   "source": [
    "a.a=2"
   ]
  },
  {
   "cell_type": "code",
   "execution_count": null,
   "id": "17b0e983",
   "metadata": {},
   "outputs": [],
   "source": []
  },
  {
   "cell_type": "code",
   "execution_count": null,
   "id": "1936751f",
   "metadata": {},
   "outputs": [],
   "source": []
  },
  {
   "cell_type": "code",
   "execution_count": null,
   "id": "039977c2",
   "metadata": {},
   "outputs": [],
   "source": []
  },
  {
   "cell_type": "code",
   "execution_count": null,
   "id": "9f673665",
   "metadata": {},
   "outputs": [],
   "source": []
  },
  {
   "cell_type": "code",
   "execution_count": 35,
   "id": "0a21c05e",
   "metadata": {},
   "outputs": [],
   "source": [
    "class car:\n",
    "    \n",
    "    def __init__(self,year,make,model,speed):\n",
    "        self.__year=year\n",
    "        self.__make=make\n",
    "        self.__model=model\n",
    "        self.__speed=0\n",
    "        \n",
    "    def set__speed(self, speed):\n",
    "        self.__speed=0 if speed<0 else speed\n",
    "        \n",
    "    def get__speed(self):\n",
    "        return self.__speed\n",
    "        \n",
    "    \n",
    "    def show(self):\n",
    "        return f\" year : {self.__year} , make : {self.__make} , model  : {self.__model} , speed : {self.__speed}\""
   ]
  },
  {
   "cell_type": "code",
   "execution_count": 36,
   "id": "d6cdc105",
   "metadata": {},
   "outputs": [],
   "source": [
    "c=car(2024,\"toyata\",\"innova\",15)"
   ]
  },
  {
   "cell_type": "code",
   "execution_count": 37,
   "id": "7e6d408a",
   "metadata": {},
   "outputs": [
    {
     "ename": "AttributeError",
     "evalue": "'car' object has no attribute 'year'",
     "output_type": "error",
     "traceback": [
      "\u001b[1;31m---------------------------------------------------------------------------\u001b[0m",
      "\u001b[1;31mAttributeError\u001b[0m                            Traceback (most recent call last)",
      "Cell \u001b[1;32mIn[37], line 1\u001b[0m\n\u001b[1;32m----> 1\u001b[0m \u001b[43mc\u001b[49m\u001b[38;5;241;43m.\u001b[39;49m\u001b[43myear\u001b[49m\n",
      "\u001b[1;31mAttributeError\u001b[0m: 'car' object has no attribute 'year'"
     ]
    }
   ],
   "source": [
    "c.year"
   ]
  },
  {
   "cell_type": "code",
   "execution_count": 38,
   "id": "f9203d4f",
   "metadata": {},
   "outputs": [
    {
     "data": {
      "text/plain": [
       "2024"
      ]
     },
     "execution_count": 38,
     "metadata": {},
     "output_type": "execute_result"
    }
   ],
   "source": [
    "c._car__year"
   ]
  },
  {
   "cell_type": "code",
   "execution_count": 39,
   "id": "cf65a9ed",
   "metadata": {},
   "outputs": [
    {
     "data": {
      "text/plain": [
       "'innova'"
      ]
     },
     "execution_count": 39,
     "metadata": {},
     "output_type": "execute_result"
    }
   ],
   "source": [
    "c._car__model\n"
   ]
  },
  {
   "cell_type": "code",
   "execution_count": 40,
   "id": "5905ba41",
   "metadata": {},
   "outputs": [
    {
     "data": {
      "text/plain": [
       "0"
      ]
     },
     "execution_count": 40,
     "metadata": {},
     "output_type": "execute_result"
    }
   ],
   "source": [
    "c._car__speed"
   ]
  },
  {
   "cell_type": "code",
   "execution_count": 41,
   "id": "1584e36b",
   "metadata": {},
   "outputs": [
    {
     "data": {
      "text/plain": [
       "' year : 2024 , make : toyata , model  : innova , speed : 0'"
      ]
     },
     "execution_count": 41,
     "metadata": {},
     "output_type": "execute_result"
    }
   ],
   "source": [
    "c.show()"
   ]
  },
  {
   "cell_type": "code",
   "execution_count": 42,
   "id": "50f37f71",
   "metadata": {},
   "outputs": [
    {
     "data": {
      "text/plain": [
       "0"
      ]
     },
     "execution_count": 42,
     "metadata": {},
     "output_type": "execute_result"
    }
   ],
   "source": [
    "c.get__speed()"
   ]
  },
  {
   "cell_type": "code",
   "execution_count": 43,
   "id": "e962580d",
   "metadata": {},
   "outputs": [],
   "source": [
    "c.set__speed(30)"
   ]
  },
  {
   "cell_type": "code",
   "execution_count": 44,
   "id": "7d99ae48",
   "metadata": {},
   "outputs": [
    {
     "data": {
      "text/plain": [
       "30"
      ]
     },
     "execution_count": 44,
     "metadata": {},
     "output_type": "execute_result"
    }
   ],
   "source": [
    "c.get__speed()"
   ]
  },
  {
   "cell_type": "code",
   "execution_count": 45,
   "id": "7b917991",
   "metadata": {},
   "outputs": [],
   "source": [
    "c.set__speed(-506265)"
   ]
  },
  {
   "cell_type": "code",
   "execution_count": 46,
   "id": "b2597294",
   "metadata": {},
   "outputs": [
    {
     "data": {
      "text/plain": [
       "0"
      ]
     },
     "execution_count": 46,
     "metadata": {},
     "output_type": "execute_result"
    }
   ],
   "source": [
    "c.get__speed()"
   ]
  },
  {
   "cell_type": "code",
   "execution_count": null,
   "id": "727dbfd7",
   "metadata": {},
   "outputs": [],
   "source": []
  },
  {
   "cell_type": "code",
   "execution_count": null,
   "id": "41a96a49",
   "metadata": {},
   "outputs": [],
   "source": []
  },
  {
   "cell_type": "code",
   "execution_count": null,
   "id": "1b7a9176",
   "metadata": {},
   "outputs": [],
   "source": []
  },
  {
   "cell_type": "code",
   "execution_count": 94,
   "id": "001197d9",
   "metadata": {},
   "outputs": [],
   "source": [
    "class bank_account:\n",
    "    \n",
    "    def __init__(self, balance):\n",
    "        self.__balance=balance \n",
    "        \n",
    "        \n",
    "    def deposit(self, amount):\n",
    "        self.__balance=self.__balance+amount\n",
    "        return f\"{amount} is Deposit  & Available  Balance is {self.__balance}\"\n",
    "        \n",
    "    \n",
    "    def withdraw(self,amount):\n",
    "        if self.__balance >=amount:\n",
    "            self.__balance = self.__balance-amount\n",
    "            return f\"withdrawal is Successfull !!  {amount} is withdrawal & Available  Balance is {self.__balance}\"\n",
    "#             return True\n",
    "        else:\n",
    "            return f\"In sufficient Balance & Available  Balance is {self.__balance},{p}\"\n",
    "            \n",
    "    def get_balance(self):\n",
    "        return   f\" Available  Balance is {self.__balance}\""
   ]
  },
  {
   "cell_type": "code",
   "execution_count": 95,
   "id": "e625d09d",
   "metadata": {},
   "outputs": [],
   "source": [
    "p = bank_account(2000)"
   ]
  },
  {
   "cell_type": "code",
   "execution_count": 96,
   "id": "ac9f7af5",
   "metadata": {},
   "outputs": [
    {
     "data": {
      "text/plain": [
       "' Available  Balance is 2000'"
      ]
     },
     "execution_count": 96,
     "metadata": {},
     "output_type": "execute_result"
    }
   ],
   "source": [
    "p.get_balance()"
   ]
  },
  {
   "cell_type": "code",
   "execution_count": 97,
   "id": "0d6e7411",
   "metadata": {},
   "outputs": [
    {
     "data": {
      "text/plain": [
       "'100 is Deposit  & Available  Balance is 2100'"
      ]
     },
     "execution_count": 97,
     "metadata": {},
     "output_type": "execute_result"
    }
   ],
   "source": [
    "p.deposit(100)"
   ]
  },
  {
   "cell_type": "code",
   "execution_count": 98,
   "id": "433bfb31",
   "metadata": {},
   "outputs": [
    {
     "data": {
      "text/plain": [
       "'withdrawal is Successfull !!  100 is withdrawal & Available  Balance is 2000'"
      ]
     },
     "execution_count": 98,
     "metadata": {},
     "output_type": "execute_result"
    }
   ],
   "source": [
    "p.withdraw(100)"
   ]
  },
  {
   "cell_type": "code",
   "execution_count": 99,
   "id": "8311f56e",
   "metadata": {},
   "outputs": [
    {
     "data": {
      "text/plain": [
       "'In sufficient Balance & Available  Balance is 2000,<__main__.bank_account object at 0x0000026DD135FE20>'"
      ]
     },
     "execution_count": 99,
     "metadata": {},
     "output_type": "execute_result"
    }
   ],
   "source": [
    "p.withdraw(4500)"
   ]
  },
  {
   "cell_type": "code",
   "execution_count": 100,
   "id": "b1fb281f",
   "metadata": {},
   "outputs": [
    {
     "data": {
      "text/plain": [
       "'withdrawal is Successfull !!  2000 is withdrawal & Available  Balance is 0'"
      ]
     },
     "execution_count": 100,
     "metadata": {},
     "output_type": "execute_result"
    }
   ],
   "source": [
    "p.withdraw(2000)"
   ]
  },
  {
   "cell_type": "code",
   "execution_count": 101,
   "id": "f8e65cdb",
   "metadata": {},
   "outputs": [
    {
     "data": {
      "text/plain": [
       "' Available  Balance is 0'"
      ]
     },
     "execution_count": 101,
     "metadata": {},
     "output_type": "execute_result"
    }
   ],
   "source": [
    "p.get_balance()"
   ]
  },
  {
   "cell_type": "code",
   "execution_count": null,
   "id": "e319923c",
   "metadata": {},
   "outputs": [],
   "source": []
  },
  {
   "cell_type": "code",
   "execution_count": null,
   "id": "3abafbbb",
   "metadata": {},
   "outputs": [],
   "source": []
  }
 ],
 "metadata": {
  "kernelspec": {
   "display_name": "Python 3 (ipykernel)",
   "language": "python",
   "name": "python3"
  },
  "language_info": {
   "codemirror_mode": {
    "name": "ipython",
    "version": 3
   },
   "file_extension": ".py",
   "mimetype": "text/x-python",
   "name": "python",
   "nbconvert_exporter": "python",
   "pygments_lexer": "ipython3",
   "version": "3.10.9"
  }
 },
 "nbformat": 4,
 "nbformat_minor": 5
}
