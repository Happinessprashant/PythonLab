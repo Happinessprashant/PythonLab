{
 "cells": [
  {
   "cell_type": "code",
   "execution_count": 1,
   "id": "a534a6ec",
   "metadata": {},
   "outputs": [],
   "source": [
    "\n",
    "def p(a,b):\n",
    "    return a+b\n"
   ]
  },
  {
   "cell_type": "code",
   "execution_count": 2,
   "id": "a6d9e477",
   "metadata": {},
   "outputs": [
    {
     "data": {
      "text/plain": [
       "15"
      ]
     },
     "execution_count": 2,
     "metadata": {},
     "output_type": "execute_result"
    }
   ],
   "source": [
    "p(6,9)"
   ]
  },
  {
   "cell_type": "code",
   "execution_count": 3,
   "id": "643d4a63",
   "metadata": {},
   "outputs": [
    {
     "data": {
      "text/plain": [
       "'pj'"
      ]
     },
     "execution_count": 3,
     "metadata": {},
     "output_type": "execute_result"
    }
   ],
   "source": [
    "p(\"p\",\"j\")"
   ]
  },
  {
   "cell_type": "code",
   "execution_count": 4,
   "id": "cd110eab",
   "metadata": {},
   "outputs": [
    {
     "data": {
      "text/plain": [
       "[8, 9, 7, 8]"
      ]
     },
     "execution_count": 4,
     "metadata": {},
     "output_type": "execute_result"
    }
   ],
   "source": [
    "p([8,9],[7,8])"
   ]
  },
  {
   "cell_type": "code",
   "execution_count": null,
   "id": "99553255",
   "metadata": {},
   "outputs": [],
   "source": []
  },
  {
   "cell_type": "code",
   "execution_count": null,
   "id": "ab63a333",
   "metadata": {},
   "outputs": [],
   "source": []
  },
  {
   "cell_type": "code",
   "execution_count": null,
   "id": "d785ed44",
   "metadata": {},
   "outputs": [],
   "source": []
  },
  {
   "cell_type": "code",
   "execution_count": 5,
   "id": "5594d7b9",
   "metadata": {},
   "outputs": [],
   "source": [
    "#                                                 Inheritance"
   ]
  },
  {
   "cell_type": "code",
   "execution_count": null,
   "id": "342f1c6d",
   "metadata": {},
   "outputs": [],
   "source": []
  },
  {
   "cell_type": "code",
   "execution_count": 6,
   "id": "3a7a4f44",
   "metadata": {},
   "outputs": [],
   "source": [
    "# Inheritance\n",
    "#       is a fundamental concept in object-oriented programming that allows you to\n",
    "#     create new classes (derived or child classes) based on existing classes (base or parent classes).\n",
    "#     In Python, inheritance is implemented using the syntax class DerivedClass(BaseClass):,\n",
    "#         where DerivedClass is the new class being created, and BaseClass\n",
    "#         is the existing class from which it inherits."
   ]
  },
  {
   "cell_type": "code",
   "execution_count": null,
   "id": "b720481d",
   "metadata": {},
   "outputs": [],
   "source": [
    "\n",
    "# Inheritance allows us to define a class that inherits all the methods and properties from another class.\n",
    "\n",
    "# Parent class is the class being inherited from, also called base class, super class , parent class .\n",
    "\n",
    "# Child class is the class that inherits from another class, also called derived class, child class sub class."
   ]
  },
  {
   "cell_type": "code",
   "execution_count": 7,
   "id": "6dff0123",
   "metadata": {},
   "outputs": [
    {
     "name": "stdout",
     "output_type": "stream",
     "text": [
      "Animal speaks\n",
      "Dog barks\n"
     ]
    }
   ],
   "source": [
    "class Animal:\n",
    "    def __init__(self, name):\n",
    "        self.name = name\n",
    "\n",
    "    def speak(self):\n",
    "        print(\"Animal speaks\")\n",
    "\n",
    "\n",
    "class Dog(Animal):\n",
    "    def speak(self):\n",
    "        print(\"Dog barks\")\n",
    "\n",
    "\n",
    "animal = Animal(\"Generic Animal\")\n",
    "animal.speak()  # Output: Animal speaks\n",
    "\n",
    "dog = Dog(\"Bobby\")\n",
    "dog.speak()  # Output: Dog barks\n"
   ]
  },
  {
   "cell_type": "code",
   "execution_count": null,
   "id": "f94cc2d4",
   "metadata": {},
   "outputs": [],
   "source": []
  },
  {
   "cell_type": "code",
   "execution_count": null,
   "id": "e2b19710",
   "metadata": {},
   "outputs": [],
   "source": []
  },
  {
   "cell_type": "code",
   "execution_count": 8,
   "id": "630ec60c",
   "metadata": {},
   "outputs": [],
   "source": [
    "class parent_class:\n",
    "    \n",
    "    def show(self):\n",
    "        print(\"Hello\")"
   ]
  },
  {
   "cell_type": "code",
   "execution_count": 9,
   "id": "7d89233b",
   "metadata": {},
   "outputs": [],
   "source": [
    "class child_class(parent_class):\n",
    "    pass"
   ]
  },
  {
   "cell_type": "code",
   "execution_count": 10,
   "id": "bbbffd5a",
   "metadata": {},
   "outputs": [],
   "source": [
    "child=child_class()"
   ]
  },
  {
   "cell_type": "code",
   "execution_count": 11,
   "id": "3baf0a7b",
   "metadata": {},
   "outputs": [
    {
     "name": "stdout",
     "output_type": "stream",
     "text": [
      "Hello\n"
     ]
    }
   ],
   "source": [
    "child.show()"
   ]
  },
  {
   "cell_type": "code",
   "execution_count": 59,
   "id": "b81392e0",
   "metadata": {},
   "outputs": [],
   "source": [
    "\n",
    "\n",
    "class p_class:\n",
    "    \n",
    "    def __init__(self,fname , lname):\n",
    "        self.fname=fname\n",
    "        self.lname=lname\n",
    "        \n",
    "    def show(self):\n",
    "        return f\"my name is {self.fname} {self.lname}\" \n",
    "    \n",
    "    \n",
    "    \n",
    "class p_class2(p_class):\n",
    "    pass"
   ]
  },
  {
   "cell_type": "code",
   "execution_count": 60,
   "id": "f9fccf81",
   "metadata": {},
   "outputs": [
    {
     "ename": "TypeError",
     "evalue": "p_class.__init__() missing 2 required positional arguments: 'fname' and 'lname'",
     "output_type": "error",
     "traceback": [
      "\u001b[1;31m---------------------------------------------------------------------------\u001b[0m",
      "\u001b[1;31mTypeError\u001b[0m                                 Traceback (most recent call last)",
      "Cell \u001b[1;32mIn[60], line 1\u001b[0m\n\u001b[1;32m----> 1\u001b[0m p\u001b[38;5;241m=\u001b[39m\u001b[43mp_class2\u001b[49m\u001b[43m(\u001b[49m\u001b[43m)\u001b[49m\n",
      "\u001b[1;31mTypeError\u001b[0m: p_class.__init__() missing 2 required positional arguments: 'fname' and 'lname'"
     ]
    }
   ],
   "source": [
    "p=p_class2()"
   ]
  },
  {
   "cell_type": "code",
   "execution_count": 61,
   "id": "466b45b5",
   "metadata": {},
   "outputs": [],
   "source": [
    "p=p_class2(\"prashant\",\"jadhav\")"
   ]
  },
  {
   "cell_type": "code",
   "execution_count": 62,
   "id": "9810a929",
   "metadata": {},
   "outputs": [
    {
     "data": {
      "text/plain": [
       "'my name is prashant jadhav'"
      ]
     },
     "execution_count": 62,
     "metadata": {},
     "output_type": "execute_result"
    }
   ],
   "source": [
    "p.show()"
   ]
  },
  {
   "cell_type": "code",
   "execution_count": null,
   "id": "7b359a71",
   "metadata": {},
   "outputs": [],
   "source": []
  },
  {
   "cell_type": "code",
   "execution_count": null,
   "id": "9ecc965b",
   "metadata": {},
   "outputs": [],
   "source": []
  },
  {
   "cell_type": "code",
   "execution_count": 86,
   "id": "7ddb772f",
   "metadata": {},
   "outputs": [],
   "source": [
    "class p_class1:\n",
    "    \n",
    "    def __init__(self,fname):\n",
    "        self.fname=fname\n",
    "        \n",
    "    def show(self):\n",
    "        return f\"my name is {self.fname}\" \n",
    "    \n",
    "    \n",
    "    \n",
    "class p_class2(p_class1):\n",
    "    def __init__(self , lname):\n",
    "        self.fname=lname\n",
    "        \n",
    "    def show(self):\n",
    "        return f\"my name is  {self.fname}\" \n",
    "    "
   ]
  },
  {
   "cell_type": "code",
   "execution_count": 87,
   "id": "fc57f5b5",
   "metadata": {},
   "outputs": [
    {
     "ename": "TypeError",
     "evalue": "p_class2.__init__() missing 1 required positional argument: 'lname'",
     "output_type": "error",
     "traceback": [
      "\u001b[1;31m---------------------------------------------------------------------------\u001b[0m",
      "\u001b[1;31mTypeError\u001b[0m                                 Traceback (most recent call last)",
      "Cell \u001b[1;32mIn[87], line 1\u001b[0m\n\u001b[1;32m----> 1\u001b[0m obj \u001b[38;5;241m=\u001b[39m\u001b[43mp_class2\u001b[49m\u001b[43m(\u001b[49m\u001b[43m)\u001b[49m\n",
      "\u001b[1;31mTypeError\u001b[0m: p_class2.__init__() missing 1 required positional argument: 'lname'"
     ]
    }
   ],
   "source": [
    "obj =p_class2()"
   ]
  },
  {
   "cell_type": "code",
   "execution_count": 88,
   "id": "5a9a2f11",
   "metadata": {},
   "outputs": [
    {
     "ename": "TypeError",
     "evalue": "p_class2.__init__() takes 2 positional arguments but 3 were given",
     "output_type": "error",
     "traceback": [
      "\u001b[1;31m---------------------------------------------------------------------------\u001b[0m",
      "\u001b[1;31mTypeError\u001b[0m                                 Traceback (most recent call last)",
      "Cell \u001b[1;32mIn[88], line 1\u001b[0m\n\u001b[1;32m----> 1\u001b[0m obj \u001b[38;5;241m=\u001b[39m\u001b[43mp_class2\u001b[49m\u001b[43m(\u001b[49m\u001b[38;5;124;43m\"\u001b[39;49m\u001b[38;5;124;43mprashant\u001b[39;49m\u001b[38;5;124;43m\"\u001b[39;49m\u001b[43m,\u001b[49m\u001b[38;5;124;43m\"\u001b[39;49m\u001b[38;5;124;43mjadhav\u001b[39;49m\u001b[38;5;124;43m\"\u001b[39;49m\u001b[43m)\u001b[49m\n",
      "\u001b[1;31mTypeError\u001b[0m: p_class2.__init__() takes 2 positional arguments but 3 were given"
     ]
    }
   ],
   "source": [
    "obj =p_class2(\"prashant\",\"jadhav\")"
   ]
  },
  {
   "cell_type": "code",
   "execution_count": 71,
   "id": "553f8cc3",
   "metadata": {},
   "outputs": [
    {
     "ename": "AttributeError",
     "evalue": "'p_class2' object has no attribute 'fname'",
     "output_type": "error",
     "traceback": [
      "\u001b[1;31m---------------------------------------------------------------------------\u001b[0m",
      "\u001b[1;31mAttributeError\u001b[0m                            Traceback (most recent call last)",
      "Cell \u001b[1;32mIn[71], line 1\u001b[0m\n\u001b[1;32m----> 1\u001b[0m \u001b[43mobj\u001b[49m\u001b[38;5;241;43m.\u001b[39;49m\u001b[43mshow\u001b[49m\u001b[43m(\u001b[49m\u001b[43m)\u001b[49m\n",
      "Cell \u001b[1;32mIn[68], line 7\u001b[0m, in \u001b[0;36mp_class1.show\u001b[1;34m(self)\u001b[0m\n\u001b[0;32m      6\u001b[0m \u001b[38;5;28;01mdef\u001b[39;00m \u001b[38;5;21mshow\u001b[39m(\u001b[38;5;28mself\u001b[39m):\n\u001b[1;32m----> 7\u001b[0m     \u001b[38;5;28;01mreturn\u001b[39;00m \u001b[38;5;124mf\u001b[39m\u001b[38;5;124m\"\u001b[39m\u001b[38;5;124mmy name is \u001b[39m\u001b[38;5;132;01m{\u001b[39;00m\u001b[38;5;28mself\u001b[39m\u001b[38;5;241m.\u001b[39mfname\u001b[38;5;132;01m}\u001b[39;00m\u001b[38;5;124m\"\u001b[39m\n",
      "\u001b[1;31mAttributeError\u001b[0m: 'p_class2' object has no attribute 'fname'"
     ]
    }
   ],
   "source": [
    "obj.show()"
   ]
  },
  {
   "cell_type": "code",
   "execution_count": null,
   "id": "392dcecd",
   "metadata": {},
   "outputs": [],
   "source": []
  },
  {
   "cell_type": "code",
   "execution_count": 91,
   "id": "6ad76925",
   "metadata": {},
   "outputs": [
    {
     "name": "stdout",
     "output_type": "stream",
     "text": [
      "my name is a b\n"
     ]
    }
   ],
   "source": [
    "class p_class1:\n",
    "    def __init__(self, fname):\n",
    "        self.fname = fname\n",
    "\n",
    "    def show(self):\n",
    "        return f\"my name is {self.fname}\"\n",
    "\n",
    "\n",
    "class p_class2(p_class1):\n",
    "    def __init__(self, fname, lname):\n",
    "        super().__init__(fname)\n",
    "        self.lname = lname\n",
    "\n",
    "    def show(self):\n",
    "        return f\"my name is {self.fname} {self.lname}\"\n",
    "\n",
    "\n",
    "obj = p_class2(\"a\", \"b\")\n",
    "print(obj.show())  # Output: my name is prashant jadhav\n"
   ]
  },
  {
   "cell_type": "code",
   "execution_count": null,
   "id": "841fe416",
   "metadata": {},
   "outputs": [],
   "source": []
  },
  {
   "cell_type": "code",
   "execution_count": 132,
   "id": "c3ca8a7d",
   "metadata": {},
   "outputs": [
    {
     "name": "stdout",
     "output_type": "stream",
     "text": [
      "Name:- Rahul Id :- 886012\n",
      "Post:- Intern Salary :- 200000\n"
     ]
    }
   ],
   "source": [
    "class Person(object):\n",
    " \n",
    "    def __init__(self, name, idnumber):\n",
    "        self.name = name\n",
    "        self.idnumber = idnumber\n",
    " \n",
    "    def display(self):\n",
    "        return f\"Name:- {self.name} Id :- {self.idnumber}\"\n",
    "        \n",
    "        \n",
    "class Employee(Person):\n",
    "    \n",
    "    def __init__(self, name, idnumber, salary, post):\n",
    "        self.salary = salary\n",
    "        self.post = post\n",
    "        \n",
    "        Person.__init__(self, name, idnumber)\n",
    " \n",
    "    def display1(self):\n",
    "        return f\"Post:- {self.post} Salary :- {self.salary}\"\n",
    "        \n",
    "a = Employee('Rahul', 886012,200000, \"Intern\")\n",
    "print(a.display()) \n",
    "print(a.display1())"
   ]
  },
  {
   "cell_type": "code",
   "execution_count": null,
   "id": "0d4c2455",
   "metadata": {},
   "outputs": [],
   "source": [
    " \n",
    "\n",
    "        "
   ]
  },
  {
   "cell_type": "code",
   "execution_count": null,
   "id": "55c55af1",
   "metadata": {},
   "outputs": [],
   "source": [
    " \n"
   ]
  },
  {
   "cell_type": "code",
   "execution_count": null,
   "id": "13fe6d07",
   "metadata": {},
   "outputs": [],
   "source": []
  },
  {
   "cell_type": "code",
   "execution_count": null,
   "id": "05b8b098",
   "metadata": {},
   "outputs": [],
   "source": []
  },
  {
   "cell_type": "code",
   "execution_count": 12,
   "id": "0be48c59",
   "metadata": {},
   "outputs": [],
   "source": [
    "#multilevel inheritence"
   ]
  },
  {
   "cell_type": "code",
   "execution_count": 13,
   "id": "79d7c849",
   "metadata": {},
   "outputs": [],
   "source": [
    "class class1:\n",
    "    \n",
    "    def test1(self):\n",
    "        return \"class 1\""
   ]
  },
  {
   "cell_type": "code",
   "execution_count": 14,
   "id": "7a6b0dec",
   "metadata": {},
   "outputs": [],
   "source": [
    "class class2(class1):\n",
    "    \n",
    "    def test2(self):\n",
    "        return \" class 2\""
   ]
  },
  {
   "cell_type": "code",
   "execution_count": 15,
   "id": "2c41248f",
   "metadata": {},
   "outputs": [],
   "source": [
    "class class3(class2):\n",
    "    \n",
    "    def test3(self):\n",
    "        return \" class 3\""
   ]
  },
  {
   "cell_type": "code",
   "execution_count": 16,
   "id": "8cd6ad94",
   "metadata": {},
   "outputs": [],
   "source": [
    "a=class3()"
   ]
  },
  {
   "cell_type": "code",
   "execution_count": 17,
   "id": "f2936e19",
   "metadata": {},
   "outputs": [
    {
     "data": {
      "text/plain": [
       "' class 3'"
      ]
     },
     "execution_count": 17,
     "metadata": {},
     "output_type": "execute_result"
    }
   ],
   "source": [
    "a.test3()"
   ]
  },
  {
   "cell_type": "code",
   "execution_count": 18,
   "id": "acaa0535",
   "metadata": {},
   "outputs": [
    {
     "data": {
      "text/plain": [
       "' class 2'"
      ]
     },
     "execution_count": 18,
     "metadata": {},
     "output_type": "execute_result"
    }
   ],
   "source": [
    "a.test2()"
   ]
  },
  {
   "cell_type": "code",
   "execution_count": 19,
   "id": "cb320c55",
   "metadata": {},
   "outputs": [
    {
     "data": {
      "text/plain": [
       "'class 1'"
      ]
     },
     "execution_count": 19,
     "metadata": {},
     "output_type": "execute_result"
    }
   ],
   "source": [
    "a.test1()"
   ]
  },
  {
   "cell_type": "code",
   "execution_count": null,
   "id": "ff12a5f9",
   "metadata": {},
   "outputs": [],
   "source": []
  },
  {
   "cell_type": "code",
   "execution_count": null,
   "id": "9ac3ac0b",
   "metadata": {},
   "outputs": [],
   "source": []
  },
  {
   "cell_type": "code",
   "execution_count": null,
   "id": "149c14f5",
   "metadata": {},
   "outputs": [],
   "source": []
  },
  {
   "cell_type": "code",
   "execution_count": 20,
   "id": "3f669280",
   "metadata": {},
   "outputs": [],
   "source": [
    "#multi-level"
   ]
  },
  {
   "cell_type": "code",
   "execution_count": null,
   "id": "c2efcc03",
   "metadata": {},
   "outputs": [],
   "source": []
  },
  {
   "cell_type": "code",
   "execution_count": 21,
   "id": "cae3e9c8",
   "metadata": {},
   "outputs": [],
   "source": [
    "class class_1:\n",
    "    \n",
    "    def show(self):\n",
    "        return \" class 1\""
   ]
  },
  {
   "cell_type": "code",
   "execution_count": 22,
   "id": "596c20fe",
   "metadata": {},
   "outputs": [],
   "source": [
    "class class_2:\n",
    "    def show1(self):\n",
    "        return \" class 2\""
   ]
  },
  {
   "cell_type": "code",
   "execution_count": 23,
   "id": "3fa061d1",
   "metadata": {},
   "outputs": [],
   "source": [
    "class class_3(class_1 , class_2):\n",
    "    pass"
   ]
  },
  {
   "cell_type": "code",
   "execution_count": 24,
   "id": "827e09d6",
   "metadata": {},
   "outputs": [],
   "source": [
    "b=class_3()"
   ]
  },
  {
   "cell_type": "code",
   "execution_count": 25,
   "id": "1eaf45a7",
   "metadata": {},
   "outputs": [
    {
     "data": {
      "text/plain": [
       "' class 2'"
      ]
     },
     "execution_count": 25,
     "metadata": {},
     "output_type": "execute_result"
    }
   ],
   "source": [
    "b.show1()"
   ]
  },
  {
   "cell_type": "code",
   "execution_count": 26,
   "id": "51a3907f",
   "metadata": {},
   "outputs": [
    {
     "data": {
      "text/plain": [
       "' class 1'"
      ]
     },
     "execution_count": 26,
     "metadata": {},
     "output_type": "execute_result"
    }
   ],
   "source": [
    "b.show()"
   ]
  },
  {
   "cell_type": "code",
   "execution_count": null,
   "id": "4cf85814",
   "metadata": {},
   "outputs": [],
   "source": [
    "\n"
   ]
  },
  {
   "cell_type": "code",
   "execution_count": null,
   "id": "6b29be9d",
   "metadata": {},
   "outputs": [],
   "source": []
  },
  {
   "cell_type": "code",
   "execution_count": 28,
   "id": "6d93b540",
   "metadata": {},
   "outputs": [],
   "source": [
    "class class4:\n",
    "    \n",
    "    def show(self):\n",
    "        return \" class 4 super\""
   ]
  },
  {
   "cell_type": "code",
   "execution_count": 44,
   "id": "f618d085",
   "metadata": {},
   "outputs": [],
   "source": [
    "class class5(class3):\n",
    "    def show(self):\n",
    "        return \" class 5 child\""
   ]
  },
  {
   "cell_type": "code",
   "execution_count": 45,
   "id": "2af1d69e",
   "metadata": {},
   "outputs": [],
   "source": [
    "check=class5()"
   ]
  },
  {
   "cell_type": "code",
   "execution_count": 46,
   "id": "8c313679",
   "metadata": {},
   "outputs": [
    {
     "data": {
      "text/plain": [
       "' class 5 child'"
      ]
     },
     "execution_count": 46,
     "metadata": {},
     "output_type": "execute_result"
    }
   ],
   "source": [
    "check.show()"
   ]
  },
  {
   "cell_type": "code",
   "execution_count": null,
   "id": "17f7ff19",
   "metadata": {},
   "outputs": [],
   "source": []
  },
  {
   "cell_type": "code",
   "execution_count": null,
   "id": "a8b93151",
   "metadata": {},
   "outputs": [],
   "source": []
  },
  {
   "cell_type": "code",
   "execution_count": null,
   "id": "2c5efeaa",
   "metadata": {},
   "outputs": [],
   "source": []
  },
  {
   "cell_type": "code",
   "execution_count": 40,
   "id": "300f5bdb",
   "metadata": {},
   "outputs": [
    {
     "name": "stdout",
     "output_type": "stream",
     "text": [
      "10\n",
      "20\n",
      "BaseClass method called\n",
      "DerivedClass method called\n"
     ]
    }
   ],
   "source": [
    "class BaseClass:\n",
    "    def __init__(self):\n",
    "        self.base_var = 10\n",
    "\n",
    "    def some_method(self):\n",
    "        print(\"BaseClass method called\")\n",
    "\n",
    "class DerivedClass(BaseClass):\n",
    "    def __init__(self):\n",
    "        super().__init__()  # Call the __init__() method of the base class\n",
    "        self.derived_var = 20\n",
    "\n",
    "    def some_method(self):\n",
    "        super().some_method()  # Call the some_method() method of the base class\n",
    "        print(\"DerivedClass method called\")\n",
    "\n",
    "obj = DerivedClass()\n",
    "print(obj.base_var)  # Output: 10\n",
    "print(obj.derived_var)  # Output: 20\n",
    "obj.some_method()  # Output: BaseClass method called\n",
    "                  #         DerivedClass method called\n"
   ]
  },
  {
   "cell_type": "code",
   "execution_count": null,
   "id": "94621832",
   "metadata": {},
   "outputs": [],
   "source": []
  },
  {
   "cell_type": "code",
   "execution_count": null,
   "id": "3183b1ec",
   "metadata": {},
   "outputs": [],
   "source": []
  },
  {
   "cell_type": "code",
   "execution_count": null,
   "id": "30ca1dac",
   "metadata": {},
   "outputs": [],
   "source": []
  },
  {
   "cell_type": "code",
   "execution_count": null,
   "id": "4d1c0dbb",
   "metadata": {},
   "outputs": [],
   "source": [
    "#                                          Hierarchical Inheritance:"
   ]
  },
  {
   "cell_type": "code",
   "execution_count": 39,
   "id": "433661b1",
   "metadata": {},
   "outputs": [],
   "source": [
    "#  Hierarchical Inheritance:\n",
    "# Hierarchical inheritance involves multiple derived classes inheriting from a single base class.\n",
    "\n"
   ]
  },
  {
   "cell_type": "code",
   "execution_count": 48,
   "id": "95a2747c",
   "metadata": {},
   "outputs": [],
   "source": [
    "class BaseClass:\n",
    "    pass\n",
    "\n",
    "class DerivedClass1(BaseClass):\n",
    "    pass\n",
    "\n",
    "class DerivedClass2(BaseClass):\n",
    "    pass\n"
   ]
  },
  {
   "cell_type": "code",
   "execution_count": null,
   "id": "354329d5",
   "metadata": {},
   "outputs": [],
   "source": []
  }
 ],
 "metadata": {
  "kernelspec": {
   "display_name": "Python 3 (ipykernel)",
   "language": "python",
   "name": "python3"
  },
  "language_info": {
   "codemirror_mode": {
    "name": "ipython",
    "version": 3
   },
   "file_extension": ".py",
   "mimetype": "text/x-python",
   "name": "python",
   "nbconvert_exporter": "python",
   "pygments_lexer": "ipython3",
   "version": "3.10.9"
  }
 },
 "nbformat": 4,
 "nbformat_minor": 5
}
