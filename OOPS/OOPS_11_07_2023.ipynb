{
 "cells": [
  {
   "cell_type": "code",
   "execution_count": 2,
   "id": "ed09cb78",
   "metadata": {},
   "outputs": [],
   "source": [
    "# Inheritance -11/07/2023"
   ]
  },
  {
   "cell_type": "code",
   "execution_count": null,
   "id": "7d68b334",
   "metadata": {},
   "outputs": [],
   "source": []
  },
  {
   "cell_type": "code",
   "execution_count": 8,
   "id": "241a7795",
   "metadata": {},
   "outputs": [
    {
     "ename": "RuntimeError",
     "evalue": "super(): no arguments",
     "output_type": "error",
     "traceback": [
      "\u001b[1;31m---------------------------------------------------------------------------\u001b[0m",
      "\u001b[1;31mRuntimeError\u001b[0m                              Traceback (most recent call last)",
      "Cell \u001b[1;32mIn[8], line 5\u001b[0m\n\u001b[0;32m      2\u001b[0m     \u001b[38;5;28;01mdef\u001b[39;00m \u001b[38;5;21msome_method\u001b[39m(\u001b[38;5;28mself\u001b[39m):\n\u001b[0;32m      3\u001b[0m         \u001b[38;5;28mprint\u001b[39m(\u001b[38;5;124m\"\u001b[39m\u001b[38;5;124mParent class method\u001b[39m\u001b[38;5;124m\"\u001b[39m)\n\u001b[1;32m----> 5\u001b[0m \u001b[38;5;28;01mclass\u001b[39;00m \u001b[38;5;21;01mChildClass\u001b[39;00m(ParentClass):\n\u001b[0;32m      6\u001b[0m     \u001b[38;5;28msuper\u001b[39m()\u001b[38;5;241m.\u001b[39msome_method()\n\u001b[0;32m      7\u001b[0m     \u001b[38;5;28;01mdef\u001b[39;00m \u001b[38;5;21msome_method\u001b[39m(\u001b[38;5;28mself\u001b[39m):\n\u001b[0;32m      8\u001b[0m \u001b[38;5;66;03m#         super().some_method()  # Calling parent class method\u001b[39;00m\n",
      "Cell \u001b[1;32mIn[8], line 6\u001b[0m, in \u001b[0;36mChildClass\u001b[1;34m()\u001b[0m\n\u001b[0;32m      5\u001b[0m \u001b[38;5;28;01mclass\u001b[39;00m \u001b[38;5;21;01mChildClass\u001b[39;00m(ParentClass):\n\u001b[1;32m----> 6\u001b[0m     \u001b[38;5;28;43msuper\u001b[39;49m\u001b[43m(\u001b[49m\u001b[43m)\u001b[49m\u001b[38;5;241m.\u001b[39msome_method()\n\u001b[0;32m      7\u001b[0m     \u001b[38;5;28;01mdef\u001b[39;00m \u001b[38;5;21msome_method\u001b[39m(\u001b[38;5;28mself\u001b[39m):\n\u001b[0;32m      8\u001b[0m \u001b[38;5;66;03m#         super().some_method()  # Calling parent class method\u001b[39;00m\n\u001b[0;32m      9\u001b[0m         \u001b[38;5;28mprint\u001b[39m(\u001b[38;5;124m\"\u001b[39m\u001b[38;5;124mChild class method\u001b[39m\u001b[38;5;124m\"\u001b[39m)\n",
      "\u001b[1;31mRuntimeError\u001b[0m: super(): no arguments"
     ]
    }
   ],
   "source": [
    "class ParentClass:\n",
    "    def some_method(self):\n",
    "        print(\"Parent class method\")\n",
    "\n",
    "class ChildClass(ParentClass):\n",
    "    super().some_method()\n",
    "    def some_method(self):\n",
    "#         super().some_method()  # Calling parent class method\n",
    "        print(\"Child class method\")\n",
    "\n",
    "obj = ChildClass()\n",
    "obj.some_method()\n"
   ]
  },
  {
   "cell_type": "code",
   "execution_count": 9,
   "id": "b1db2350",
   "metadata": {},
   "outputs": [
    {
     "name": "stdout",
     "output_type": "stream",
     "text": [
      "Parent class method\n",
      "Child class method\n"
     ]
    }
   ],
   "source": [
    "class ParentClass:\n",
    "    def some_method(self):\n",
    "        print(\"Parent class method\")\n",
    "\n",
    "class ChildClass(ParentClass):\n",
    "    def some_method(self):\n",
    "        super().some_method()  # Calling parent class method\n",
    "        print(\"Child class method\")\n",
    "\n",
    "obj = ChildClass()\n",
    "obj.some_method()"
   ]
  },
  {
   "cell_type": "code",
   "execution_count": null,
   "id": "d76f0f1c",
   "metadata": {},
   "outputs": [],
   "source": []
  },
  {
   "cell_type": "code",
   "execution_count": null,
   "id": "6897bdb8",
   "metadata": {},
   "outputs": [],
   "source": []
  },
  {
   "cell_type": "code",
   "execution_count": null,
   "id": "24f8f6ed",
   "metadata": {},
   "outputs": [],
   "source": [
    "#                                             Abstraction"
   ]
  },
  {
   "cell_type": "code",
   "execution_count": 10,
   "id": "ce258305",
   "metadata": {},
   "outputs": [],
   "source": [
    "\n",
    "# Abstraction:\n",
    "#     in Python is a concept in object-oriented programming\n",
    "# (OOP) that allows you to create abstract classes or interfaces which\n",
    "# define a common interface for a set of related classes.\n",
    "# It is a way to provide a blueprint for subclasses and enforce certain \n",
    "# behaviors or methods that must be implemented by the subclasses."
   ]
  },
  {
   "cell_type": "code",
   "execution_count": null,
   "id": "916d752f",
   "metadata": {},
   "outputs": [],
   "source": []
  },
  {
   "cell_type": "code",
   "execution_count": 11,
   "id": "35377802",
   "metadata": {},
   "outputs": [
    {
     "name": "stdout",
     "output_type": "stream",
     "text": [
      "15\n",
      "16\n"
     ]
    }
   ],
   "source": [
    "from abc import ABC, abstractmethod\n",
    "\n",
    "class Shape(ABC):\n",
    "    \n",
    "    @abstractmethod\n",
    "    def area(self):\n",
    "        pass\n",
    "\n",
    "    @abstractmethod\n",
    "    def perimeter(self):\n",
    "        pass\n",
    "\n",
    "class Rectangle(Shape):\n",
    "    def __init__(self, width, height):\n",
    "        self.width = width\n",
    "        self.height = height\n",
    "\n",
    "    def area(self):\n",
    "        return self.width * self.height\n",
    "\n",
    "    def perimeter(self):\n",
    "        return 2 * (self.width + self.height)\n",
    "\n",
    "rect = Rectangle(5, 3)\n",
    "print(rect.area())      # Output: 15\n",
    "print(rect.perimeter()) # Output: 16\n"
   ]
  },
  {
   "cell_type": "code",
   "execution_count": 4,
   "id": "2ca7f083",
   "metadata": {},
   "outputs": [],
   "source": [
    "import abc"
   ]
  },
  {
   "cell_type": "code",
   "execution_count": 26,
   "id": "ff76fcbc",
   "metadata": {},
   "outputs": [],
   "source": [
    "class pwskills:\n",
    "    \n",
    "    @abc.abstractmethod\n",
    "    def student_details(self):\n",
    "        pass\n",
    "    \n",
    "    @abc.abstractmethod\n",
    "    def student_assignment(self):\n",
    "        pass\n",
    "    \n",
    "    @abc.abstractmethod\n",
    "    def student_marks(self):\n",
    "        pass\n",
    "    \n",
    "\n",
    "    \n",
    "class p(pwskills):\n",
    "    \n",
    "    def student_details(self):\n",
    "        return \"This is the student deatis\"\n",
    "    \n",
    "    def student_assignment(self):\n",
    "        return \"This is the student assignment \"\n",
    "    \n",
    "    def student_marks(self):\n",
    "        return \"this is the student marks\"\n",
    "    \n",
    "    \n",
    "    \n",
    "    "
   ]
  },
  {
   "cell_type": "code",
   "execution_count": 27,
   "id": "513da0f7",
   "metadata": {},
   "outputs": [],
   "source": [
    "class datascience(pwskills):\n",
    "    def student_details(self):\n",
    "        return \"This is the stundet deatis for data  science\"\n",
    "    \n",
    "    def student_assignment(self):\n",
    "        return \"This is the student assignment data  science\"\n",
    "    \n",
    "    def student_marks(self):\n",
    "        return \"this is the student marks data  science\""
   ]
  },
  {
   "cell_type": "code",
   "execution_count": 28,
   "id": "2105da27",
   "metadata": {},
   "outputs": [],
   "source": [
    "data=datascience()"
   ]
  },
  {
   "cell_type": "code",
   "execution_count": 29,
   "id": "a3d40121",
   "metadata": {},
   "outputs": [],
   "source": [
    "P=p()"
   ]
  },
  {
   "cell_type": "code",
   "execution_count": 30,
   "id": "2c630fec",
   "metadata": {},
   "outputs": [],
   "source": [
    "obj=[P,data]"
   ]
  },
  {
   "cell_type": "code",
   "execution_count": 53,
   "id": "48b00202",
   "metadata": {},
   "outputs": [],
   "source": [
    "def show(obj):\n",
    "    for i in obj:\n",
    "        print(i.student_details())\n",
    "        print(i.student_assignment())\n",
    "        print(i.student_marks())\n",
    "        print(\" \")"
   ]
  },
  {
   "cell_type": "code",
   "execution_count": 54,
   "id": "ceecec84",
   "metadata": {},
   "outputs": [
    {
     "name": "stdout",
     "output_type": "stream",
     "text": [
      "This is the student deatis\n",
      "This is the student assignment \n",
      "this is the student marks\n",
      " \n",
      "This is the stundet deatis for data  science\n",
      "This is the student assignment data  science\n",
      "this is the student marks data  science\n",
      " \n"
     ]
    }
   ],
   "source": [
    "show(obj)"
   ]
  },
  {
   "cell_type": "code",
   "execution_count": 36,
   "id": "32fa0b6e",
   "metadata": {},
   "outputs": [
    {
     "data": {
      "text/plain": [
       "'This is the student deatis'"
      ]
     },
     "execution_count": 36,
     "metadata": {},
     "output_type": "execute_result"
    }
   ],
   "source": [
    "P.student_details()"
   ]
  },
  {
   "cell_type": "code",
   "execution_count": null,
   "id": "15f70b87",
   "metadata": {},
   "outputs": [],
   "source": []
  },
  {
   "cell_type": "code",
   "execution_count": null,
   "id": "55a9813a",
   "metadata": {},
   "outputs": [],
   "source": []
  },
  {
   "cell_type": "code",
   "execution_count": 39,
   "id": "f3ae50db",
   "metadata": {},
   "outputs": [],
   "source": [
    "#                                     Decorators"
   ]
  },
  {
   "cell_type": "code",
   "execution_count": null,
   "id": "72b55977",
   "metadata": {},
   "outputs": [],
   "source": [
    "  decorators:\n",
    "        In Python, decorators are a way to modify the behavior of functions or classes \n",
    "    without directly modifying their source code. Decorators allow you to wrap a function\n",
    "    \n",
    "    or class definition with another function, which can add additional functionality or modify the existing behavior.\n",
    "\n"
   ]
  },
  {
   "cell_type": "code",
   "execution_count": null,
   "id": "cdbe7382",
   "metadata": {},
   "outputs": [],
   "source": []
  },
  {
   "cell_type": "code",
   "execution_count": 64,
   "id": "95f9b5aa",
   "metadata": {},
   "outputs": [],
   "source": [
    "import time\n",
    "\n",
    "def prashant(func):\n",
    "    def show():\n",
    "        print(\"꧁༺ֆȶǟʀȶ༻꧂  🏃🏻‍♂️🏃\")\n",
    "        print( \" \")\n",
    "        start=time.time()\n",
    "        func()\n",
    "        end=time.time()\n",
    "        print(\" Execution Time \" ,end-start)\n",
    "        print(\"꧁༒☬𝓔𝓷𝓭☬༒꧂ 🥇🥇 \")\n",
    "        \n",
    "    return show   "
   ]
  },
  {
   "cell_type": "code",
   "execution_count": 65,
   "id": "36b88fd9",
   "metadata": {},
   "outputs": [],
   "source": [
    "@prashant\n",
    "def test1():\n",
    "    print(26+20)"
   ]
  },
  {
   "cell_type": "code",
   "execution_count": 66,
   "id": "82ecc7fb",
   "metadata": {},
   "outputs": [
    {
     "name": "stdout",
     "output_type": "stream",
     "text": [
      "꧁༺ֆȶǟʀȶ༻꧂  🏃🏻‍♂️🏃\n",
      " \n",
      "46\n",
      " Execution Time  0.0\n",
      "꧁༒☬𝓔𝓷𝓭☬༒꧂ 🥇🥇 \n"
     ]
    }
   ],
   "source": [
    "test1()"
   ]
  },
  {
   "cell_type": "code",
   "execution_count": 90,
   "id": "4347b7a8",
   "metadata": {},
   "outputs": [],
   "source": [
    "\n",
    "@prashant\n",
    "def test2():\n",
    "    for i in range(0,100):\n",
    "        if(i%2==0):\n",
    "            print(\"Even :-\", i ,\" 😅🙈\")\n",
    "        else:\n",
    "            print(\"Odd  :-\", i ,\" 😂🙉\")"
   ]
  },
  {
   "cell_type": "code",
   "execution_count": 91,
   "id": "daf8f81f",
   "metadata": {},
   "outputs": [
    {
     "name": "stdout",
     "output_type": "stream",
     "text": [
      "꧁༺ֆȶǟʀȶ༻꧂  🏃🏻‍♂️🏃\n",
      " \n",
      "Even :- 0  😅🙈\n",
      "Odd  :- 1  😂🙉\n",
      "Even :- 2  😅🙈\n",
      "Odd  :- 3  😂🙉\n",
      "Even :- 4  😅🙈\n",
      "Odd  :- 5  😂🙉\n",
      "Even :- 6  😅🙈\n",
      "Odd  :- 7  😂🙉\n",
      "Even :- 8  😅🙈\n",
      "Odd  :- 9  😂🙉\n",
      "Even :- 10  😅🙈\n",
      "Odd  :- 11  😂🙉\n",
      "Even :- 12  😅🙈\n",
      "Odd  :- 13  😂🙉\n",
      "Even :- 14  😅🙈\n",
      "Odd  :- 15  😂🙉\n",
      "Even :- 16  😅🙈\n",
      "Odd  :- 17  😂🙉\n",
      "Even :- 18  😅🙈\n",
      "Odd  :- 19  😂🙉\n",
      "Even :- 20  😅🙈\n",
      "Odd  :- 21  😂🙉\n",
      "Even :- 22  😅🙈\n",
      "Odd  :- 23  😂🙉\n",
      "Even :- 24  😅🙈\n",
      "Odd  :- 25  😂🙉\n",
      "Even :- 26  😅🙈\n",
      "Odd  :- 27  😂🙉\n",
      "Even :- 28  😅🙈\n",
      "Odd  :- 29  😂🙉\n",
      "Even :- 30  😅🙈\n",
      "Odd  :- 31  😂🙉\n",
      "Even :- 32  😅🙈\n",
      "Odd  :- 33  😂🙉\n",
      "Even :- 34  😅🙈\n",
      "Odd  :- 35  😂🙉\n",
      "Even :- 36  😅🙈\n",
      "Odd  :- 37  😂🙉\n",
      "Even :- 38  😅🙈\n",
      "Odd  :- 39  😂🙉\n",
      "Even :- 40  😅🙈\n",
      "Odd  :- 41  😂🙉\n",
      "Even :- 42  😅🙈\n",
      "Odd  :- 43  😂🙉\n",
      "Even :- 44  😅🙈\n",
      "Odd  :- 45  😂🙉\n",
      "Even :- 46  😅🙈\n",
      "Odd  :- 47  😂🙉\n",
      "Even :- 48  😅🙈\n",
      "Odd  :- 49  😂🙉\n",
      "Even :- 50  😅🙈\n",
      "Odd  :- 51  😂🙉\n",
      "Even :- 52  😅🙈\n",
      "Odd  :- 53  😂🙉\n",
      "Even :- 54  😅🙈\n",
      "Odd  :- 55  😂🙉\n",
      "Even :- 56  😅🙈\n",
      "Odd  :- 57  😂🙉\n",
      "Even :- 58  😅🙈\n",
      "Odd  :- 59  😂🙉\n",
      "Even :- 60  😅🙈\n",
      "Odd  :- 61  😂🙉\n",
      "Even :- 62  😅🙈\n",
      "Odd  :- 63  😂🙉\n",
      "Even :- 64  😅🙈\n",
      "Odd  :- 65  😂🙉\n",
      "Even :- 66  😅🙈\n",
      "Odd  :- 67  😂🙉\n",
      "Even :- 68  😅🙈\n",
      "Odd  :- 69  😂🙉\n",
      "Even :- 70  😅🙈\n",
      "Odd  :- 71  😂🙉\n",
      "Even :- 72  😅🙈\n",
      "Odd  :- 73  😂🙉\n",
      "Even :- 74  😅🙈\n",
      "Odd  :- 75  😂🙉\n",
      "Even :- 76  😅🙈\n",
      "Odd  :- 77  😂🙉\n",
      "Even :- 78  😅🙈\n",
      "Odd  :- 79  😂🙉\n",
      "Even :- 80  😅🙈\n",
      "Odd  :- 81  😂🙉\n",
      "Even :- 82  😅🙈\n",
      "Odd  :- 83  😂🙉\n",
      "Even :- 84  😅🙈\n",
      "Odd  :- 85  😂🙉\n",
      "Even :- 86  😅🙈\n",
      "Odd  :- 87  😂🙉\n",
      "Even :- 88  😅🙈\n",
      "Odd  :- 89  😂🙉\n",
      "Even :- 90  😅🙈\n",
      "Odd  :- 91  😂🙉\n",
      "Even :- 92  😅🙈\n",
      "Odd  :- 93  😂🙉\n",
      "Even :- 94  😅🙈\n",
      "Odd  :- 95  😂🙉\n",
      "Even :- 96  😅🙈\n",
      "Odd  :- 97  😂🙉\n",
      "Even :- 98  😅🙈\n",
      "Odd  :- 99  😂🙉\n",
      " Execution Time  0.0020003318786621094\n",
      "꧁༒☬𝓔𝓷𝓭☬༒꧂ 🥇🥇 \n"
     ]
    }
   ],
   "source": [
    "test2()"
   ]
  },
  {
   "cell_type": "code",
   "execution_count": null,
   "id": "4f85c246",
   "metadata": {},
   "outputs": [],
   "source": []
  }
 ],
 "metadata": {
  "kernelspec": {
   "display_name": "Python 3 (ipykernel)",
   "language": "python",
   "name": "python3"
  },
  "language_info": {
   "codemirror_mode": {
    "name": "ipython",
    "version": 3
   },
   "file_extension": ".py",
   "mimetype": "text/x-python",
   "name": "python",
   "nbconvert_exporter": "python",
   "pygments_lexer": "ipython3",
   "version": "3.10.9"
  }
 },
 "nbformat": 4,
 "nbformat_minor": 5
}
