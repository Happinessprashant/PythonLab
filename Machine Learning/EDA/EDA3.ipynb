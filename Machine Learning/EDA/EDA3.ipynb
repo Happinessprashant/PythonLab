{
 "cells": [
  {
   "cell_type": "code",
   "execution_count": null,
   "metadata": {},
   "outputs": [],
   "source": []
  },
  {
   "cell_type": "markdown",
   "metadata": {},
   "source": [
    "Algerian Forest Fires Dataset Project EDA Part\n",
    "\n",
    "1. UNDERSTANDING THE GIVEN TASK\n",
    "\n",
    "    Task Given by instructor Krish Naik\n",
    "          * Solve in ipynb:\n",
    "1. Import the dataset. https.//archive.ics.uci.edu/ml/datasets/Algerian+Forest+Fires+Dataset++#\n",
    "\n",
    "          2. Do proper EDA(analysis) of your dataset and create a report\n",
    "          3. Then perform necessary preprocessing steps"
   ]
  },
  {
   "cell_type": "markdown",
   "metadata": {},
   "source": []
  },
  {
   "cell_type": "code",
   "execution_count": null,
   "metadata": {},
   "outputs": [],
   "source": []
  }
 ],
 "metadata": {
  "language_info": {
   "name": "python"
  }
 },
 "nbformat": 4,
 "nbformat_minor": 2
}
