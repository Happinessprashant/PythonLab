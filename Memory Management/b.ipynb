{
 "cells": [
  {
   "cell_type": "code",
   "execution_count": 1,
   "metadata": {},
   "outputs": [
    {
     "name": "stdout",
     "output_type": "stream",
     "text": [
      "[1, 2, 3, 4, 5, 6, 7, 8, 9, 10]\n"
     ]
    }
   ],
   "source": [
    "import multiprocessing\n",
    "\n",
    "def squre(index , value):\n",
    "    value[index] = value[index]**2\n",
    "    \n",
    "    \n",
    "if __name__ =='__main__':\n",
    "    l=[1,2,3,4,5,6,7,8,9,10]\n",
    "    arr = multiprocessing.Array('i',l) \n",
    "    process=[]\n",
    "    \n",
    "    for i in range(10):\n",
    "        m=multiprocessing.Process(target=squre , args=(i, arr))\n",
    "        process.append(m)\n",
    "        m.start()\n",
    "        \n",
    "    for i in process:\n",
    "        m.join()\n",
    "        \n",
    "    print(list(arr))  "
   ]
  }
 ],
 "metadata": {
  "kernelspec": {
   "display_name": "Python 3",
   "language": "python",
   "name": "python3"
  },
  "language_info": {
   "codemirror_mode": {
    "name": "ipython",
    "version": 3
   },
   "file_extension": ".py",
   "mimetype": "text/x-python",
   "name": "python",
   "nbconvert_exporter": "python",
   "pygments_lexer": "ipython3",
   "version": "3.11.2"
  },
  "orig_nbformat": 4
 },
 "nbformat": 4,
 "nbformat_minor": 2
}
