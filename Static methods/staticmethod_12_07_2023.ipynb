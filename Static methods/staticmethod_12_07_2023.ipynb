{
 "cells": [
  {
   "cell_type": "code",
   "execution_count": 9,
   "id": "0b274ef3",
   "metadata": {},
   "outputs": [],
   "source": [
    "#                                 staticmethod"
   ]
  },
  {
   "cell_type": "code",
   "execution_count": null,
   "id": "d988a643",
   "metadata": {},
   "outputs": [],
   "source": [
    "class pj:\n",
    "    def student_details(self, name, email_id, number):\n",
    "        print(name, email_id, number)\n",
    "\n",
    "    @staticmethod\n",
    "    def mentor_class(list_mentor):\n",
    "        print(list_mentor)\n",
    "\n",
    "    def mentor(self, mentor_list):\n",
    "        print(mentor_list)"
   ]
  },
  {
   "cell_type": "code",
   "execution_count": 14,
   "id": "9afb0d9b",
   "metadata": {},
   "outputs": [
    {
     "name": "stdout",
     "output_type": "stream",
     "text": [
      "John john@example.com 134567890\n"
     ]
    }
   ],
   "source": [
    "a=pj()\n",
    "a.student_details(\"John\", \"john@example.com\", 134567890)\n"
   ]
  },
  {
   "cell_type": "code",
   "execution_count": 11,
   "id": "c1e1429b",
   "metadata": {},
   "outputs": [
    {
     "name": "stdout",
     "output_type": "stream",
     "text": [
      "['Mentor 1', 'Mentor 2', 'Mentor 3']\n"
     ]
    }
   ],
   "source": [
    "pj.mentor_class([\"Mentor 1\", \"Mentor 2\", \"Mentor 3\"])"
   ]
  },
  {
   "cell_type": "code",
   "execution_count": 15,
   "id": "49b745bc",
   "metadata": {},
   "outputs": [
    {
     "name": "stdout",
     "output_type": "stream",
     "text": [
      "['Mentor A', 'Mentor B', 'Mentor C']\n"
     ]
    }
   ],
   "source": [
    "\n",
    "a.mentor([\"Mentor A\", \"Mentor B\", \"Mentor C\"]) \n"
   ]
  },
  {
   "cell_type": "code",
   "execution_count": 1,
   "id": "1cbc05c0",
   "metadata": {},
   "outputs": [],
   "source": [
    "class pwskills2:\n",
    "    \n",
    "    mobile_no = 9689422505\n",
    "    \n",
    "    def __init__(self,name, email):\n",
    "        \n",
    "        self.name=name\n",
    "        self.email=email\n",
    "        \n",
    "    @classmethod\n",
    "    def change_number(cls,mobile):\n",
    "        pwskills2.mobile_no = mobile\n",
    "        \n",
    "    @classmethod\n",
    "    def details(cls,name, email):\n",
    "        return cls(name,email)\n",
    "    def student_details(self):\n",
    "         print(self.name,self.email,pwskills2.mobile_no)"
   ]
  }
 ],
 "metadata": {
  "kernelspec": {
   "display_name": "Python 3 (ipykernel)",
   "language": "python",
   "name": "python3"
  },
  "language_info": {
   "codemirror_mode": {
    "name": "ipython",
    "version": 3
   },
   "file_extension": ".py",
   "mimetype": "text/x-python",
   "name": "python",
   "nbconvert_exporter": "python",
   "pygments_lexer": "ipython3",
   "version": "3.11.2"
  }
 },
 "nbformat": 4,
 "nbformat_minor": 5
}
