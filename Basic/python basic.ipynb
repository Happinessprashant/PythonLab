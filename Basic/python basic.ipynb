{
 "cells": [
  {
   "cell_type": "code",
   "execution_count": null,
   "id": "016f1d74-a81d-4a73-9572-59a7f63afdeb",
   "metadata": {},
   "outputs": [],
   "source": [
    "1+2"
   ]
  },
  {
   "cell_type": "code",
   "execution_count": null,
   "id": "582a01a6-ebad-42a9-bee3-b93242c97c4e",
   "metadata": {},
   "outputs": [],
   "source": [
    "5*5"
   ]
  },
  {
   "cell_type": "code",
   "execution_count": null,
   "id": "6c80b255-3fb5-4dc4-81d2-3707d3fe2db6",
   "metadata": {},
   "outputs": [],
   "source": [
    "5*2"
   ]
  },
  {
   "cell_type": "code",
   "execution_count": null,
   "id": "814ed361-24f1-4482-93b6-73a8e811a219",
   "metadata": {},
   "outputs": [],
   "source": [
    "a=45\n",
    "b=30"
   ]
  },
  {
   "cell_type": "code",
   "execution_count": null,
   "id": "1a0058c0-f54c-4280-9ae9-cbffd5e5264d",
   "metadata": {},
   "outputs": [],
   "source": [
    "a+b"
   ]
  },
  {
   "cell_type": "code",
   "execution_count": null,
   "id": "9c09d537-3975-4ff6-83fe-f9af78597162",
   "metadata": {},
   "outputs": [],
   "source": [
    "type(a)"
   ]
  },
  {
   "cell_type": "code",
   "execution_count": null,
   "id": "52d556ae-94da-4716-93d9-db3c8a197a2e",
   "metadata": {},
   "outputs": [],
   "source": [
    "type(b)"
   ]
  },
  {
   "cell_type": "code",
   "execution_count": null,
   "id": "00e0c58a-717c-4e4a-926c-5c8cc625b39c",
   "metadata": {},
   "outputs": [],
   "source": [
    "a=564.65"
   ]
  },
  {
   "cell_type": "code",
   "execution_count": null,
   "id": "179db7f0-b417-4397-9250-edeaef7a5727",
   "metadata": {},
   "outputs": [],
   "source": [
    "type(a)"
   ]
  },
  {
   "cell_type": "code",
   "execution_count": null,
   "id": "04e80f0d-48eb-4e3b-96a0-98ac787de2c1",
   "metadata": {},
   "outputs": [],
   "source": [
    "name=\"Prashant\""
   ]
  },
  {
   "cell_type": "code",
   "execution_count": null,
   "id": "545e6df7-9d52-4740-94bd-1352e76c1640",
   "metadata": {},
   "outputs": [],
   "source": [
    "name\n",
    "type(\"type of\"+ name+\" is \"+name)"
   ]
  },
  {
   "cell_type": "code",
   "execution_count": null,
   "id": "18ff5bf0-b08b-41a9-9b4f-b26bda09d6d9",
   "metadata": {},
   "outputs": [],
   "source": [
    "type(name)"
   ]
  },
  {
   "cell_type": "code",
   "execution_count": null,
   "id": "87683610-98f1-4ed0-8b16-de55e7870267",
   "metadata": {},
   "outputs": [],
   "source": [
    "name ,type(name)"
   ]
  },
  {
   "cell_type": "raw",
   "id": "2123a932-8f0c-4d4f-a580-a3ce244ff988",
   "metadata": {},
   "source": [
    "print(\"name of\",name,\"is \" ,type(name)"
   ]
  },
  {
   "cell_type": "code",
   "execution_count": null,
   "id": "16b5f01e-22c9-4798-9ea3-f5887a2a41d2",
   "metadata": {},
   "outputs": [],
   "source": [
    "print(\"name of\",name,\"is \" ,type(name))"
   ]
  },
  {
   "cell_type": "code",
   "execution_count": null,
   "id": "3e9a8e03-1553-4633-8767-ed04ca4387d1",
   "metadata": {},
   "outputs": [],
   "source": [
    "print(\"name of\",name,\"is \" ,type(name))"
   ]
  },
  {
   "cell_type": "code",
   "execution_count": null,
   "id": "4bc59bd3-2975-4641-9442-5ee40da2e944",
   "metadata": {},
   "outputs": [],
   "source": [
    "type(name)"
   ]
  },
  {
   "cell_type": "code",
   "execution_count": null,
   "id": "c693128e-5662-4baa-9c76-d14b9573a484",
   "metadata": {},
   "outputs": [],
   "source": [
    "print(\"name of \", name ,\" data type is \" ,type(name))"
   ]
  },
  {
   "cell_type": "code",
   "execution_count": null,
   "id": "5a912499-964d-4ed6-b46a-2f6682734a7d",
   "metadata": {},
   "outputs": [],
   "source": [
    "a=True"
   ]
  },
  {
   "cell_type": "code",
   "execution_count": null,
   "id": "0323409f-6e3e-489c-87f1-f7364599530b",
   "metadata": {},
   "outputs": [],
   "source": [
    "type(a)\n"
   ]
  },
  {
   "cell_type": "code",
   "execution_count": null,
   "id": "61971135-55ed-4776-a81a-76d6ba39ed53",
   "metadata": {},
   "outputs": [],
   "source": [
    "x=False"
   ]
  },
  {
   "cell_type": "code",
   "execution_count": null,
   "id": "b9402b48-d323-48da-ba27-f0736e0b6ae8",
   "metadata": {},
   "outputs": [],
   "source": [
    "type(x)"
   ]
  },
  {
   "cell_type": "code",
   "execution_count": null,
   "id": "05468a4d-e729-41fd-ad7a-721df67bbf6d",
   "metadata": {},
   "outputs": [],
   "source": [
    "x=True"
   ]
  },
  {
   "cell_type": "code",
   "execution_count": null,
   "id": "2c87741f-3358-433b-bf23-a6d8a0a506a2",
   "metadata": {},
   "outputs": [],
   "source": [
    "type(x)"
   ]
  },
  {
   "cell_type": "code",
   "execution_count": null,
   "id": "b0ba9ac3-1b02-4807-8d66-3327f95a61dd",
   "metadata": {},
   "outputs": [],
   "source": [
    "y=False"
   ]
  },
  {
   "cell_type": "code",
   "execution_count": null,
   "id": "40ed93a8-49a2-40b9-8a36-7bcae03dde83",
   "metadata": {},
   "outputs": [],
   "source": [
    "type(y)"
   ]
  },
  {
   "cell_type": "code",
   "execution_count": null,
   "id": "65043739-23c6-40aa-8b95-998b8f28df8b",
   "metadata": {},
   "outputs": [],
   "source": [
    "x/y"
   ]
  },
  {
   "cell_type": "code",
   "execution_count": null,
   "id": "7bbb1ba9-1d8f-4753-83d2-dc489437385e",
   "metadata": {},
   "outputs": [],
   "source": [
    "s=9+4j"
   ]
  },
  {
   "cell_type": "code",
   "execution_count": null,
   "id": "9dad1d82-e87b-404d-aadb-9e9d917f9408",
   "metadata": {},
   "outputs": [],
   "source": [
    "type(s)"
   ]
  },
  {
   "cell_type": "code",
   "execution_count": null,
   "id": "a7d4a346-9c56-4000-9814-dab30a5f3da8",
   "metadata": {},
   "outputs": [],
   "source": [
    "s.real"
   ]
  },
  {
   "cell_type": "code",
   "execution_count": null,
   "id": "b8ebf461-a6fe-4ee2-9958-3564fa233110",
   "metadata": {},
   "outputs": [],
   "source": [
    "s.imag"
   ]
  },
  {
   "cell_type": "code",
   "execution_count": null,
   "id": "2927b528-8d9e-4b5a-85bf-94cdcd0ea057",
   "metadata": {},
   "outputs": [],
   "source": [
    "s"
   ]
  },
  {
   "cell_type": "code",
   "execution_count": null,
   "id": "8912a3bc-206b-4ffd-812e-faab22dcfc6d",
   "metadata": {},
   "outputs": [],
   "source": [
    "s.real"
   ]
  },
  {
   "cell_type": "code",
   "execution_count": null,
   "id": "f72f3339-52af-435e-a655-6f89c938efad",
   "metadata": {},
   "outputs": [],
   "source": [
    "s.imag"
   ]
  },
  {
   "cell_type": "code",
   "execution_count": null,
   "id": "62da62ce-9b19-4d93-896b-642fb63d9099",
   "metadata": {},
   "outputs": [],
   "source": [
    "s.conjugate"
   ]
  },
  {
   "cell_type": "code",
   "execution_count": null,
   "id": "1952e20a-fa66-45f3-a961-c398bded89fc",
   "metadata": {},
   "outputs": [],
   "source": []
  },
  {
   "cell_type": "code",
   "execution_count": null,
   "id": "17ff9bc1",
   "metadata": {},
   "outputs": [],
   "source": [
    "1+2"
   ]
  },
  {
   "cell_type": "code",
   "execution_count": null,
   "id": "4d5c897c",
   "metadata": {},
   "outputs": [],
   "source": []
  },
  {
   "cell_type": "code",
   "execution_count": null,
   "id": "409031ed",
   "metadata": {},
   "outputs": [],
   "source": []
  },
  {
   "cell_type": "markdown",
   "id": "193b7ce0",
   "metadata": {},
   "source": []
  }
 ],
 "metadata": {
  "kernelspec": {
   "display_name": "Python 3.11.2 64-bit",
   "language": "python",
   "name": "python3"
  },
  "language_info": {
   "codemirror_mode": {
    "name": "ipython",
    "version": 3
   },
   "file_extension": ".py",
   "mimetype": "text/x-python",
   "name": "python",
   "nbconvert_exporter": "python",
   "pygments_lexer": "ipython3",
   "version": "3.11.2"
  },
  "toc-autonumbering": true,
  "vscode": {
   "interpreter": {
    "hash": "0f7f8c1536a8616ea8da7a19f34d7e2420dcc307794a968659566839af661d55"
   }
  }
 },
 "nbformat": 4,
 "nbformat_minor": 5
}
