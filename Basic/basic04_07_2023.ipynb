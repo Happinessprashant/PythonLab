{
 "cells": [
  {
   "cell_type": "code",
   "execution_count": 6,
   "id": "05b3afa2",
   "metadata": {},
   "outputs": [],
   "source": [
    "l=[23,5,45,56,6,67,67,78,87,8998 ,9,9,8]"
   ]
  },
  {
   "cell_type": "code",
   "execution_count": 7,
   "id": "e04174f5",
   "metadata": {},
   "outputs": [
    {
     "data": {
      "text/plain": [
       "[23, 5, 45, 56, 6, 67, 67, 78, 87, 8998, 9, 9, 8]"
      ]
     },
     "execution_count": 7,
     "metadata": {},
     "output_type": "execute_result"
    }
   ],
   "source": [
    "l\n"
   ]
  },
  {
   "cell_type": "code",
   "execution_count": 27,
   "id": "70e86ff4",
   "metadata": {},
   "outputs": [
    {
     "name": "stdout",
     "output_type": "stream",
     "text": [
      "9458\n"
     ]
    }
   ],
   "source": [
    "sum1=0\n",
    "for i in l:\n",
    "    sum1+=i\n",
    "print(sum1)    \n",
    "    "
   ]
  },
  {
   "cell_type": "code",
   "execution_count": 28,
   "id": "a7fa5197",
   "metadata": {},
   "outputs": [
    {
     "name": "stdout",
     "output_type": "stream",
     "text": [
      "sum 9458\n"
     ]
    }
   ],
   "source": [
    "sum1=0\n",
    "for i in range(0,len(l)):\n",
    "    sum1+=l[i]\n",
    "\n",
    "print(\"sum\",sum1)    "
   ]
  },
  {
   "cell_type": "code",
   "execution_count": 10,
   "id": "2ed84a52",
   "metadata": {},
   "outputs": [
    {
     "data": {
      "text/plain": [
       "123"
      ]
     },
     "execution_count": 10,
     "metadata": {},
     "output_type": "execute_result"
    }
   ],
   "source": [
    "sum1=0\n",
    "l1=[1,2,3,4,7,8,98]\n",
    "sum(l1)"
   ]
  },
  {
   "cell_type": "code",
   "execution_count": 30,
   "id": "0cd7dfd8",
   "metadata": {},
   "outputs": [
    {
     "name": "stdout",
     "output_type": "stream",
     "text": [
      "sum 9581\n"
     ]
    }
   ],
   "source": [
    "for i in range(0,len(l1)):\n",
    "    sum1+=l1[i]\n",
    "\n",
    "print(\"sum\",sum1)   "
   ]
  },
  {
   "cell_type": "code",
   "execution_count": 26,
   "id": "94a7cfe8",
   "metadata": {},
   "outputs": [
    {
     "name": "stdout",
     "output_type": "stream",
     "text": [
      "number is :  23\n",
      "sum in for :  23\n",
      "number is :  5\n",
      "sum in for :  28\n",
      "number is :  45\n",
      "sum in for :  73\n",
      "number is :  56\n",
      "sum in for :  129\n",
      "number is :  6\n",
      "sum in for :  135\n",
      "number is :  67\n",
      "sum in for :  202\n",
      "number is :  67\n",
      "sum in for :  269\n",
      "number is :  78\n",
      "sum in for :  347\n",
      "number is :  87\n",
      "sum in for :  434\n",
      "number is :  8998\n",
      "sum in for :  9432\n",
      "number is :  9\n",
      "sum in for :  9441\n",
      "number is :  9\n",
      "sum in for :  9450\n",
      "number is :  8\n",
      "sum in for :  9458\n",
      "9458\n"
     ]
    }
   ],
   "source": [
    "sum1=0\n",
    "for i in l:\n",
    "    print(\"number is : \",i)\n",
    "    sum1+=i\n",
    "    print(\"sum in for : \",sum1)\n",
    "print(sum1)    "
   ]
  },
  {
   "cell_type": "code",
   "execution_count": 11,
   "id": "deb027ca",
   "metadata": {},
   "outputs": [
    {
     "data": {
      "text/plain": [
       "123"
      ]
     },
     "execution_count": 11,
     "metadata": {},
     "output_type": "execute_result"
    }
   ],
   "source": [
    "\n",
    "sum(l1)"
   ]
  },
  {
   "cell_type": "code",
   "execution_count": 2,
   "id": "54885762",
   "metadata": {},
   "outputs": [],
   "source": [
    "\n",
    "t=(1,2,3,4,4,5)"
   ]
  },
  {
   "cell_type": "code",
   "execution_count": 34,
   "id": "3a8ec649",
   "metadata": {},
   "outputs": [
    {
     "name": "stdout",
     "output_type": "stream",
     "text": [
      "19\n"
     ]
    }
   ],
   "source": [
    "sum1=0\n",
    "for i in t:\n",
    "    sum1+=i\n",
    "print(sum1)    "
   ]
  },
  {
   "cell_type": "code",
   "execution_count": 3,
   "id": "c86e0fa0",
   "metadata": {},
   "outputs": [
    {
     "data": {
      "text/plain": [
       "19"
      ]
     },
     "execution_count": 3,
     "metadata": {},
     "output_type": "execute_result"
    }
   ],
   "source": [
    "sum(t)"
   ]
  },
  {
   "cell_type": "code",
   "execution_count": 12,
   "id": "719fbce0",
   "metadata": {},
   "outputs": [
    {
     "name": "stdout",
     "output_type": "stream",
     "text": [
      "1\n",
      "2\n",
      "3\n",
      "4\n",
      "5\n",
      "6\n",
      "7\n",
      "8\n",
      "9\n"
     ]
    }
   ],
   "source": [
    "for i in range(1,10):\n",
    "    print(i)"
   ]
  },
  {
   "cell_type": "code",
   "execution_count": 18,
   "id": "86b8a647",
   "metadata": {},
   "outputs": [
    {
     "name": "stdout",
     "output_type": "stream",
     "text": [
      "1\n",
      "2\n",
      "3\n",
      "4\n",
      "5\n",
      "6\n",
      "7\n",
      "8\n",
      "9\n",
      "10\n",
      "sum of 1 to 10 Numbers  55\n"
     ]
    }
   ],
   "source": [
    "sum=0\n",
    "for i in range(1,11):\n",
    "    print(i)\n",
    "    sum+=(i)\n",
    "print(\"sum of 1 to 10 Numbers \",sum)    "
   ]
  },
  {
   "cell_type": "code",
   "execution_count": 20,
   "id": "4b140828",
   "metadata": {},
   "outputs": [
    {
     "name": "stdout",
     "output_type": "stream",
     "text": [
      "1505\n",
      "1512\n",
      "1519\n",
      "1526\n",
      "1533\n",
      "1540\n",
      "1547\n",
      "1554\n",
      "1561\n",
      "1568\n",
      "1575\n",
      "1582\n",
      "1589\n",
      "1596\n",
      "1603\n",
      "1610\n",
      "1617\n",
      "1624\n",
      "1631\n",
      "1638\n",
      "1645\n",
      "1652\n",
      "1659\n",
      "1666\n",
      "1673\n",
      "1680\n",
      "1687\n",
      "1694\n",
      "1701\n",
      "1708\n",
      "1715\n",
      "1722\n",
      "1729\n",
      "1736\n",
      "1743\n",
      "1750\n",
      "1757\n",
      "1764\n",
      "1771\n",
      "1778\n",
      "1785\n",
      "1792\n",
      "1799\n",
      "1806\n",
      "1813\n",
      "1820\n",
      "1827\n",
      "1834\n",
      "1841\n",
      "1848\n",
      "1855\n",
      "1862\n",
      "1869\n",
      "1876\n",
      "1883\n",
      "1890\n",
      "1897\n",
      "1904\n",
      "1911\n",
      "1918\n",
      "1925\n",
      "1932\n",
      "1939\n",
      "1946\n",
      "1953\n",
      "1960\n",
      "1967\n",
      "1974\n",
      "1981\n",
      "1988\n",
      "1995\n",
      "2002\n",
      "2009\n",
      "2016\n",
      "2023\n",
      "2030\n",
      "2037\n",
      "2044\n",
      "2051\n",
      "2058\n",
      "2065\n",
      "2072\n",
      "2079\n",
      "2086\n",
      "2093\n",
      "2100\n",
      "2107\n",
      "2114\n",
      "2121\n",
      "2128\n",
      "2135\n",
      "2142\n",
      "2149\n",
      "2156\n",
      "2163\n",
      "2170\n",
      "2177\n",
      "2184\n",
      "2191\n",
      "2198\n",
      "2205\n",
      "2212\n",
      "2219\n",
      "2226\n",
      "2233\n",
      "2240\n",
      "2247\n",
      "2254\n",
      "2261\n",
      "2268\n",
      "2275\n",
      "2282\n",
      "2289\n",
      "2296\n",
      "2303\n",
      "2310\n",
      "2317\n",
      "2324\n",
      "2331\n",
      "2338\n",
      "2345\n",
      "2352\n",
      "2359\n",
      "2366\n",
      "2373\n",
      "2380\n",
      "2387\n",
      "2394\n",
      "2401\n",
      "2408\n",
      "2415\n",
      "2422\n",
      "2429\n",
      "2436\n",
      "2443\n",
      "2450\n",
      "2457\n",
      "2464\n",
      "2471\n",
      "2478\n",
      "2485\n",
      "2492\n",
      "2499\n",
      "2506\n",
      "2513\n",
      "2520\n",
      "2527\n",
      "2534\n",
      "2541\n",
      "2548\n",
      "2555\n",
      "2562\n",
      "2569\n",
      "2576\n",
      "2583\n",
      "2590\n",
      "2597\n",
      "2604\n",
      "2611\n",
      "2618\n",
      "2625\n",
      "2632\n",
      "2639\n",
      "2646\n",
      "2653\n",
      "2660\n",
      "2667\n",
      "2674\n",
      "2681\n",
      "2688\n",
      "2695\n"
     ]
    }
   ],
   "source": [
    "for i in range (1500 , 2701):\n",
    "    if i%7==0 and i*5:\n",
    "        print(i)\n",
    "     "
   ]
  },
  {
   "cell_type": "code",
   "execution_count": 21,
   "id": "9e0b5210",
   "metadata": {},
   "outputs": [],
   "source": [
    "d={\n",
    "    \"name\":\"Prashant\",\n",
    "    \"class\":\"data science\",\n",
    "    \"topic\":[\"python\",\"stats\",\"machine learning\",\"dl\",\"cv\",\"nlp\",\"resume\",\"interview \"]\n",
    "}"
   ]
  },
  {
   "cell_type": "code",
   "execution_count": 22,
   "id": "4f2cf3ab",
   "metadata": {},
   "outputs": [
    {
     "data": {
      "text/plain": [
       "{'name': 'Prashant',\n",
       " 'class': 'data science',\n",
       " 'topic': ['python',\n",
       "  'stats',\n",
       "  'machine learning',\n",
       "  'dl',\n",
       "  'cv',\n",
       "  'nlp',\n",
       "  'resume',\n",
       "  'interview ']}"
      ]
     },
     "execution_count": 22,
     "metadata": {},
     "output_type": "execute_result"
    }
   ],
   "source": [
    "d"
   ]
  },
  {
   "cell_type": "code",
   "execution_count": 23,
   "id": "72654c6c",
   "metadata": {},
   "outputs": [
    {
     "data": {
      "text/plain": [
       "dict_keys(['name', 'class', 'topic'])"
      ]
     },
     "execution_count": 23,
     "metadata": {},
     "output_type": "execute_result"
    }
   ],
   "source": [
    "d.keys()"
   ]
  },
  {
   "cell_type": "code",
   "execution_count": 24,
   "id": "03e4decd",
   "metadata": {},
   "outputs": [
    {
     "name": "stdout",
     "output_type": "stream",
     "text": [
      "Prashant\n",
      "data science\n",
      "['python', 'stats', 'machine learning', 'dl', 'cv', 'nlp', 'resume', 'interview ']\n"
     ]
    }
   ],
   "source": [
    "for i in d.keys():\n",
    "    print(d[i])"
   ]
  },
  {
   "cell_type": "code",
   "execution_count": 25,
   "id": "63aee80f",
   "metadata": {},
   "outputs": [
    {
     "data": {
      "text/plain": [
       "dict_values(['Prashant', 'data science', ['python', 'stats', 'machine learning', 'dl', 'cv', 'nlp', 'resume', 'interview ']])"
      ]
     },
     "execution_count": 25,
     "metadata": {},
     "output_type": "execute_result"
    }
   ],
   "source": [
    "d.values()"
   ]
  },
  {
   "cell_type": "code",
   "execution_count": 27,
   "id": "6fb50403",
   "metadata": {},
   "outputs": [
    {
     "name": "stdout",
     "output_type": "stream",
     "text": [
      "Prashant\n",
      "data science\n",
      "['python', 'stats', 'machine learning', 'dl', 'cv', 'nlp', 'resume', 'interview ']\n"
     ]
    }
   ],
   "source": [
    "for i in d.values():\n",
    "    print(i)"
   ]
  },
  {
   "cell_type": "code",
   "execution_count": 29,
   "id": "8bb59416",
   "metadata": {},
   "outputs": [
    {
     "data": {
      "text/plain": [
       "dict_items([('name', 'Prashant'), ('class', 'data science'), ('topic', ['python', 'stats', 'machine learning', 'dl', 'cv', 'nlp', 'resume', 'interview '])])"
      ]
     },
     "execution_count": 29,
     "metadata": {},
     "output_type": "execute_result"
    }
   ],
   "source": [
    "d.items()"
   ]
  },
  {
   "cell_type": "code",
   "execution_count": 30,
   "id": "68bd7497",
   "metadata": {},
   "outputs": [
    {
     "name": "stdout",
     "output_type": "stream",
     "text": [
      "('name', 'Prashant')\n",
      "('class', 'data science')\n",
      "('topic', ['python', 'stats', 'machine learning', 'dl', 'cv', 'nlp', 'resume', 'interview '])\n"
     ]
    }
   ],
   "source": [
    "for i in d.items():\n",
    "    print(i)"
   ]
  },
  {
   "cell_type": "code",
   "execution_count": 31,
   "id": "958db211",
   "metadata": {},
   "outputs": [],
   "source": [
    "#\n"
   ]
  },
  {
   "cell_type": "code",
   "execution_count": null,
   "id": "9a236570",
   "metadata": {},
   "outputs": [],
   "source": []
  },
  {
   "cell_type": "code",
   "execution_count": 32,
   "id": "d212f92a",
   "metadata": {},
   "outputs": [],
   "source": [
    "# # while Loop \n",
    "#          The loop that allows you to repeat an action \n",
    "#     as long as a condition is true: the while loop.\n"
   ]
  },
  {
   "cell_type": "code",
   "execution_count": 33,
   "id": "04098414",
   "metadata": {},
   "outputs": [
    {
     "name": "stdout",
     "output_type": "stream",
     "text": [
      "1\n",
      "2\n",
      "3\n",
      "4\n",
      "5\n",
      "6\n",
      "7\n",
      "8\n",
      "9\n",
      "10\n"
     ]
    }
   ],
   "source": [
    "a=1\n",
    "\n",
    "while(a<=10):\n",
    "    print(a)\n",
    "    a+=1"
   ]
  },
  {
   "cell_type": "code",
   "execution_count": 41,
   "id": "9e75558d",
   "metadata": {},
   "outputs": [
    {
     "name": "stdout",
     "output_type": "stream",
     "text": [
      "Enter Input 10\n",
      "1\n",
      "2\n",
      "3\n",
      "4\n",
      "5\n",
      "6\n",
      "7\n",
      "8\n",
      "9\n",
      "10\n",
      "sum is 1 to  10  is  55\n"
     ]
    }
   ],
   "source": [
    "n=int(input(\"Enter Input \"))\n",
    "sum=0\n",
    "count=1 \n",
    "while(count<=n):\n",
    "    print(count)\n",
    "    sum+=count\n",
    "    count+=1\n",
    "print(\"sum is 1 to \",n,\" is \",sum)    "
   ]
  },
  {
   "cell_type": "code",
   "execution_count": 44,
   "id": "adb5e561",
   "metadata": {},
   "outputs": [
    {
     "name": "stdout",
     "output_type": "stream",
     "text": [
      "Enter Input 5\n",
      "1\n",
      "3\n",
      "5\n",
      "sum of odd numbers in 1 to  5  is  9\n"
     ]
    }
   ],
   "source": [
    "n=int(input(\"Enter Input \"))\n",
    "sumofodd=0\n",
    "count=1\n",
    "while(count<=n):\n",
    "    print(count)\n",
    "    sumofodd+=count\n",
    "    count+=2\n",
    "print(\"sum of odd numbers in 1 to \",n,\" is \",sumofodd)   "
   ]
  },
  {
   "cell_type": "code",
   "execution_count": 47,
   "id": "175d6227",
   "metadata": {},
   "outputs": [
    {
     "name": "stdout",
     "output_type": "stream",
     "text": [
      "Enter Input 5\n",
      "0\n",
      "2\n",
      "4\n",
      "sum of Even numbers in 1 to  5  is  6\n"
     ]
    }
   ],
   "source": [
    "n=int(input(\"Enter Input \"))\n",
    "sumofeven=0\n",
    "count=0\n",
    "while(count<=n):\n",
    "    print(count)\n",
    "    sumofeven+=count\n",
    "    count+=2\n",
    "print(\"sum of Even numbers in 1 to \",n,\" is \",sumofeven) "
   ]
  },
  {
   "cell_type": "code",
   "execution_count": 48,
   "id": "3c0e60d0",
   "metadata": {},
   "outputs": [
    {
     "name": "stdout",
     "output_type": "stream",
     "text": [
      "Enter Input 0\n",
      "sum of Even numbers in 1 to  0  is  0\n"
     ]
    }
   ],
   "source": [
    "n=int(input(\"Enter Input \"))\n",
    "sum=0\n",
    "while(n>0):\n",
    "    print(count)\n",
    "    sum*=count\n",
    "    count+=21\n",
    "print(\"sum of Even numbers in 1 to \",n,\" is \",sum) "
   ]
  },
  {
   "cell_type": "code",
   "execution_count": null,
   "id": "0fb12f2f",
   "metadata": {},
   "outputs": [],
   "source": [
    "def factorial(n):\n",
    "    result = 1\n",
    "    for i in range(1, n+1):\n",
    "        result *= i\n",
    "    return result\n",
    "\n",
    "num = 6\n",
    "factorial_num = factorial(num)\n",
    "print(f\"The factorial of {num} is {factorial_num}\")\n"
   ]
  },
  {
   "cell_type": "code",
   "execution_count": 52,
   "id": "f328b004",
   "metadata": {},
   "outputs": [
    {
     "name": "stdout",
     "output_type": "stream",
     "text": [
      "Enter Input 5\n"
     ]
    },
    {
     "data": {
      "text/plain": [
       "120"
      ]
     },
     "execution_count": 52,
     "metadata": {},
     "output_type": "execute_result"
    }
   ],
   "source": [
    "n=int(input(\"Enter Input \"))\n",
    "result=1\n",
    "for i in range(1, n+1):\n",
    "    result *=i\n",
    "result    \n"
   ]
  },
  {
   "cell_type": "code",
   "execution_count": 4,
   "id": "9aef872b",
   "metadata": {},
   "outputs": [
    {
     "name": "stdout",
     "output_type": "stream",
     "text": [
      "Enter Input 5\n",
      "factorial of  5 is 120\n"
     ]
    }
   ],
   "source": [
    "n=int(input(\"Enter Input \"))\n",
    "result=1\n",
    "num=n\n",
    "while(n>0):\n",
    "    result *=n\n",
    "    n= n-1\n",
    "print(\"factorial of \",num,\"is\",result)\n"
   ]
  },
  {
   "cell_type": "code",
   "execution_count": 5,
   "id": "b0d6a5b3",
   "metadata": {},
   "outputs": [
    {
     "name": "stdout",
     "output_type": "stream",
     "text": [
      "Enter Input 3\n",
      "factorial number of  3 is 6\n"
     ]
    }
   ],
   "source": [
    "n=int(input(\"Enter Input \"))\n",
    "result=1\n",
    "num=n\n",
    "while(n>0):\n",
    "    result *=n\n",
    "    n= n-1\n",
    "print(\"factorial number of \",num,\"is\",result)\n"
   ]
  },
  {
   "cell_type": "code",
   "execution_count": 8,
   "id": "5b5bc518",
   "metadata": {},
   "outputs": [
    {
     "name": "stdout",
     "output_type": "stream",
     "text": [
      "Enter Number 5\n",
      "Fobinacii series of 5 numbers \n",
      "0\n",
      "1\n",
      "1\n",
      "2\n",
      "3\n"
     ]
    }
   ],
   "source": [
    "# num=> 0 1 1 2,3 ,5,.....\n",
    "number = int(input(\"Enter Number \"))\n",
    "counter=0\n",
    "a,b=0,1\n",
    "print(\"Fobinacii series of\",number,\"numbers \",)\n",
    "while(counter<number):\n",
    "    print(a)\n",
    "    c= a+b\n",
    "    a=b\n",
    "    b=c\n",
    "    counter+=1\n",
    "\n",
    "    "
   ]
  },
  {
   "cell_type": "code",
   "execution_count": 9,
   "id": "bc1d511c",
   "metadata": {},
   "outputs": [
    {
     "name": "stdout",
     "output_type": "stream",
     "text": [
      "0\n",
      "1\n",
      "1\n",
      "2\n",
      "3\n",
      "5\n",
      "8\n",
      "13\n",
      "21\n",
      "34\n"
     ]
    }
   ],
   "source": [
    "# num=> 0 1 1 2,3 ,5,.....\n",
    "# number = int(input(\"Enter Number \"))\n",
    "counter=0\n",
    "a,b=0,1\n",
    "for i in range(10):\n",
    "    print(a)\n",
    "    c=a+b\n",
    "    a=b\n",
    "    b=c\n",
    "    counter+=1\n",
    "    \n",
    "    "
   ]
  },
  {
   "cell_type": "code",
   "execution_count": 10,
   "id": "2d81df7a",
   "metadata": {},
   "outputs": [
    {
     "name": "stdout",
     "output_type": "stream",
     "text": [
      "Enter Number 5\n",
      "0\n",
      "1\n",
      "1\n",
      "2\n",
      "3\n"
     ]
    }
   ],
   "source": [
    "# num=> 0 1 1 2,3 ,5,.....\n",
    "number = int(input(\"Enter Number \"))\n",
    "counter=0\n",
    "a,b=0,1\n",
    "for i in range(number):\n",
    "    print(a)\n",
    "    c=a+b\n",
    "    a=b\n",
    "    b=c\n",
    "    counter+=1\n",
    "    "
   ]
  },
  {
   "cell_type": "code",
   "execution_count": null,
   "id": "12e68215",
   "metadata": {},
   "outputs": [],
   "source": []
  }
 ],
 "metadata": {
  "kernelspec": {
   "display_name": "Python 3 (ipykernel)",
   "language": "python",
   "name": "python3"
  },
  "language_info": {
   "codemirror_mode": {
    "name": "ipython",
    "version": 3
   },
   "file_extension": ".py",
   "mimetype": "text/x-python",
   "name": "python",
   "nbconvert_exporter": "python",
   "pygments_lexer": "ipython3",
   "version": "3.10.9"
  }
 },
 "nbformat": 4,
 "nbformat_minor": 5
}
