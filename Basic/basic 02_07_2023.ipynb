{
 "cells": [
  {
   "cell_type": "code",
   "execution_count": null,
   "id": "a21d1566-5d43-4c2d-91e5-55c6886e08ca",
   "metadata": {},
   "outputs": [],
   "source": [
    "# # Control Statements if && elif\n",
    "\n",
    "# and use & (single & sign)  and\n",
    "# or use | (use single | sign)"
   ]
  },
  {
   "cell_type": "code",
   "execution_count": 1,
   "id": "6e460c56-79e0-4ac9-b7d5-0bb29abe7b17",
   "metadata": {},
   "outputs": [
    {
     "name": "stdout",
     "output_type": "stream",
     "text": [
      " 5\n"
     ]
    },
    {
     "name": "stdout",
     "output_type": "stream",
     "text": [
      "D\n"
     ]
    }
   ],
   "source": [
    "a=int(input())\n",
    "\n",
    "if(a>=80):\n",
    "    print(\"A\")\n",
    "elif(a>=60 and a<80):\n",
    "    print(\"B\")\n",
    "elif(a>=40 and a<60):\n",
    "    print(\"C\")   \n",
    "else:\n",
    "    print(\"D\")"
   ]
  },
  {
   "cell_type": "code",
   "execution_count": 2,
   "id": "c632b3a0-46b4-492e-a0a9-1d6ffa694e5e",
   "metadata": {},
   "outputs": [
    {
     "data": {
      "text/plain": [
       "True"
      ]
     },
     "execution_count": 2,
     "metadata": {},
     "output_type": "execute_result"
    }
   ],
   "source": [
    "True | False"
   ]
  },
  {
   "cell_type": "code",
   "execution_count": 3,
   "id": "a218fc47-9e2d-4aec-ad70-728731e3aaf4",
   "metadata": {},
   "outputs": [
    {
     "name": "stdout",
     "output_type": "stream",
     "text": [
      "Enter Some Value 100\n"
     ]
    },
    {
     "name": "stdout",
     "output_type": "stream",
     "text": [
      "I will Purchase \n"
     ]
    }
   ],
   "source": [
    "price = int(input(\"Enter Some Value\"))\n",
    "\n",
    "if price > 1000:\n",
    "    print(\"I will not purchase\")\n",
    "    if(price >5000):\n",
    "        print(\"this is to much\")\n",
    "    elif(price < 2000):\n",
    "        print(\"Its Ok !!\")\n",
    "        \n",
    "elif(price<1000):\n",
    "    print(\"I will Purchase \")\n",
    "else:\n",
    "    print(\"Not intrested\")"
   ]
  },
  {
   "cell_type": "code",
   "execution_count": 4,
   "id": "be915867-bdce-4930-a960-a2edb6ede833",
   "metadata": {},
   "outputs": [
    {
     "name": "stdout",
     "output_type": "stream",
     "text": [
      "Enter Some Value 1000\n"
     ]
    },
    {
     "name": "stdout",
     "output_type": "stream",
     "text": [
      "Not intrested\n"
     ]
    }
   ],
   "source": [
    "price = int(input(\"Enter Some Value\"))\n",
    "\n",
    "if price > 1000:\n",
    "    print(\"I will not purchase\")\n",
    "    if(price >5000):\n",
    "        print(\"this is to much\")\n",
    "    elif(price < 2000):\n",
    "        print(\"Its Ok !!\")\n",
    "        \n",
    "elif(price<1000):\n",
    "    print(\"I will Purchase \")\n",
    "else:\n",
    "    print(\"Not intrested\")"
   ]
  },
  {
   "cell_type": "code",
   "execution_count": 5,
   "id": "a775852d-2787-4058-9909-19ecd4596e95",
   "metadata": {},
   "outputs": [
    {
     "name": "stdout",
     "output_type": "stream",
     "text": [
      "Enter Some Value 1500\n"
     ]
    },
    {
     "name": "stdout",
     "output_type": "stream",
     "text": [
      "I will not purchase\n",
      "Its Ok !!\n"
     ]
    }
   ],
   "source": [
    "price = int(input(\"Enter Some Value\"))\n",
    "\n",
    "if price > 1000:\n",
    "    print(\"I will not purchase\")\n",
    "    if(price >5000):\n",
    "        print(\"this is to much\")\n",
    "    elif(price < 2000):\n",
    "        print(\"Its Ok !!\")\n",
    "        \n",
    "elif(price<1000):\n",
    "    print(\"I will Purchase \")\n",
    "else:\n",
    "    print(\"Not intrested\")"
   ]
  },
  {
   "cell_type": "code",
   "execution_count": 6,
   "id": "60bdedc3-7d56-40b0-9671-57a35e2d46f8",
   "metadata": {},
   "outputs": [
    {
     "name": "stdout",
     "output_type": "stream",
     "text": [
      "Enter Some Value 5000\n"
     ]
    },
    {
     "name": "stdout",
     "output_type": "stream",
     "text": [
      "I will not purchase\n"
     ]
    }
   ],
   "source": [
    "price = int(input(\"Enter Some Value\"))\n",
    "\n",
    "if price > 1000:\n",
    "    print(\"I will not purchase\")\n",
    "    if(price >5000):\n",
    "        print(\"this is to much\")\n",
    "    elif(price < 2000):\n",
    "        print(\"Its Ok !!\")\n",
    "        \n",
    "elif(price<1000):\n",
    "    print(\"I will Purchase \")\n",
    "else:\n",
    "    print(\"Not intrested\")"
   ]
  },
  {
   "cell_type": "code",
   "execution_count": 8,
   "id": "c2507ebc-306e-482d-8d6c-e7d4537ad89f",
   "metadata": {},
   "outputs": [
    {
     "name": "stdout",
     "output_type": "stream",
     "text": [
      "Enter Some Value 7000\n"
     ]
    },
    {
     "name": "stdout",
     "output_type": "stream",
     "text": [
      "I will not purchase\n",
      "this price is to much \n"
     ]
    }
   ],
   "source": [
    "price = int(input(\"Enter Some Value\"))\n",
    "\n",
    "if price > 1000:\n",
    "    print(\"I will not purchase\")\n",
    "    if(price >5000):\n",
    "        print(\"this price is to much \")\n",
    "    elif(price < 2000):\n",
    "        print(\"Its Ok !!\")\n",
    "        \n",
    "elif(price<1000):\n",
    "    print(\"I will Purchase \")\n",
    "else:\n",
    "    print(\"Not intrested\")"
   ]
  },
  {
   "cell_type": "code",
   "execution_count": 2,
   "id": "570a0d85-0283-4b90-8774-e829861da1b2",
   "metadata": {},
   "outputs": [
    {
     "name": "stdout",
     "output_type": "stream",
     "text": [
      "Enter Some Value 5\n",
      "I will Purchase \n"
     ]
    }
   ],
   "source": [
    "price = int(input(\"Enter Some Value \"))\n",
    "\n",
    "if price > 1000:\n",
    "    print(\"I will not purchase\")\n",
    "    if(price >5000):\n",
    "        print(\"this is to much\")\n",
    "    elif(price < 2000):\n",
    "        print(\"Its Ok !!\")\n",
    "        \n",
    "elif(price<1000):\n",
    "    print(\"I will Purchase \")\n",
    "else:\n",
    "    print(\"Not intrested\")"
   ]
  },
  {
   "cell_type": "code",
   "execution_count": 18,
   "id": "7c27031b",
   "metadata": {},
   "outputs": [
    {
     "data": {
      "text/plain": [
       "8"
      ]
     },
     "execution_count": 18,
     "metadata": {},
     "output_type": "execute_result"
    }
   ],
   "source": [
    "l=[1,2,3,4,5,6,7,8]\n",
    "len(l)"
   ]
  },
  {
   "cell_type": "code",
   "execution_count": 6,
   "id": "5dcfc0b0",
   "metadata": {},
   "outputs": [
    {
     "name": "stdout",
     "output_type": "stream",
     "text": [
      "1\n",
      "2\n",
      "3\n",
      "4\n",
      "5\n",
      "6\n",
      "7\n",
      "8\n"
     ]
    }
   ],
   "source": [
    "for i in l:\n",
    "    print(i)\n",
    "    "
   ]
  },
  {
   "cell_type": "code",
   "execution_count": 7,
   "id": "495b0130",
   "metadata": {},
   "outputs": [
    {
     "name": "stdout",
     "output_type": "stream",
     "text": [
      "2\n",
      "3\n",
      "4\n",
      "5\n",
      "6\n",
      "7\n",
      "8\n",
      "9\n"
     ]
    }
   ],
   "source": [
    "for i in l:\n",
    "    l=(i)+1\n",
    "    print(l)"
   ]
  },
  {
   "cell_type": "code",
   "execution_count": 15,
   "id": "7ac6f2e5",
   "metadata": {},
   "outputs": [
    {
     "ename": "TypeError",
     "evalue": "'int' object is not iterable",
     "output_type": "error",
     "traceback": [
      "\u001b[1;31m---------------------------------------------------------------------------\u001b[0m",
      "\u001b[1;31mTypeError\u001b[0m                                 Traceback (most recent call last)",
      "Cell \u001b[1;32mIn[15], line 1\u001b[0m\n\u001b[1;32m----> 1\u001b[0m \u001b[38;5;28;01mfor\u001b[39;00m i \u001b[38;5;129;01min\u001b[39;00m l:\n\u001b[0;32m      2\u001b[0m     \u001b[38;5;28mprint\u001b[39m(i)\n",
      "\u001b[1;31mTypeError\u001b[0m: 'int' object is not iterable"
     ]
    }
   ],
   "source": [
    "for i in l:\n",
    "    print(i)"
   ]
  },
  {
   "cell_type": "code",
   "execution_count": 16,
   "id": "5871b305",
   "metadata": {},
   "outputs": [
    {
     "ename": "TypeError",
     "evalue": "'int' object is not iterable",
     "output_type": "error",
     "traceback": [
      "\u001b[1;31m---------------------------------------------------------------------------\u001b[0m",
      "\u001b[1;31mTypeError\u001b[0m                                 Traceback (most recent call last)",
      "Cell \u001b[1;32mIn[16], line 1\u001b[0m\n\u001b[1;32m----> 1\u001b[0m \u001b[38;5;28;01mfor\u001b[39;00m i \u001b[38;5;129;01min\u001b[39;00m l:\n\u001b[0;32m      2\u001b[0m     \u001b[38;5;28mprint\u001b[39m(i)\n",
      "\u001b[1;31mTypeError\u001b[0m: 'int' object is not iterable"
     ]
    }
   ],
   "source": [
    "for i in l:\n",
    "    print(i)"
   ]
  },
  {
   "cell_type": "code",
   "execution_count": 19,
   "id": "7270ce45",
   "metadata": {},
   "outputs": [
    {
     "data": {
      "text/plain": [
       "[1, 2, 3, 4, 5, 6, 7, 8]"
      ]
     },
     "execution_count": 19,
     "metadata": {},
     "output_type": "execute_result"
    }
   ],
   "source": [
    "l"
   ]
  },
  {
   "cell_type": "code",
   "execution_count": 20,
   "id": "b297637c",
   "metadata": {},
   "outputs": [
    {
     "name": "stdout",
     "output_type": "stream",
     "text": [
      "1\n",
      "2\n",
      "3\n",
      "4\n",
      "5\n",
      "6\n",
      "7\n",
      "8\n"
     ]
    }
   ],
   "source": [
    "for i in l:\n",
    "    print(i)"
   ]
  },
  {
   "cell_type": "code",
   "execution_count": 26,
   "id": "3a79a812",
   "metadata": {},
   "outputs": [
    {
     "name": "stdout",
     "output_type": "stream",
     "text": [
      "1\n",
      "2\n",
      "3\n",
      "4\n",
      "5\n",
      "6\n",
      "7\n",
      "8\n"
     ]
    }
   ],
   "source": [
    "li=[]\n",
    "for i in l:\n",
    "    print(i)\n"
   ]
  },
  {
   "cell_type": "code",
   "execution_count": 28,
   "id": "cfa5f773",
   "metadata": {},
   "outputs": [
    {
     "name": "stdout",
     "output_type": "stream",
     "text": [
      "2\n",
      "3\n",
      "4\n",
      "5\n",
      "6\n",
      "7\n",
      "8\n",
      "9\n"
     ]
    }
   ],
   "source": [
    "li=[]\n",
    "for i in l:\n",
    "    \n",
    "    print(i+1)\n"
   ]
  },
  {
   "cell_type": "code",
   "execution_count": 29,
   "id": "d61e19ae",
   "metadata": {},
   "outputs": [
    {
     "name": "stdout",
     "output_type": "stream",
     "text": [
      "2\n",
      "3\n",
      "4\n",
      "5\n",
      "6\n",
      "7\n",
      "8\n",
      "9\n"
     ]
    }
   ],
   "source": [
    "li=[]\n",
    "for i in l:\n",
    "    li+=[i+1]\n",
    "    print(i+1)\n"
   ]
  },
  {
   "cell_type": "code",
   "execution_count": 30,
   "id": "5a927228",
   "metadata": {},
   "outputs": [
    {
     "data": {
      "text/plain": [
       "[2, 3, 4, 5, 6, 7, 8, 9]"
      ]
     },
     "execution_count": 30,
     "metadata": {},
     "output_type": "execute_result"
    }
   ],
   "source": [
    "li"
   ]
  },
  {
   "cell_type": "code",
   "execution_count": 37,
   "id": "672187a5",
   "metadata": {},
   "outputs": [
    {
     "name": "stdout",
     "output_type": "stream",
     "text": [
      "2\n",
      "3\n",
      "4\n",
      "5\n",
      "6\n",
      "7\n",
      "8\n",
      "9\n",
      "======================================\n",
      "List of Li\n"
     ]
    },
    {
     "data": {
      "text/plain": [
       "[2, 3, 4, 5, 6, 7, 8, 9]"
      ]
     },
     "execution_count": 37,
     "metadata": {},
     "output_type": "execute_result"
    }
   ],
   "source": [
    "li=[]\n",
    "for i in l:\n",
    "    li+=[i+1]\n",
    "    print(i+1)\n",
    "print(\"======================================\")   \n",
    "\n",
    "print(\"List of Li\") \n",
    "li \n"
   ]
  },
  {
   "cell_type": "code",
   "execution_count": 38,
   "id": "53014445",
   "metadata": {},
   "outputs": [
    {
     "name": "stdout",
     "output_type": "stream",
     "text": [
      "2\n",
      "3\n",
      "4\n",
      "5\n"
     ]
    }
   ],
   "source": [
    "for x in range(2, 6):\n",
    "  print(x)"
   ]
  },
  {
   "cell_type": "code",
   "execution_count": 39,
   "id": "dfa14bf9",
   "metadata": {},
   "outputs": [],
   "source": [
    "for x in [0, 1, 2]:\n",
    "  pass"
   ]
  },
  {
   "cell_type": "code",
   "execution_count": 41,
   "id": "2b1b2682",
   "metadata": {},
   "outputs": [
    {
     "name": "stdout",
     "output_type": "stream",
     "text": [
      "[1, 2, 3, 4, 5, 6, 7, 8]\n",
      "[2, 3, 4, 5, 6, 7, 8, 9]\n"
     ]
    }
   ],
   "source": [
    "print(l)\n",
    "print(li)"
   ]
  },
  {
   "cell_type": "code",
   "execution_count": 53,
   "id": "2b905dc1",
   "metadata": {},
   "outputs": [
    {
     "name": "stdout",
     "output_type": "stream",
     "text": [
      "======================================\n",
      "          Use of Append               \n",
      "======================================\n",
      "2\n",
      "3\n",
      "4\n",
      "5\n",
      "6\n",
      "7\n",
      "8\n",
      "9\n",
      "======================================\n",
      "List of Li\n",
      "List l =    [1, 2, 3, 4, 5, 6, 7, 8]\n",
      "List li1 =  [2, 3, 4, 5, 6, 7, 8, 9]\n"
     ]
    }
   ],
   "source": [
    "\n",
    "print(\"======================================\")\n",
    "print(\"          Use of Append               \")\n",
    "print(\"======================================\") \n",
    "li1=[]\n",
    "for i in l:\n",
    "    li1.append(i+1)\n",
    "    print(i+1)\n",
    "print(\"======================================\")   \n",
    "\n",
    "print(\"List of Li\") \n",
    "print(\"List l =   \",l)\n",
    "print(\"List li1 = \",li1)"
   ]
  },
  {
   "cell_type": "code",
   "execution_count": 55,
   "id": "3bbd2b57",
   "metadata": {},
   "outputs": [],
   "source": [
    "l3=[\"prashant\",\"kumar\",\"pwskills\",\"course\"]"
   ]
  },
  {
   "cell_type": "code",
   "execution_count": 56,
   "id": "0ccc9782",
   "metadata": {},
   "outputs": [
    {
     "name": "stdout",
     "output_type": "stream",
     "text": [
      "prashant\n",
      "kumar\n",
      "pwskills\n",
      "course\n"
     ]
    }
   ],
   "source": [
    "l4=[]\n",
    "for i in l3:\n",
    "    print(i)"
   ]
  },
  {
   "cell_type": "code",
   "execution_count": 68,
   "id": "9bad344c",
   "metadata": {},
   "outputs": [
    {
     "name": "stdout",
     "output_type": "stream",
     "text": [
      "['PRASHANT', 'KUMAR', 'PWSKILLS', 'COURSE']\n"
     ]
    }
   ],
   "source": [
    "l4=[]\n",
    "for i in l3:\n",
    "    l4.append(i.upper())\n",
    "print(l4)"
   ]
  },
  {
   "cell_type": "code",
   "execution_count": 67,
   "id": "dc8c76e1",
   "metadata": {},
   "outputs": [
    {
     "name": "stdout",
     "output_type": "stream",
     "text": [
      "['P', 'R', 'A', 'S', 'H', 'A', 'N', 'T', 'K', 'U', 'M', 'A', 'R', 'P', 'W', 'S', 'K', 'I', 'L', 'L', 'S', 'C', 'O', 'U', 'R', 'S', 'E']\n"
     ]
    }
   ],
   "source": [
    "l4=[]\n",
    "for i in l3:\n",
    "    l4+=i.upper()\n",
    "print(l4)"
   ]
  },
  {
   "cell_type": "code",
   "execution_count": 69,
   "id": "27385449",
   "metadata": {},
   "outputs": [
    {
     "data": {
      "text/plain": [
       "['PRASHANT', 'KUMAR', 'PWSKILLS', 'COURSE']"
      ]
     },
     "execution_count": 69,
     "metadata": {},
     "output_type": "execute_result"
    }
   ],
   "source": [
    "l4"
   ]
  },
  {
   "cell_type": "code",
   "execution_count": 70,
   "id": "d2befe9a",
   "metadata": {},
   "outputs": [
    {
     "name": "stdout",
     "output_type": "stream",
     "text": [
      "prashant\n",
      "kumar\n",
      "pwskills\n",
      "course\n",
      "['PRASHANT', 'KUMAR', 'PWSKILLS', 'COURSE']\n"
     ]
    }
   ],
   "source": [
    "l4=[]\n",
    "for i in l3:\n",
    "    print(i)\n",
    "    l4.append(i.upper())\n",
    "print(l4)"
   ]
  },
  {
   "cell_type": "code",
   "execution_count": 71,
   "id": "e901bdf3",
   "metadata": {},
   "outputs": [],
   "source": [
    "l5=[1,2,3,4,5,\"prashant\",78.4 ,\"abd\"]"
   ]
  },
  {
   "cell_type": "code",
   "execution_count": 72,
   "id": "21347aaa",
   "metadata": {},
   "outputs": [
    {
     "name": "stdout",
     "output_type": "stream",
     "text": [
      "1\n",
      "2\n",
      "3\n",
      "4\n",
      "5\n",
      "prashant\n",
      "78.4\n",
      "abd\n"
     ]
    }
   ],
   "source": [
    "for i in l5:\n",
    "    print(i)"
   ]
  },
  {
   "cell_type": "code",
   "execution_count": 91,
   "id": "fecb1936",
   "metadata": {},
   "outputs": [
    {
     "name": "stdout",
     "output_type": "stream",
     "text": [
      "1\n",
      "2\n",
      "3\n",
      "4\n",
      "5\n",
      "prashant\n",
      "78.4\n",
      "abd\n",
      "[1, 2, 3, 4, 5, 78.4]\n",
      "['prashant', 'abd']\n"
     ]
    }
   ],
   "source": [
    "l5=[1,2,3,4,5,\"prashant\",78.4 ,\"abd\"]\n",
    "l6=[]\n",
    "l7=[]\n",
    "for i in l5:\n",
    "    print(i)\n",
    "    if(type(i)==int or type(i)==float):\n",
    "        l6.append(i)\n",
    "    if(type(i)==str):\n",
    "        l7.append(i)    \n",
    "print(l6)\n",
    "print(l7)"
   ]
  },
  {
   "cell_type": "code",
   "execution_count": 100,
   "id": "07ef39c5",
   "metadata": {},
   "outputs": [
    {
     "name": "stdout",
     "output_type": "stream",
     "text": [
      "[1, 2, 3, 4, 5, 'prashant', 78.4, 'abd']\n",
      "[]\n",
      "['prashant', 'abd']\n"
     ]
    }
   ],
   "source": [
    "#  We use | symbol in array but it gives empty \n",
    "#     becauseIn Python, the logical OR operator is represented by or, not |. \n",
    "#     The | symbol is a bitwise OR operator, not a logical operator.\n",
    "#     It performs bitwise operations on integers but\n",
    "#     does not work as a logical operator on boolean values or conditions.\n",
    "\n",
    "l5=[1,2,3,4,5,\"prashant\",78.4 ,\"abd\"]\n",
    "l6=[]\n",
    "l7=[]\n",
    "print(l5)\n",
    "for i in l5:\n",
    "\n",
    "    if(type(i)==int | type(i)==float):\n",
    "        l6.append(i)\n",
    "    if(type(i)==str):\n",
    "        l7.append(i)    \n",
    "print(l6)\n",
    "print(l7)"
   ]
  },
  {
   "cell_type": "code",
   "execution_count": 106,
   "id": "ddb68e1e",
   "metadata": {},
   "outputs": [
    {
     "name": "stdout",
     "output_type": "stream",
     "text": [
      "[1, 2, 3, 4, 5, 'prashant', 78.4, 'abd', True]\n",
      "\n",
      "Numbers  [1, 2, 3, 4, 5, 78.4]\n",
      "String ['prashant', 'abd', True]\n"
     ]
    }
   ],
   "source": [
    "l5=[1,2,3,4,5,\"prashant\",78.4 ,\"abd\",True ]\n",
    "l6=[]\n",
    "l7=[]\n",
    "print(l5)\n",
    "print()\n",
    "for i in l5:\n",
    "\n",
    "    if(type(i)==int or type(i)==float):\n",
    "        l6.append(i)\n",
    "    else:\n",
    "        l7.append(i)    \n",
    "print(\"Numbers \",l6)\n",
    "print(\"String\",l7)"
   ]
  },
  {
   "cell_type": "code",
   "execution_count": 108,
   "id": "ad1bdc99",
   "metadata": {},
   "outputs": [
    {
     "name": "stdout",
     "output_type": "stream",
     "text": [
      "[1, 2, 3, 4, 5, 'prashant', 78.4, 'abd', True]\n",
      "[1, 2, 3, 4, 5, 78.4]\n",
      "['prashant', 'abd']\n"
     ]
    }
   ],
   "source": [
    "\n",
    "l5=[1,2,3,4,5,\"prashant\",78.4 ,\"abd\",True]\n",
    "l6=[]\n",
    "l7=[]\n",
    "print(l5)\n",
    "for i in l5:\n",
    "\n",
    "    if(type(i)==int or type(i)==float):\n",
    "        l6.append(i)\n",
    "    elif(type(i)==str):\n",
    "        l7.append(i)    \n",
    "print(l6)\n",
    "\n",
    "\n",
    "\n",
    "print(l7)"
   ]
  },
  {
   "cell_type": "code",
   "execution_count": null,
   "id": "22a59cc1",
   "metadata": {},
   "outputs": [],
   "source": [
    "\n",
    "# [] = it is list \n",
    "# () =  tuple\n",
    "# {}= with elements set\n",
    "# {} = with key and value pair dict"
   ]
  }
 ],
 "metadata": {
  "kernelspec": {
   "display_name": "Python 3 (ipykernel)",
   "language": "python",
   "name": "python3"
  },
  "language_info": {
   "codemirror_mode": {
    "name": "ipython",
    "version": 3
   },
   "file_extension": ".py",
   "mimetype": "text/x-python",
   "name": "python",
   "nbconvert_exporter": "python",
   "pygments_lexer": "ipython3",
   "version": "3.10.9"
  }
 },
 "nbformat": 4,
 "nbformat_minor": 5
}
