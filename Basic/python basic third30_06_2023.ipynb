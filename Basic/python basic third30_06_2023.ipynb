{
 "cells": [
  {
   "cell_type": "code",
   "execution_count": 8,
   "id": "21650043-5d2d-45f9-b44e-159456169ca7",
   "metadata": {},
   "outputs": [],
   "source": [
    "l=[1, 'prashant', 12, True, 23.5, (2+3j), 'jay']"
   ]
  },
  {
   "cell_type": "code",
   "execution_count": 2,
   "id": "278a333d-1f16-4895-a195-6997f7f743b9",
   "metadata": {},
   "outputs": [
    {
     "ename": "AttributeError",
     "evalue": "'str' object has no attribute 'append'",
     "output_type": "error",
     "traceback": [
      "\u001b[0;31m---------------------------------------------------------------------------\u001b[0m",
      "\u001b[0;31mAttributeError\u001b[0m                            Traceback (most recent call last)",
      "Cell \u001b[0;32mIn[2], line 1\u001b[0m\n\u001b[0;32m----> 1\u001b[0m \u001b[43ml\u001b[49m\u001b[38;5;241;43m.\u001b[39;49m\u001b[43mappend\u001b[49m(\u001b[38;5;124m\"\u001b[39m\u001b[38;5;124mjadhav\u001b[39m\u001b[38;5;124m\"\u001b[39m)\n",
      "\u001b[0;31mAttributeError\u001b[0m: 'str' object has no attribute 'append'"
     ]
    }
   ],
   "source": [
    "l.append(\"jadhav\")"
   ]
  },
  {
   "cell_type": "code",
   "execution_count": 18,
   "id": "1b227e23-fefd-48f9-a63f-13ab87500b6e",
   "metadata": {},
   "outputs": [],
   "source": [
    "l1=(\"jadhav\")"
   ]
  },
  {
   "cell_type": "code",
   "execution_count": 19,
   "id": "e03aaeec-9c7d-424a-8172-099a0b609c65",
   "metadata": {},
   "outputs": [],
   "source": [
    "l.extend(l1)"
   ]
  },
  {
   "cell_type": "code",
   "execution_count": 20,
   "id": "7c433d32-4dac-475a-a921-641cddecbb8a",
   "metadata": {},
   "outputs": [
    {
     "data": {
      "text/plain": [
       "[1,\n",
       " 'prashant',\n",
       " 12,\n",
       " True,\n",
       " 23.5,\n",
       " (2+3j),\n",
       " 'jay',\n",
       " 'Prashant',\n",
       " 'jadhav',\n",
       " 'j',\n",
       " 'a',\n",
       " 'd',\n",
       " 'h',\n",
       " 'a',\n",
       " 'v']"
      ]
     },
     "execution_count": 20,
     "metadata": {},
     "output_type": "execute_result"
    }
   ],
   "source": [
    "l"
   ]
  },
  {
   "cell_type": "code",
   "execution_count": 21,
   "id": "e9fdea0e-ca95-47a8-8d9b-79a4f27e88f0",
   "metadata": {},
   "outputs": [],
   "source": [
    "l=[1, 'prashant', 12, True, 23.5, (2+3j), 'jay']"
   ]
  },
  {
   "cell_type": "code",
   "execution_count": 22,
   "id": "9143d692-f838-4b22-8760-d266090c355b",
   "metadata": {},
   "outputs": [],
   "source": [
    "l1=(\"sushant\",\"jadhav\")"
   ]
  },
  {
   "cell_type": "code",
   "execution_count": 23,
   "id": "305d4eaa-f043-4738-9565-689974c5cf02",
   "metadata": {},
   "outputs": [],
   "source": [
    "l.extend(l1)"
   ]
  },
  {
   "cell_type": "code",
   "execution_count": 24,
   "id": "df72b634-79d9-4491-92d2-a6facd553b2a",
   "metadata": {},
   "outputs": [
    {
     "data": {
      "text/plain": [
       "[1, 'prashant', 12, True, 23.5, (2+3j), 'jay', 'sushant', 'jadhav']"
      ]
     },
     "execution_count": 24,
     "metadata": {},
     "output_type": "execute_result"
    }
   ],
   "source": [
    "l"
   ]
  },
  {
   "cell_type": "code",
   "execution_count": 28,
   "id": "d842a6fd-29fa-41df-80ee-adaf3878ea9f",
   "metadata": {},
   "outputs": [],
   "source": [
    "l.insert(1,\"mangoli\")"
   ]
  },
  {
   "cell_type": "code",
   "execution_count": 29,
   "id": "3d451d92-fe32-47da-9bea-c8cc623f1ff7",
   "metadata": {},
   "outputs": [
    {
     "data": {
      "text/plain": [
       "[1, 'mangoli', 'prashant', 12, True, 23.5, (2+3j), 'jay', 'sushant', 'jadhav']"
      ]
     },
     "execution_count": 29,
     "metadata": {},
     "output_type": "execute_result"
    }
   ],
   "source": [
    "l"
   ]
  },
  {
   "cell_type": "code",
   "execution_count": 30,
   "id": "9a865c6b-feb3-4bbb-95f6-a4185b9f9970",
   "metadata": {},
   "outputs": [],
   "source": [
    "l.insert(8,123784)"
   ]
  },
  {
   "cell_type": "code",
   "execution_count": 31,
   "id": "a7958200-8103-4d2a-a7f4-bd977b9f542a",
   "metadata": {},
   "outputs": [
    {
     "data": {
      "text/plain": [
       "[1,\n",
       " 'mangoli',\n",
       " 'prashant',\n",
       " 12,\n",
       " True,\n",
       " 23.5,\n",
       " (2+3j),\n",
       " 'jay',\n",
       " 123784,\n",
       " 'sushant',\n",
       " 'jadhav']"
      ]
     },
     "execution_count": 31,
     "metadata": {},
     "output_type": "execute_result"
    }
   ],
   "source": [
    "l\n"
   ]
  },
  {
   "cell_type": "code",
   "execution_count": 32,
   "id": "97e06bfb-ef3e-4184-bd1b-3966df69756f",
   "metadata": {},
   "outputs": [
    {
     "data": {
      "text/plain": [
       "[1,\n",
       " 'mangoli',\n",
       " 'prashant',\n",
       " 12,\n",
       " True,\n",
       " 23.5,\n",
       " (2+3j),\n",
       " 'jay',\n",
       " 123784,\n",
       " 'sushant',\n",
       " 'jadhav']"
      ]
     },
     "execution_count": 32,
     "metadata": {},
     "output_type": "execute_result"
    }
   ],
   "source": [
    "l"
   ]
  },
  {
   "cell_type": "code",
   "execution_count": 33,
   "id": "dac27e9d-e793-4610-b3f5-db9371c0241e",
   "metadata": {},
   "outputs": [],
   "source": [
    "l.insert(-0,\"p\")"
   ]
  },
  {
   "cell_type": "code",
   "execution_count": 37,
   "id": "ba307219-9ffe-43ac-8016-230334446959",
   "metadata": {},
   "outputs": [],
   "source": [
    "s=(\"sudh\")"
   ]
  },
  {
   "cell_type": "code",
   "execution_count": 35,
   "id": "e133807f-fdea-4d1e-801f-f0c9b8d504ed",
   "metadata": {},
   "outputs": [],
   "source": [
    "l.insert(-1,9)"
   ]
  },
  {
   "cell_type": "code",
   "execution_count": 36,
   "id": "0eb96e8d-b094-4f53-8a6f-3f29cd17e4c3",
   "metadata": {},
   "outputs": [
    {
     "data": {
      "text/plain": [
       "['p',\n",
       " 1,\n",
       " 'mangoli',\n",
       " 'prashant',\n",
       " 12,\n",
       " True,\n",
       " 23.5,\n",
       " (2+3j),\n",
       " 'jay',\n",
       " 123784,\n",
       " 'sushant',\n",
       " 9,\n",
       " 'jadhav']"
      ]
     },
     "execution_count": 36,
     "metadata": {},
     "output_type": "execute_result"
    }
   ],
   "source": [
    "l"
   ]
  },
  {
   "cell_type": "code",
   "execution_count": 38,
   "id": "ba91ecb6-6bb2-41db-a4e5-56c81e1f3050",
   "metadata": {},
   "outputs": [],
   "source": [
    "l.insert(2, s)"
   ]
  },
  {
   "cell_type": "code",
   "execution_count": 39,
   "id": "329f2cf9-26a9-401a-9bde-4f767ce005c2",
   "metadata": {},
   "outputs": [
    {
     "data": {
      "text/plain": [
       "['p',\n",
       " 1,\n",
       " 'sudh',\n",
       " 'mangoli',\n",
       " 'prashant',\n",
       " 12,\n",
       " True,\n",
       " 23.5,\n",
       " (2+3j),\n",
       " 'jay',\n",
       " 123784,\n",
       " 'sushant',\n",
       " 9,\n",
       " 'jadhav']"
      ]
     },
     "execution_count": 39,
     "metadata": {},
     "output_type": "execute_result"
    }
   ],
   "source": [
    "l"
   ]
  },
  {
   "cell_type": "code",
   "execution_count": 40,
   "id": "d63bfaed-db0f-4613-8ed9-e8623566c8fe",
   "metadata": {},
   "outputs": [],
   "source": [
    "l.extend(\"sakshi\")"
   ]
  },
  {
   "cell_type": "code",
   "execution_count": 41,
   "id": "44c4299a-2a25-40eb-8ab4-07ddf2236a2e",
   "metadata": {},
   "outputs": [
    {
     "data": {
      "text/plain": [
       "['p',\n",
       " 1,\n",
       " 'sudh',\n",
       " 'mangoli',\n",
       " 'prashant',\n",
       " 12,\n",
       " True,\n",
       " 23.5,\n",
       " (2+3j),\n",
       " 'jay',\n",
       " 123784,\n",
       " 'sushant',\n",
       " 9,\n",
       " 'jadhav',\n",
       " 's',\n",
       " 'a',\n",
       " 'k',\n",
       " 's',\n",
       " 'h',\n",
       " 'i']"
      ]
     },
     "execution_count": 41,
     "metadata": {},
     "output_type": "execute_result"
    }
   ],
   "source": [
    "l"
   ]
  },
  {
   "cell_type": "code",
   "execution_count": 42,
   "id": "b74f78f5-7041-4dd8-a5ab-fcdd9853cd13",
   "metadata": {},
   "outputs": [],
   "source": [
    "l.append(s)"
   ]
  },
  {
   "cell_type": "code",
   "execution_count": 43,
   "id": "8a98f291-0666-4af6-9707-3c599e30398d",
   "metadata": {},
   "outputs": [
    {
     "data": {
      "text/plain": [
       "['p',\n",
       " 1,\n",
       " 'sudh',\n",
       " 'mangoli',\n",
       " 'prashant',\n",
       " 12,\n",
       " True,\n",
       " 23.5,\n",
       " (2+3j),\n",
       " 'jay',\n",
       " 123784,\n",
       " 'sushant',\n",
       " 9,\n",
       " 'jadhav',\n",
       " 's',\n",
       " 'a',\n",
       " 'k',\n",
       " 's',\n",
       " 'h',\n",
       " 'i',\n",
       " 'sudh']"
      ]
     },
     "execution_count": 43,
     "metadata": {},
     "output_type": "execute_result"
    }
   ],
   "source": [
    "l"
   ]
  },
  {
   "cell_type": "code",
   "execution_count": 44,
   "id": "b744d055-9607-4469-b0cd-0e55c35e3d08",
   "metadata": {},
   "outputs": [],
   "source": [
    "l2=[2,3]"
   ]
  },
  {
   "cell_type": "code",
   "execution_count": 45,
   "id": "f521e025-ff7d-42bd-9f02-9dce9c52447f",
   "metadata": {},
   "outputs": [
    {
     "data": {
      "text/plain": [
       "['p',\n",
       " 1,\n",
       " 'sudh',\n",
       " 'mangoli',\n",
       " 'prashant',\n",
       " 12,\n",
       " True,\n",
       " 23.5,\n",
       " (2+3j),\n",
       " 'jay',\n",
       " 123784,\n",
       " 'sushant',\n",
       " 9,\n",
       " 'jadhav',\n",
       " 's',\n",
       " 'a',\n",
       " 'k',\n",
       " 's',\n",
       " 'h',\n",
       " 'i',\n",
       " 'sudh',\n",
       " 2,\n",
       " 3]"
      ]
     },
     "execution_count": 45,
     "metadata": {},
     "output_type": "execute_result"
    }
   ],
   "source": [
    "l+l2"
   ]
  },
  {
   "cell_type": "code",
   "execution_count": 46,
   "id": "7104cdf2-3df3-41b7-895c-b3068cca6bd1",
   "metadata": {},
   "outputs": [
    {
     "data": {
      "text/plain": [
       "['p',\n",
       " 1,\n",
       " 'sudh',\n",
       " 'mangoli',\n",
       " 'prashant',\n",
       " 12,\n",
       " True,\n",
       " 23.5,\n",
       " (2+3j),\n",
       " 'jay',\n",
       " 123784,\n",
       " 'sushant',\n",
       " 9,\n",
       " 'jadhav',\n",
       " 's',\n",
       " 'a',\n",
       " 'k',\n",
       " 's',\n",
       " 'h',\n",
       " 'i',\n",
       " 'sudh']"
      ]
     },
     "execution_count": 46,
     "metadata": {},
     "output_type": "execute_result"
    }
   ],
   "source": [
    "l"
   ]
  },
  {
   "cell_type": "code",
   "execution_count": 47,
   "id": "5c3db4ff-00f1-47b6-8660-efc8e7833cba",
   "metadata": {},
   "outputs": [
    {
     "data": {
      "text/plain": [
       "['p', 1, 'sudh', 'mangoli', 'prashant']"
      ]
     },
     "execution_count": 47,
     "metadata": {},
     "output_type": "execute_result"
    }
   ],
   "source": [
    "l[0:5]"
   ]
  },
  {
   "cell_type": "code",
   "execution_count": 48,
   "id": "c718ae39-6657-4167-b97f-c00ea885b113",
   "metadata": {},
   "outputs": [
    {
     "ename": "AttributeError",
     "evalue": "'list' object has no attribute 'len'",
     "output_type": "error",
     "traceback": [
      "\u001b[0;31m---------------------------------------------------------------------------\u001b[0m",
      "\u001b[0;31mAttributeError\u001b[0m                            Traceback (most recent call last)",
      "Cell \u001b[0;32mIn[48], line 1\u001b[0m\n\u001b[0;32m----> 1\u001b[0m \u001b[43ml\u001b[49m\u001b[38;5;241;43m.\u001b[39;49m\u001b[43mlen\u001b[49m()\n",
      "\u001b[0;31mAttributeError\u001b[0m: 'list' object has no attribute 'len'"
     ]
    }
   ],
   "source": [
    "l.len()"
   ]
  },
  {
   "cell_type": "code",
   "execution_count": 49,
   "id": "7fcb614a-22d9-4f31-9d5a-072417a2a794",
   "metadata": {},
   "outputs": [
    {
     "data": {
      "text/plain": [
       "21"
      ]
     },
     "execution_count": 49,
     "metadata": {},
     "output_type": "execute_result"
    }
   ],
   "source": [
    "len(l)"
   ]
  },
  {
   "cell_type": "code",
   "execution_count": 55,
   "id": "946a859f-106e-4ecf-a4fc-6ab12cfcf304",
   "metadata": {},
   "outputs": [
    {
     "data": {
      "text/plain": [
       "'s'"
      ]
     },
     "execution_count": 55,
     "metadata": {},
     "output_type": "execute_result"
    }
   ],
   "source": [
    "l.pop(14)"
   ]
  },
  {
   "cell_type": "code",
   "execution_count": 57,
   "id": "a08aeda6-3efa-4125-9be6-9831246830cd",
   "metadata": {},
   "outputs": [
    {
     "data": {
      "text/plain": [
       "'h'"
      ]
     },
     "execution_count": 57,
     "metadata": {},
     "output_type": "execute_result"
    }
   ],
   "source": [
    "l.pop(14)"
   ]
  },
  {
   "cell_type": "code",
   "execution_count": 58,
   "id": "36667149-1d7d-4788-8124-aff41c7cde45",
   "metadata": {},
   "outputs": [
    {
     "data": {
      "text/plain": [
       "'i'"
      ]
     },
     "execution_count": 58,
     "metadata": {},
     "output_type": "execute_result"
    }
   ],
   "source": [
    "l.pop(14)"
   ]
  },
  {
   "cell_type": "code",
   "execution_count": 59,
   "id": "e2d56c09-dd4b-4751-9c60-4d8b7a405ca1",
   "metadata": {},
   "outputs": [
    {
     "data": {
      "text/plain": [
       "'sudh'"
      ]
     },
     "execution_count": 59,
     "metadata": {},
     "output_type": "execute_result"
    }
   ],
   "source": [
    "l.pop(14)"
   ]
  },
  {
   "cell_type": "code",
   "execution_count": 60,
   "id": "0fa8300e-536a-4aac-8401-593eacafcb4a",
   "metadata": {},
   "outputs": [
    {
     "data": {
      "text/plain": [
       "['p',\n",
       " 1,\n",
       " 'sudh',\n",
       " 'mangoli',\n",
       " 'prashant',\n",
       " 12,\n",
       " True,\n",
       " 23.5,\n",
       " (2+3j),\n",
       " 'jay',\n",
       " 123784,\n",
       " 'sushant',\n",
       " 9,\n",
       " 'jadhav']"
      ]
     },
     "execution_count": 60,
     "metadata": {},
     "output_type": "execute_result"
    }
   ],
   "source": [
    "l"
   ]
  },
  {
   "cell_type": "code",
   "execution_count": 61,
   "id": "22e4ca10-09f5-4794-b1b8-5e0283f78ab0",
   "metadata": {},
   "outputs": [
    {
     "data": {
      "text/plain": [
       "9"
      ]
     },
     "execution_count": 61,
     "metadata": {},
     "output_type": "execute_result"
    }
   ],
   "source": [
    "l.pop(-2)"
   ]
  },
  {
   "cell_type": "code",
   "execution_count": 62,
   "id": "285cfa60-4ae9-4b0c-beac-4892faca838c",
   "metadata": {},
   "outputs": [
    {
     "data": {
      "text/plain": [
       "['p',\n",
       " 1,\n",
       " 'sudh',\n",
       " 'mangoli',\n",
       " 'prashant',\n",
       " 12,\n",
       " True,\n",
       " 23.5,\n",
       " (2+3j),\n",
       " 'jay',\n",
       " 123784,\n",
       " 'sushant',\n",
       " 'jadhav']"
      ]
     },
     "execution_count": 62,
     "metadata": {},
     "output_type": "execute_result"
    }
   ],
   "source": [
    "l"
   ]
  },
  {
   "cell_type": "code",
   "execution_count": 63,
   "id": "6b4b3340-220d-475d-b6b2-4a4456dcc12b",
   "metadata": {},
   "outputs": [],
   "source": [
    "l.remove(\"sudh\")"
   ]
  },
  {
   "cell_type": "code",
   "execution_count": 64,
   "id": "fd370f29-75f0-453f-8b65-8ebc291c9d0e",
   "metadata": {},
   "outputs": [
    {
     "data": {
      "text/plain": [
       "['p',\n",
       " 1,\n",
       " 'mangoli',\n",
       " 'prashant',\n",
       " 12,\n",
       " True,\n",
       " 23.5,\n",
       " (2+3j),\n",
       " 'jay',\n",
       " 123784,\n",
       " 'sushant',\n",
       " 'jadhav']"
      ]
     },
     "execution_count": 64,
     "metadata": {},
     "output_type": "execute_result"
    }
   ],
   "source": [
    "l"
   ]
  },
  {
   "cell_type": "code",
   "execution_count": 66,
   "id": "8b8d79a2-2128-4ad0-b340-af0d7c88d52c",
   "metadata": {},
   "outputs": [],
   "source": [
    "l.remove((2+3j))"
   ]
  },
  {
   "cell_type": "code",
   "execution_count": 67,
   "id": "6d794819-9086-474a-b7e5-9b30545af548",
   "metadata": {},
   "outputs": [
    {
     "data": {
      "text/plain": [
       "['p',\n",
       " 1,\n",
       " 'mangoli',\n",
       " 'prashant',\n",
       " 12,\n",
       " True,\n",
       " 23.5,\n",
       " 'jay',\n",
       " 123784,\n",
       " 'sushant',\n",
       " 'jadhav']"
      ]
     },
     "execution_count": 67,
     "metadata": {},
     "output_type": "execute_result"
    }
   ],
   "source": [
    "l"
   ]
  },
  {
   "cell_type": "code",
   "execution_count": 68,
   "id": "546a0643-49fb-4e5c-b0b3-c6f691de13aa",
   "metadata": {},
   "outputs": [],
   "source": [
    "l3=[1.2 ,3 ,5,6]"
   ]
  },
  {
   "cell_type": "code",
   "execution_count": 69,
   "id": "baad4bab-ade1-4ace-8a2c-778824d53010",
   "metadata": {},
   "outputs": [],
   "source": [
    "l.append(l3)"
   ]
  },
  {
   "cell_type": "code",
   "execution_count": 70,
   "id": "0c37db9f-ab45-4179-b130-02cf2a1a124c",
   "metadata": {},
   "outputs": [
    {
     "data": {
      "text/plain": [
       "['p',\n",
       " 1,\n",
       " 'mangoli',\n",
       " 'prashant',\n",
       " 12,\n",
       " True,\n",
       " 23.5,\n",
       " 'jay',\n",
       " 123784,\n",
       " 'sushant',\n",
       " 'jadhav',\n",
       " [1.2, 3, 5, 6]]"
      ]
     },
     "execution_count": 70,
     "metadata": {},
     "output_type": "execute_result"
    }
   ],
   "source": [
    "l"
   ]
  },
  {
   "cell_type": "code",
   "execution_count": 71,
   "id": "4bfd6ed2-1edf-4af3-836e-5e93087c4f46",
   "metadata": {},
   "outputs": [],
   "source": [
    "l[-1].remove(1.2)"
   ]
  },
  {
   "cell_type": "code",
   "execution_count": 72,
   "id": "76edc598-2e95-496c-9190-4dee4e889ae6",
   "metadata": {},
   "outputs": [
    {
     "data": {
      "text/plain": [
       "['p',\n",
       " 1,\n",
       " 'mangoli',\n",
       " 'prashant',\n",
       " 12,\n",
       " True,\n",
       " 23.5,\n",
       " 'jay',\n",
       " 123784,\n",
       " 'sushant',\n",
       " 'jadhav',\n",
       " [3, 5, 6]]"
      ]
     },
     "execution_count": 72,
     "metadata": {},
     "output_type": "execute_result"
    }
   ],
   "source": [
    "l"
   ]
  },
  {
   "cell_type": "code",
   "execution_count": 73,
   "id": "c1f19a5e-d057-4682-9e5f-f7b3911dbaf9",
   "metadata": {},
   "outputs": [],
   "source": [
    "l.append(23.5)"
   ]
  },
  {
   "cell_type": "code",
   "execution_count": 74,
   "id": "1632a332-2807-405b-929c-d21fbf6591d2",
   "metadata": {},
   "outputs": [],
   "source": [
    "l.remove(23.5)"
   ]
  },
  {
   "cell_type": "code",
   "execution_count": 75,
   "id": "ff319c92-8434-47db-9903-a9e241bb1baf",
   "metadata": {},
   "outputs": [
    {
     "data": {
      "text/plain": [
       "['p',\n",
       " 1,\n",
       " 'mangoli',\n",
       " 'prashant',\n",
       " 12,\n",
       " True,\n",
       " 'jay',\n",
       " 123784,\n",
       " 'sushant',\n",
       " 'jadhav',\n",
       " [3, 5, 6],\n",
       " 23.5]"
      ]
     },
     "execution_count": 75,
     "metadata": {},
     "output_type": "execute_result"
    }
   ],
   "source": [
    "l"
   ]
  },
  {
   "cell_type": "code",
   "execution_count": 76,
   "id": "4fcbdd5c-2b0b-452f-8e32-fac7573352a3",
   "metadata": {},
   "outputs": [],
   "source": [
    "l.reverse()"
   ]
  },
  {
   "cell_type": "code",
   "execution_count": 77,
   "id": "9fd116d6-80d0-4e13-b114-c0808babfc39",
   "metadata": {},
   "outputs": [
    {
     "data": {
      "text/plain": [
       "[23.5,\n",
       " [3, 5, 6],\n",
       " 'jadhav',\n",
       " 'sushant',\n",
       " 123784,\n",
       " 'jay',\n",
       " True,\n",
       " 12,\n",
       " 'prashant',\n",
       " 'mangoli',\n",
       " 1,\n",
       " 'p']"
      ]
     },
     "execution_count": 77,
     "metadata": {},
     "output_type": "execute_result"
    }
   ],
   "source": [
    "l"
   ]
  },
  {
   "cell_type": "code",
   "execution_count": 78,
   "id": "680feaa9-8c88-4c98-9f06-4db593c13f5d",
   "metadata": {},
   "outputs": [],
   "source": [
    "l=l[::-1]"
   ]
  },
  {
   "cell_type": "code",
   "execution_count": 79,
   "id": "49245dce-bffc-4a34-9144-db39948180f2",
   "metadata": {},
   "outputs": [
    {
     "data": {
      "text/plain": [
       "['p',\n",
       " 1,\n",
       " 'mangoli',\n",
       " 'prashant',\n",
       " 12,\n",
       " True,\n",
       " 'jay',\n",
       " 123784,\n",
       " 'sushant',\n",
       " 'jadhav',\n",
       " [3, 5, 6],\n",
       " 23.5]"
      ]
     },
     "execution_count": 79,
     "metadata": {},
     "output_type": "execute_result"
    }
   ],
   "source": [
    "l"
   ]
  },
  {
   "cell_type": "raw",
   "id": "ebfb4bb8-2583-44bf-80e4-45f77581bc60",
   "metadata": {},
   "source": [
    "l.reverse()"
   ]
  },
  {
   "cell_type": "code",
   "execution_count": 80,
   "id": "9c379509-7035-4872-b8df-f0b64a4f7efc",
   "metadata": {},
   "outputs": [
    {
     "data": {
      "text/plain": [
       "['p',\n",
       " 1,\n",
       " 'mangoli',\n",
       " 'prashant',\n",
       " 12,\n",
       " True,\n",
       " 'jay',\n",
       " 123784,\n",
       " 'sushant',\n",
       " 'jadhav',\n",
       " [3, 5, 6],\n",
       " 23.5]"
      ]
     },
     "execution_count": 80,
     "metadata": {},
     "output_type": "execute_result"
    }
   ],
   "source": [
    "l"
   ]
  },
  {
   "cell_type": "code",
   "execution_count": 81,
   "id": "eec0b989-13ca-4e9d-8380-38ea6976349e",
   "metadata": {},
   "outputs": [],
   "source": [
    "l=l[::-1]"
   ]
  },
  {
   "cell_type": "code",
   "execution_count": 82,
   "id": "16ab85c0-7a35-46bb-987c-96573174f13a",
   "metadata": {},
   "outputs": [
    {
     "data": {
      "text/plain": [
       "[23.5,\n",
       " [3, 5, 6],\n",
       " 'jadhav',\n",
       " 'sushant',\n",
       " 123784,\n",
       " 'jay',\n",
       " True,\n",
       " 12,\n",
       " 'prashant',\n",
       " 'mangoli',\n",
       " 1,\n",
       " 'p']"
      ]
     },
     "execution_count": 82,
     "metadata": {},
     "output_type": "execute_result"
    }
   ],
   "source": [
    "l"
   ]
  },
  {
   "cell_type": "code",
   "execution_count": 84,
   "id": "f929af2d-b420-483b-b57a-0c9020103c0f",
   "metadata": {},
   "outputs": [],
   "source": [
    "\n",
    "l3=[1,2,3,4,5,9,2]"
   ]
  },
  {
   "cell_type": "code",
   "execution_count": 86,
   "id": "16e98db5-0cd3-45db-93c3-173b9a9a3e35",
   "metadata": {},
   "outputs": [],
   "source": [
    "l3.sort()"
   ]
  },
  {
   "cell_type": "code",
   "execution_count": 87,
   "id": "6dd30f7e-9591-42b1-9363-8147546e0de4",
   "metadata": {},
   "outputs": [
    {
     "data": {
      "text/plain": [
       "[1, 2, 2, 3, 4, 5, 9]"
      ]
     },
     "execution_count": 87,
     "metadata": {},
     "output_type": "execute_result"
    }
   ],
   "source": [
    "l3"
   ]
  },
  {
   "cell_type": "code",
   "execution_count": 88,
   "id": "d09663e5-f927-476c-b927-2857c0648f76",
   "metadata": {},
   "outputs": [],
   "source": [
    "l4=[\"ad\",\"we\",\"hiu\",\"oj\",\"k\"]"
   ]
  },
  {
   "cell_type": "code",
   "execution_count": 89,
   "id": "e25fe516-ca3f-48a5-b806-bebcaa1e0b24",
   "metadata": {},
   "outputs": [],
   "source": [
    "l4.sort()"
   ]
  },
  {
   "cell_type": "code",
   "execution_count": 90,
   "id": "71d79b2d-6cb7-4f66-a91e-478c8041ab79",
   "metadata": {},
   "outputs": [
    {
     "data": {
      "text/plain": [
       "['ad', 'hiu', 'k', 'oj', 'we']"
      ]
     },
     "execution_count": 90,
     "metadata": {},
     "output_type": "execute_result"
    }
   ],
   "source": [
    "l4"
   ]
  },
  {
   "cell_type": "code",
   "execution_count": 91,
   "id": "658aded3-ac9e-4214-8a0b-ec5d7c8ee3e4",
   "metadata": {},
   "outputs": [],
   "source": [
    "l5=[\"pj\",98]"
   ]
  },
  {
   "cell_type": "code",
   "execution_count": 92,
   "id": "9999e85e-45b0-4e4e-836d-cbafa16f1717",
   "metadata": {},
   "outputs": [
    {
     "ename": "TypeError",
     "evalue": "'<' not supported between instances of 'int' and 'str'",
     "output_type": "error",
     "traceback": [
      "\u001b[0;31m---------------------------------------------------------------------------\u001b[0m",
      "\u001b[0;31mTypeError\u001b[0m                                 Traceback (most recent call last)",
      "Cell \u001b[0;32mIn[92], line 1\u001b[0m\n\u001b[0;32m----> 1\u001b[0m \u001b[43ml5\u001b[49m\u001b[38;5;241;43m.\u001b[39;49m\u001b[43msort\u001b[49m\u001b[43m(\u001b[49m\u001b[43m)\u001b[49m\n",
      "\u001b[0;31mTypeError\u001b[0m: '<' not supported between instances of 'int' and 'str'"
     ]
    }
   ],
   "source": [
    "l5.sort()"
   ]
  },
  {
   "cell_type": "code",
   "execution_count": 93,
   "id": "a071978f-873e-42e7-b312-1f57c4237871",
   "metadata": {},
   "outputs": [],
   "source": [
    "l4.sort(reverse=True )"
   ]
  },
  {
   "cell_type": "code",
   "execution_count": null,
   "id": "b353632f-048e-44ae-bc5a-4399bfdce6c4",
   "metadata": {},
   "outputs": [],
   "source": [
    "l4"
   ]
  },
  {
   "cell_type": "code",
   "execution_count": 94,
   "id": "c964cca5-ed36-45af-a19f-4895bc36025c",
   "metadata": {},
   "outputs": [
    {
     "data": {
      "text/plain": [
       "1"
      ]
     },
     "execution_count": 94,
     "metadata": {},
     "output_type": "execute_result"
    }
   ],
   "source": [
    "l.count(\"prashant\")"
   ]
  },
  {
   "cell_type": "code",
   "execution_count": 95,
   "id": "4364228c-a865-4a7d-8dc4-429fe7322ea5",
   "metadata": {},
   "outputs": [
    {
     "data": {
      "text/plain": [
       "8"
      ]
     },
     "execution_count": 95,
     "metadata": {},
     "output_type": "execute_result"
    }
   ],
   "source": [
    "l.index(\"prashant\")"
   ]
  },
  {
   "cell_type": "code",
   "execution_count": 96,
   "id": "ff89c302-3671-4942-b4b9-aff2054ce8df",
   "metadata": {},
   "outputs": [],
   "source": [
    "l6=\"asd\""
   ]
  },
  {
   "cell_type": "code",
   "execution_count": 97,
   "id": "eaab1966-276c-4ddc-9fa0-e8df1ff0ea9e",
   "metadata": {},
   "outputs": [
    {
     "ename": "AttributeError",
     "evalue": "'str' object has no attribute 'insert'",
     "output_type": "error",
     "traceback": [
      "\u001b[0;31m---------------------------------------------------------------------------\u001b[0m",
      "\u001b[0;31mAttributeError\u001b[0m                            Traceback (most recent call last)",
      "Cell \u001b[0;32mIn[97], line 1\u001b[0m\n\u001b[0;32m----> 1\u001b[0m \u001b[43ml6\u001b[49m\u001b[38;5;241;43m.\u001b[39;49m\u001b[43minsert\u001b[49m(\u001b[38;5;241m1\u001b[39m,\u001b[38;5;124m\"\u001b[39m\u001b[38;5;124me\u001b[39m\u001b[38;5;124m\"\u001b[39m)\n",
      "\u001b[0;31mAttributeError\u001b[0m: 'str' object has no attribute 'insert'"
     ]
    }
   ],
   "source": [
    "l6.insert(1,\"e\")"
   ]
  },
  {
   "cell_type": "code",
   "execution_count": 98,
   "id": "7c519a47-3012-4b7e-a376-6ee010718203",
   "metadata": {},
   "outputs": [],
   "source": [
    "l5[0]=\"Prashant\""
   ]
  },
  {
   "cell_type": "code",
   "execution_count": 99,
   "id": "e16e0284-fc1a-4f33-9ae0-41b20d93789a",
   "metadata": {},
   "outputs": [
    {
     "data": {
      "text/plain": [
       "['Prashant', 98]"
      ]
     },
     "execution_count": 99,
     "metadata": {},
     "output_type": "execute_result"
    }
   ],
   "source": [
    "l5"
   ]
  },
  {
   "cell_type": "code",
   "execution_count": 100,
   "id": "8ed57d2a-3df6-401e-aa54-5dea1877c572",
   "metadata": {},
   "outputs": [
    {
     "data": {
      "text/plain": [
       "'prashant'"
      ]
     },
     "execution_count": 100,
     "metadata": {},
     "output_type": "execute_result"
    }
   ],
   "source": [
    "l6.replace(\"asd\",\"prashant\")"
   ]
  },
  {
   "cell_type": "code",
   "execution_count": 101,
   "id": "7615f013-2b34-4db6-b5be-b2282564c22c",
   "metadata": {},
   "outputs": [
    {
     "data": {
      "text/plain": [
       "'asd'"
      ]
     },
     "execution_count": 101,
     "metadata": {},
     "output_type": "execute_result"
    }
   ],
   "source": [
    "l6"
   ]
  },
  {
   "cell_type": "code",
   "execution_count": 102,
   "id": "e485787e-caa1-4ef9-84c3-ea41e3313b93",
   "metadata": {},
   "outputs": [],
   "source": [
    "l6=l6.replace(\"asd\",\"prashant\")"
   ]
  },
  {
   "cell_type": "code",
   "execution_count": 103,
   "id": "258230c1-6928-4a76-a454-60e4bc7f1f08",
   "metadata": {},
   "outputs": [
    {
     "data": {
      "text/plain": [
       "'prashant'"
      ]
     },
     "execution_count": 103,
     "metadata": {},
     "output_type": "execute_result"
    }
   ],
   "source": [
    "l6"
   ]
  },
  {
   "cell_type": "code",
   "execution_count": 104,
   "id": "b8a5c51a-3445-4188-a55f-c50de49bbcf9",
   "metadata": {},
   "outputs": [
    {
     "data": {
      "text/plain": [
       "'prashant'"
      ]
     },
     "execution_count": 104,
     "metadata": {},
     "output_type": "execute_result"
    }
   ],
   "source": [
    "l6"
   ]
  },
  {
   "cell_type": "code",
   "execution_count": 105,
   "id": "d6eeab98-bd00-4c52-bbe8-9fa91397f99f",
   "metadata": {},
   "outputs": [
    {
     "data": {
      "text/plain": [
       "'Prashant'"
      ]
     },
     "execution_count": 105,
     "metadata": {},
     "output_type": "execute_result"
    }
   ],
   "source": [
    "l6.replace(\"p\", \"P\")"
   ]
  },
  {
   "cell_type": "code",
   "execution_count": 106,
   "id": "ca5da9ea-7b3e-4af5-aa67-9b30970883f7",
   "metadata": {},
   "outputs": [
    {
     "data": {
      "text/plain": [
       "'prashant'"
      ]
     },
     "execution_count": 106,
     "metadata": {},
     "output_type": "execute_result"
    }
   ],
   "source": [
    "l6"
   ]
  },
  {
   "cell_type": "code",
   "execution_count": null,
   "id": "5b2e1173-ef8d-4cb5-bb8f-4e1ce84eabef",
   "metadata": {},
   "outputs": [],
   "source": []
  }
 ],
 "metadata": {
  "kernelspec": {
   "display_name": "Python 3 (ipykernel)",
   "language": "python",
   "name": "python3"
  },
  "language_info": {
   "codemirror_mode": {
    "name": "ipython",
    "version": 3
   },
   "file_extension": ".py",
   "mimetype": "text/x-python",
   "name": "python",
   "nbconvert_exporter": "python",
   "pygments_lexer": "ipython3",
   "version": "3.10.8"
  }
 },
 "nbformat": 4,
 "nbformat_minor": 5
}
