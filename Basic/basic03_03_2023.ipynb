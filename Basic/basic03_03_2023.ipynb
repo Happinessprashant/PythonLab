{
 "cells": [
  {
   "cell_type": "code",
   "execution_count": 1,
   "id": "bf071935",
   "metadata": {},
   "outputs": [],
   "source": [
    "l=[1,2,3,4,5]"
   ]
  },
  {
   "cell_type": "code",
   "execution_count": 2,
   "id": "530eeb9a",
   "metadata": {},
   "outputs": [
    {
     "data": {
      "text/plain": [
       "[1, 2, 3, 4, 5]"
      ]
     },
     "execution_count": 2,
     "metadata": {},
     "output_type": "execute_result"
    }
   ],
   "source": [
    "l"
   ]
  },
  {
   "cell_type": "code",
   "execution_count": 3,
   "id": "de52fcd5",
   "metadata": {},
   "outputs": [
    {
     "name": "stdout",
     "output_type": "stream",
     "text": [
      "1\n",
      "2\n",
      "3\n",
      "4\n",
      "5\n"
     ]
    }
   ],
   "source": [
    "for i in l:\n",
    "    print(i)"
   ]
  },
  {
   "cell_type": "code",
   "execution_count": 10,
   "id": "fd38e25c",
   "metadata": {},
   "outputs": [
    {
     "data": {
      "text/plain": [
       "5"
      ]
     },
     "execution_count": 10,
     "metadata": {},
     "output_type": "execute_result"
    }
   ],
   "source": [
    "length=len(l)\n",
    "length"
   ]
  },
  {
   "cell_type": "code",
   "execution_count": 9,
   "id": "e6a487ae",
   "metadata": {},
   "outputs": [
    {
     "name": "stdout",
     "output_type": "stream",
     "text": [
      "Prashant\n",
      "Prashant\n",
      "Prashant\n",
      "Prashant\n",
      "Prashant\n"
     ]
    }
   ],
   "source": [
    "for i in l:\n",
    "    print(\"Prashant\")"
   ]
  },
  {
   "cell_type": "code",
   "execution_count": 11,
   "id": "6e0fb85d",
   "metadata": {},
   "outputs": [
    {
     "name": "stdout",
     "output_type": "stream",
     "text": [
      "[1, 2, 3, 4, 5]\n",
      "[1, 2, 3, 4, 5]\n",
      "[1, 2, 3, 4, 5]\n",
      "[1, 2, 3, 4, 5]\n",
      "[1, 2, 3, 4, 5]\n"
     ]
    }
   ],
   "source": [
    "for i in l:\n",
    "    print(l)"
   ]
  },
  {
   "cell_type": "code",
   "execution_count": 13,
   "id": "abbf581f",
   "metadata": {},
   "outputs": [
    {
     "name": "stdout",
     "output_type": "stream",
     "text": [
      "Prashant\n",
      "Prashant\n",
      "Prashant\n",
      "Prashant\n",
      "Prashant\n",
      "else part\n"
     ]
    }
   ],
   "source": [
    "for i in l:\n",
    "    print(\"Prashant\")\n",
    "    \n",
    "else:\n",
    "    print(\"else part\")"
   ]
  },
  {
   "cell_type": "code",
   "execution_count": 14,
   "id": "6205fe3a",
   "metadata": {},
   "outputs": [
    {
     "name": "stdout",
     "output_type": "stream",
     "text": [
      "Prashant\n"
     ]
    }
   ],
   "source": [
    "for i in l:\n",
    "    print(\"Prashant\")\n",
    "    break;\n",
    "else:\n",
    "    print(\"else part\")"
   ]
  },
  {
   "cell_type": "code",
   "execution_count": 16,
   "id": "52351181",
   "metadata": {},
   "outputs": [
    {
     "name": "stdout",
     "output_type": "stream",
     "text": [
      "1\n",
      "2\n",
      "3\n",
      "4\n"
     ]
    }
   ],
   "source": [
    "for i in l:\n",
    "    print(i)\n",
    "    if(i==4):\n",
    "        \n",
    "        break;\n",
    "else:\n",
    "    print(\"else part\")"
   ]
  },
  {
   "cell_type": "code",
   "execution_count": 19,
   "id": "8165ab31",
   "metadata": {},
   "outputs": [
    {
     "name": "stdout",
     "output_type": "stream",
     "text": [
      "1\n",
      "2\n"
     ]
    }
   ],
   "source": [
    "for i in l:\n",
    "   \n",
    "    if(i==3):\n",
    "         \n",
    "        break\n",
    "    print(i)    \n",
    "else:\n",
    "    print(\"else part\")"
   ]
  },
  {
   "cell_type": "code",
   "execution_count": 22,
   "id": "9c2e03f0",
   "metadata": {},
   "outputs": [
    {
     "name": "stdout",
     "output_type": "stream",
     "text": [
      "1\n",
      "2\n",
      "4\n",
      "5\n",
      "else part\n"
     ]
    }
   ],
   "source": [
    "for i in l:\n",
    "    if(i==3):        \n",
    "        continue\n",
    "    print(i)    \n",
    "else:\n",
    "    print(\"else part\")"
   ]
  },
  {
   "cell_type": "code",
   "execution_count": 25,
   "id": "6b2545dd",
   "metadata": {
    "scrolled": true
   },
   "outputs": [
    {
     "name": "stdout",
     "output_type": "stream",
     "text": [
      "0\n",
      "1\n",
      "2\n",
      "3\n",
      "4\n",
      "else part\n"
     ]
    }
   ],
   "source": [
    "for i in range(5):\n",
    "    print(i)\n",
    "    if(i==3):\n",
    "         \n",
    "        break\n",
    "    print(i)    \n",
    "else:\n",
    "    print(\"else part\")"
   ]
  },
  {
   "cell_type": "code",
   "execution_count": 29,
   "id": "c1d4b472",
   "metadata": {},
   "outputs": [
    {
     "name": "stdout",
     "output_type": "stream",
     "text": [
      "0\n",
      "2\n",
      "4\n",
      "else part\n"
     ]
    }
   ],
   "source": [
    "for i in range(0,5,2):\n",
    "    print(i)  \n",
    "else:\n",
    "    print(\"else part\")"
   ]
  },
  {
   "cell_type": "code",
   "execution_count": 30,
   "id": "1853f0db",
   "metadata": {},
   "outputs": [
    {
     "name": "stdout",
     "output_type": "stream",
     "text": [
      "0\n",
      "0\n",
      "1\n",
      "1\n",
      "2\n",
      "2\n",
      "3\n"
     ]
    }
   ],
   "source": [
    "for i in range(5):\n",
    "    print(i)\n",
    "    if(i==3):        \n",
    "        break\n",
    "    print(i)    \n",
    "else:\n",
    "    print(\"else part\")"
   ]
  },
  {
   "cell_type": "code",
   "execution_count": 31,
   "id": "da9d47c0",
   "metadata": {},
   "outputs": [
    {
     "name": "stdout",
     "output_type": "stream",
     "text": [
      "prashant\n",
      "prashant\n",
      "prashant\n",
      "prashant\n",
      "prashant\n"
     ]
    }
   ],
   "source": [
    "for i in range(5):\n",
    "    print(\"prashant\")"
   ]
  },
  {
   "cell_type": "code",
   "execution_count": 39,
   "id": "b31b2d2e",
   "metadata": {},
   "outputs": [
    {
     "name": "stdout",
     "output_type": "stream",
     "text": [
      "0\n",
      "1\n",
      "2\n",
      "3\n",
      "4\n"
     ]
    }
   ],
   "source": [
    "for i in range(6):\n",
    "    if i==5:\n",
    "        break\n",
    "    print(i)\n",
    "        \n",
    "else:\n",
    "    print(\"you are in else Block\")\n",
    " "
   ]
  },
  {
   "cell_type": "code",
   "execution_count": 40,
   "id": "2abd40a8",
   "metadata": {},
   "outputs": [
    {
     "name": "stdout",
     "output_type": "stream",
     "text": [
      "0\n",
      "1\n",
      "2\n",
      "3\n",
      "4\n",
      "you are in else Block\n"
     ]
    }
   ],
   "source": [
    "for i in range(6):\n",
    "    if i==5:\n",
    "        continue\n",
    "    print(i)\n",
    "        \n",
    "else:\n",
    "    print(\"you are in else Block\")\n",
    " "
   ]
  },
  {
   "cell_type": "code",
   "execution_count": 53,
   "id": "0a77dce5",
   "metadata": {},
   "outputs": [
    {
     "name": "stdout",
     "output_type": "stream",
     "text": [
      "Even Numbers [2, 4, 6, 8, 10, 12, 14, 16, 18, 20, 22, 24, 26, 28]\n",
      "Odd Numbers [1, 3, 5, 7, 9, 11, 13, 15, 17, 19, 21, 23, 25, 27, 29]\n"
     ]
    }
   ],
   "source": [
    "even=[]\n",
    "odd=[]\n",
    "for i in range(1,30):\n",
    "    if i%2==0:\n",
    "        even.append(i)\n",
    "    else:\n",
    "        odd.append(i)\n",
    "else:\n",
    "    print(\"Even Numbers\",even)\n",
    "    print(\"Odd Numbers\",odd)"
   ]
  },
  {
   "cell_type": "code",
   "execution_count": 54,
   "id": "98d089d1",
   "metadata": {},
   "outputs": [
    {
     "name": "stdout",
     "output_type": "stream",
     "text": [
      "jadhav\n",
      "prashant\n",
      "jadhav\n",
      "prashant\n",
      "jadhav\n",
      "prashant\n",
      "jadhav\n",
      "prashant\n",
      "jadhav\n",
      "prashant\n",
      "jadhav\n",
      "prashant\n",
      "jadhav\n",
      "prashant\n",
      "jadhav\n",
      "prashant\n",
      "jadhav\n",
      "prashant\n",
      "jadhav\n",
      "prashant\n",
      "jadhav\n",
      "prashant\n",
      "jadhav\n",
      "prashant\n",
      "jadhav\n",
      "prashant\n",
      "jadhav\n",
      "prashant\n",
      "jadhav\n",
      "Even Numbers [2, 4, 6, 8, 10, 12, 14, 16, 18, 20, 22, 24, 26, 28]\n",
      "Odd Numbers [1, 3, 5, 7, 9, 11, 13, 15, 17, 19, 21, 23, 25, 27, 29]\n"
     ]
    }
   ],
   "source": [
    "even=[]\n",
    "odd=[]\n",
    "for i in range(1,30):\n",
    "    if i%2==0:\n",
    "        print(\"prashant\")\n",
    "        even.append(i)\n",
    "    else:\n",
    "        print(\"jadhav\")\n",
    "        odd.append(i)\n",
    "else:\n",
    "    print(\"Even Numbers\",even)\n",
    "    print(\"Odd Numbers\",odd)"
   ]
  },
  {
   "cell_type": "code",
   "execution_count": 55,
   "id": "78db6589",
   "metadata": {},
   "outputs": [
    {
     "name": "stdout",
     "output_type": "stream",
     "text": [
      "p\n",
      "r\n",
      "a\n",
      "s\n",
      "h\n",
      "a\n",
      "n\n",
      "t\n"
     ]
    }
   ],
   "source": [
    "for i in \"prashant\":\n",
    "    print(i)"
   ]
  },
  {
   "cell_type": "code",
   "execution_count": 56,
   "id": "6ebd654c",
   "metadata": {},
   "outputs": [
    {
     "name": "stdout",
     "output_type": "stream",
     "text": [
      "0\n",
      "1\n",
      "2\n"
     ]
    }
   ],
   "source": [
    "for x in range(6):\n",
    "  if x == 3: break\n",
    "  print(x)\n",
    "else:\n",
    "  print(\"Finally finished!\")"
   ]
  },
  {
   "cell_type": "code",
   "execution_count": 57,
   "id": "cea8d8d7",
   "metadata": {},
   "outputs": [],
   "source": [
    "l=[\"prashant\",\"jadhav\",\"mangoli\"]"
   ]
  },
  {
   "cell_type": "code",
   "execution_count": 59,
   "id": "c91f0f3f",
   "metadata": {},
   "outputs": [
    {
     "name": "stdout",
     "output_type": "stream",
     "text": [
      "tnahsarp\n",
      "vahdaj\n",
      "ilognam\n"
     ]
    }
   ],
   "source": [
    "for i in l:\n",
    "    print(i[::-1])"
   ]
  },
  {
   "cell_type": "code",
   "execution_count": 64,
   "id": "8f6da100",
   "metadata": {},
   "outputs": [
    {
     "name": "stdout",
     "output_type": "stream",
     "text": [
      "prashant\n",
      "jadhav\n",
      "mangoli\n"
     ]
    }
   ],
   "source": [
    "for i in range(len(l)):\n",
    "    print(l[i])\n",
    "    "
   ]
  },
  {
   "cell_type": "code",
   "execution_count": 81,
   "id": "8d69ac43",
   "metadata": {},
   "outputs": [
    {
     "ename": "IndexError",
     "evalue": "list index out of range",
     "output_type": "error",
     "traceback": [
      "\u001b[1;31m---------------------------------------------------------------------------\u001b[0m",
      "\u001b[1;31mIndexError\u001b[0m                                Traceback (most recent call last)",
      "Cell \u001b[1;32mIn[81], line 2\u001b[0m\n\u001b[0;32m      1\u001b[0m \u001b[38;5;28;01mfor\u001b[39;00m i \u001b[38;5;129;01min\u001b[39;00m \u001b[38;5;28mrange\u001b[39m(\u001b[38;5;28mlen\u001b[39m(l),\u001b[38;5;241m0\u001b[39m,\u001b[38;5;241m-\u001b[39m\u001b[38;5;241m1\u001b[39m):\n\u001b[1;32m----> 2\u001b[0m     \u001b[38;5;28mprint\u001b[39m(\u001b[43ml\u001b[49m\u001b[43m[\u001b[49m\u001b[43mi\u001b[49m\u001b[43m]\u001b[49m)\n",
      "\u001b[1;31mIndexError\u001b[0m: list index out of range"
     ]
    }
   ],
   "source": [
    "for i in range(len(l),0,-1):\n",
    "    print(l[i])\n",
    "    "
   ]
  },
  {
   "cell_type": "code",
   "execution_count": 79,
   "id": "8f427487",
   "metadata": {},
   "outputs": [
    {
     "name": "stdout",
     "output_type": "stream",
     "text": [
      "mangoli\n",
      "jadhav\n",
      "prashant\n"
     ]
    }
   ],
   "source": [
    "for i in range(len(l)-1,-1,-1):\n",
    "    print(l[i])\n",
    "    "
   ]
  },
  {
   "cell_type": "code",
   "execution_count": 82,
   "id": "631cf5b2",
   "metadata": {},
   "outputs": [
    {
     "data": {
      "text/plain": [
       "['prashant', 'jadhav', 'mangoli']"
      ]
     },
     "execution_count": 82,
     "metadata": {},
     "output_type": "execute_result"
    }
   ],
   "source": [
    "l"
   ]
  },
  {
   "cell_type": "code",
   "execution_count": 103,
   "id": "6d180a21",
   "metadata": {},
   "outputs": [],
   "source": [
    "l1=[\"prashant\", \"jadhav\", \"mangoli\"]\n",
    "l1.reverse()\n"
   ]
  },
  {
   "cell_type": "code",
   "execution_count": 109,
   "id": "b9f5c9d4",
   "metadata": {},
   "outputs": [
    {
     "data": {
      "text/plain": [
       "['mangoli', 'jadhav', 'prashant']"
      ]
     },
     "execution_count": 109,
     "metadata": {},
     "output_type": "execute_result"
    }
   ],
   "source": [
    "l1"
   ]
  },
  {
   "cell_type": "code",
   "execution_count": 111,
   "id": "1bf429e2",
   "metadata": {},
   "outputs": [
    {
     "name": "stdout",
     "output_type": "stream",
     "text": [
      "mangoli\n",
      "jadhav\n",
      "prashant\n"
     ]
    }
   ],
   "source": [
    "for i in l1:\n",
    "    print(i)"
   ]
  },
  {
   "cell_type": "code",
   "execution_count": 108,
   "id": "201f83d8",
   "metadata": {},
   "outputs": [
    {
     "data": {
      "text/plain": [
       "['mangoli', 'jadhav', 'prashant']"
      ]
     },
     "execution_count": 108,
     "metadata": {},
     "output_type": "execute_result"
    }
   ],
   "source": [
    "l1"
   ]
  },
  {
   "cell_type": "code",
   "execution_count": 118,
   "id": "b41f1cd2",
   "metadata": {},
   "outputs": [],
   "source": [
    "l2=[23,5,45,56,6,67,67,78,87,8998 ,9,9,8]"
   ]
  },
  {
   "cell_type": "code",
   "execution_count": 119,
   "id": "4e3c420c",
   "metadata": {},
   "outputs": [
    {
     "name": "stdout",
     "output_type": "stream",
     "text": [
      "Even Numbers :-  [56, 6, 78, 8998, 8]\n",
      "odd  Numbers :-  [23, 5, 45, 67, 67, 87, 9, 9]\n"
     ]
    }
   ],
   "source": [
    "eve=[]\n",
    "odd=[]\n",
    "\n",
    "for i in l2:\n",
    "    if i%2==0:\n",
    "        eve.append(i)\n",
    "    else:\n",
    "        odd.append(i)\n",
    "\n",
    "print(\"Even Numbers :- \", eve)        \n",
    "print(\"odd  Numbers :- \", odd)"
   ]
  },
  {
   "cell_type": "code",
   "execution_count": 120,
   "id": "56bb085f",
   "metadata": {},
   "outputs": [
    {
     "data": {
      "text/plain": [
       "[0, 2, 4, 6, 8, 10, 12]"
      ]
     },
     "execution_count": 120,
     "metadata": {},
     "output_type": "execute_result"
    }
   ],
   "source": [
    "list(range(0,len(l2),2))"
   ]
  },
  {
   "cell_type": "code",
   "execution_count": 121,
   "id": "5718e2e9",
   "metadata": {},
   "outputs": [
    {
     "name": "stdout",
     "output_type": "stream",
     "text": [
      "23\n",
      "45\n",
      "6\n",
      "67\n",
      "87\n",
      "9\n",
      "8\n"
     ]
    }
   ],
   "source": [
    "for i in range(0,len(l2),2):\n",
    "    print(l2[i])"
   ]
  },
  {
   "cell_type": "code",
   "execution_count": 122,
   "id": "72b084c2",
   "metadata": {},
   "outputs": [
    {
     "data": {
      "text/plain": [
       "[23, 5, 45, 56, 6, 67, 67, 78, 87, 8998, 9, 9, 8]"
      ]
     },
     "execution_count": 122,
     "metadata": {},
     "output_type": "execute_result"
    }
   ],
   "source": [
    "l2"
   ]
  },
  {
   "cell_type": "code",
   "execution_count": 123,
   "id": "40258aa3",
   "metadata": {},
   "outputs": [
    {
     "name": "stdout",
     "output_type": "stream",
     "text": [
      "5\n",
      "56\n",
      "67\n",
      "78\n",
      "8998\n",
      "9\n"
     ]
    }
   ],
   "source": [
    "for i in range(1,len(l2),2):\n",
    "    print(l2[i])"
   ]
  },
  {
   "cell_type": "code",
   "execution_count": 124,
   "id": "d60ca442",
   "metadata": {},
   "outputs": [
    {
     "data": {
      "text/plain": [
       "['mangoli', 'jadhav', 'prashant']"
      ]
     },
     "execution_count": 124,
     "metadata": {},
     "output_type": "execute_result"
    }
   ],
   "source": [
    "l1"
   ]
  },
  {
   "cell_type": "code",
   "execution_count": 127,
   "id": "990fea81",
   "metadata": {},
   "outputs": [
    {
     "name": "stdout",
     "output_type": "stream",
     "text": [
      "Even Indices mangoli\n",
      "odd Indices  jadhav\n",
      "Even Indices prashant\n"
     ]
    }
   ],
   "source": [
    "for i in range(len(l1)):\n",
    "    if(i%2==0):\n",
    "        print(\"Even Indices \"+l[i])\n",
    "    else:\n",
    "        print(\"odd Indices \",l[i])"
   ]
  },
  {
   "cell_type": "code",
   "execution_count": 132,
   "id": "5dfcef81",
   "metadata": {},
   "outputs": [
    {
     "name": "stdout",
     "output_type": "stream",
     "text": [
      "Even Indices mangoli\n",
      "odd Indices  jadhav\n",
      "Even Indices prashant\n"
     ]
    }
   ],
   "source": [
    "for i in range(len(l1)):\n",
    "    if(i%2==0):\n",
    "        print(\"Even Indices \"+l[i])\n",
    "    else:\n",
    "        print(\"odd Indices \",l[i])"
   ]
  },
  {
   "cell_type": "code",
   "execution_count": 134,
   "id": "69b2c1be",
   "metadata": {},
   "outputs": [
    {
     "name": "stdout",
     "output_type": "stream",
     "text": [
      "mangoli\n",
      "prashant\n"
     ]
    }
   ],
   "source": [
    "for i in range(0 ,len(l1),2):\n",
    "    print(l[i])"
   ]
  },
  {
   "cell_type": "code",
   "execution_count": null,
   "id": "c4fd1175",
   "metadata": {},
   "outputs": [],
   "source": []
  }
 ],
 "metadata": {
  "kernelspec": {
   "display_name": "Python 3 (ipykernel)",
   "language": "python",
   "name": "python3"
  },
  "language_info": {
   "codemirror_mode": {
    "name": "ipython",
    "version": 3
   },
   "file_extension": ".py",
   "mimetype": "text/x-python",
   "name": "python",
   "nbconvert_exporter": "python",
   "pygments_lexer": "ipython3",
   "version": "3.10.9"
  }
 },
 "nbformat": 4,
 "nbformat_minor": 5
}
